{
 "cells": [
  {
   "cell_type": "markdown",
   "id": "dd293490",
   "metadata": {},
   "source": [
    "## Q1 최종코드"
   ]
  },
  {
   "cell_type": "code",
   "execution_count": 32,
   "id": "1d2a1655",
   "metadata": {},
   "outputs": [
    {
     "name": "stdout",
     "output_type": "stream",
     "text": [
      "3 5 7 9 1\n",
      "[-1]\n"
     ]
    }
   ],
   "source": [
    "arr = list(map(int, input().split()))\n",
    "answer = []\n",
    "count = 0\n",
    "\n",
    "#중복제거시킨애들\n",
    "num_list = []\n",
    "for value in arr : \n",
    "    if value not in num_list : \n",
    "        num_list.append(value)\n",
    "        \n",
    "for j in num_list :\n",
    "    cnt = arr.count(j)\n",
    "    if cnt != 1 : \n",
    "        answer.append(cnt)\n",
    "        cnt = 0\n",
    "\n",
    "    \n",
    "if len(answer) == 0 :\n",
    "    answer.append(-1)\n",
    "    \n",
    "print(answer)"
   ]
  },
  {
   "cell_type": "markdown",
   "id": "d8311f8c",
   "metadata": {},
   "source": [
    "## 실패한 코드"
   ]
  },
  {
   "cell_type": "code",
   "execution_count": 10,
   "id": "4d07e412",
   "metadata": {},
   "outputs": [
    {
     "name": "stdout",
     "output_type": "stream",
     "text": [
      "1223\n"
     ]
    },
    {
     "ename": "TypeError",
     "evalue": "list indices must be integers or slices, not str",
     "output_type": "error",
     "traceback": [
      "\u001b[0;31m---------------------------------------------------------------------------\u001b[0m",
      "\u001b[0;31mTypeError\u001b[0m                                 Traceback (most recent call last)",
      "Cell \u001b[0;32mIn[10], line 9\u001b[0m\n\u001b[1;32m      7\u001b[0m \u001b[38;5;28;01mfor\u001b[39;00m j \u001b[38;5;129;01min\u001b[39;00m arr : \n\u001b[1;32m      8\u001b[0m     \u001b[38;5;28;01mfor\u001b[39;00m k \u001b[38;5;129;01min\u001b[39;00m copy_arr :\n\u001b[0;32m----> 9\u001b[0m         \u001b[38;5;28;01mif\u001b[39;00m \u001b[43marr\u001b[49m\u001b[43m[\u001b[49m\u001b[43mj\u001b[49m\u001b[43m]\u001b[49m \u001b[38;5;241m==\u001b[39m copy_arr[k] : \n\u001b[1;32m     10\u001b[0m             answer\u001b[38;5;241m.\u001b[39mappend(\u001b[38;5;241m-\u001b[39m\u001b[38;5;241m1\u001b[39m)\n\u001b[1;32m     11\u001b[0m             \u001b[38;5;28;01mcontinue\u001b[39;00m ;\n",
      "\u001b[0;31mTypeError\u001b[0m: list indices must be integers or slices, not str"
     ]
    }
   ],
   "source": [
    "arr = list(input())\n",
    "copy_arr = []\n",
    "anser = []\n",
    "for i in arr :\n",
    "    copy_arr.append(i)\n",
    "\n",
    "for j in arr : \n",
    "    for k in copy_arr :\n",
    "        if arr[j] == copy_arr[k] : \n",
    "            answer.append(-1)\n",
    "            continue ;\n",
    "        elif arr[j] == copy_arr[k] : \n",
    "                answer.append(arr[k])\n",
    "                \n",
    "print(set(answer))"
   ]
  },
  {
   "cell_type": "code",
   "execution_count": 26,
   "id": "7c55b029",
   "metadata": {},
   "outputs": [
    {
     "name": "stdout",
     "output_type": "stream",
     "text": [
      "1 2 3 3 3 3 4 4\n"
     ]
    },
    {
     "ename": "IndexError",
     "evalue": "list index out of range",
     "output_type": "error",
     "traceback": [
      "\u001b[0;31m---------------------------------------------------------------------------\u001b[0m",
      "\u001b[0;31mIndexError\u001b[0m                                Traceback (most recent call last)",
      "Cell \u001b[0;32mIn[26], line 16\u001b[0m\n\u001b[1;32m     14\u001b[0m \u001b[38;5;28;01mfor\u001b[39;00m i \u001b[38;5;129;01min\u001b[39;00m num_list :\n\u001b[1;32m     15\u001b[0m     \u001b[38;5;28;01mfor\u001b[39;00m j \u001b[38;5;129;01min\u001b[39;00m \u001b[38;5;28mrange\u001b[39m(\u001b[38;5;28mlen\u001b[39m(arr)) : \n\u001b[0;32m---> 16\u001b[0m         \u001b[38;5;28;01mif\u001b[39;00m \u001b[43mnum_list\u001b[49m\u001b[43m[\u001b[49m\u001b[43mi\u001b[49m\u001b[43m]\u001b[49m \u001b[38;5;241m==\u001b[39m arr[j] : \n\u001b[1;32m     17\u001b[0m             count\u001b[38;5;241m+\u001b[39m\u001b[38;5;241m=\u001b[39m\u001b[38;5;241m1\u001b[39m\n\u001b[1;32m     18\u001b[0m         \u001b[38;5;28;01melse\u001b[39;00m : \n",
      "\u001b[0;31mIndexError\u001b[0m: list index out of range"
     ]
    }
   ],
   "source": [
    "arr = list(map(int, input().split()))\n",
    "answer = []\n",
    "count = 0\n",
    "\n",
    "#중복제거시킨애들\n",
    "num_list = []\n",
    "for value in arr : \n",
    "    if value not in num_list : \n",
    "        num_list.append(value)\n",
    "        \n",
    "\n",
    "\n",
    "#num_list = [2,3,4,5]\n",
    "for i in num_list :\n",
    "    for j in range(len(arr)) : \n",
    "        if num_list[i] == arr[j] : \n",
    "            count+=1\n",
    "        else : \n",
    "                continue ;\n",
    "    if count != 1 : \n",
    "        answer.append(count)\n",
    "    count = 0\n",
    "    \n",
    "if len(answer) == 0 :\n",
    "    answer.append(-1)\n",
    "    \n",
    "print(answer)\n",
    "    \n",
    "            \n",
    "            \n",
    "            "
   ]
  }
 ],
 "metadata": {
  "kernelspec": {
   "display_name": "Python 3 (ipykernel)",
   "language": "python",
   "name": "python3"
  },
  "language_info": {
   "codemirror_mode": {
    "name": "ipython",
    "version": 3
   },
   "file_extension": ".py",
   "mimetype": "text/x-python",
   "name": "python",
   "nbconvert_exporter": "python",
   "pygments_lexer": "ipython3",
   "version": "3.11.1"
  }
 },
 "nbformat": 4,
 "nbformat_minor": 5
}
