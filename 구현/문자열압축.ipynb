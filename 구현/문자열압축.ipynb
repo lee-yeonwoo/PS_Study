{
 "cells": [
  {
   "cell_type": "code",
   "execution_count": null,
   "id": "a9492a86",
   "metadata": {},
   "outputs": [],
   "source": [
    "def solution(s):\n",
    "    answer = len(s)\n",
    "    \n",
    "    for step in range(1, len(s) // 2 + 1):\n",
    "        compressed = \"\"\n",
    "        prev = s[0:step]\n",
    "        count = 1\n",
    "        \n",
    "        for j in range(step,len(s),step) : \n",
    "            if prev == s[j:j+step]:\n",
    "                count += 1\n",
    "                \n",
    "            else:\n",
    "                compressed += str(count) + prev if count >= 2 else prev\n",
    "                count = 1\n",
    "                prev = s[j:j+step]\n",
    "                \n",
    "        compressed += str(count) + prev if count >= 2 else prev\n",
    "        answer = min(answer,len(compressed))\n",
    "\n",
    "    return answer"
   ]
  }
 ],
 "metadata": {
  "kernelspec": {
   "display_name": "Python 3 (ipykernel)",
   "language": "python",
   "name": "python3"
  },
  "language_info": {
   "codemirror_mode": {
    "name": "ipython",
    "version": 3
   },
   "file_extension": ".py",
   "mimetype": "text/x-python",
   "name": "python",
   "nbconvert_exporter": "python",
   "pygments_lexer": "ipython3",
   "version": "3.11.1"
  }
 },
 "nbformat": 4,
 "nbformat_minor": 5
}
