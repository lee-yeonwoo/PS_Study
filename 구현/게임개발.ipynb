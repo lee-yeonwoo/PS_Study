{
 "cells": [
  {
   "cell_type": "code",
   "execution_count": 10,
   "id": "0bb3baa8",
   "metadata": {},
   "outputs": [
    {
     "name": "stdout",
     "output_type": "stream",
     "text": [
      "4 4\n"
     ]
    },
    {
     "ename": "TypeError",
     "evalue": "'list' object is not callable",
     "output_type": "error",
     "traceback": [
      "\u001b[0;31m---------------------------------------------------------------------------\u001b[0m",
      "\u001b[0;31mTypeError\u001b[0m                                 Traceback (most recent call last)",
      "Cell \u001b[0;32mIn[10], line 1\u001b[0m\n\u001b[0;32m----> 1\u001b[0m n, m \u001b[38;5;241m=\u001b[39m \u001b[38;5;28;43mmap\u001b[39;49m\u001b[43m(\u001b[49m\u001b[38;5;28;43mint\u001b[39;49m\u001b[43m,\u001b[49m\u001b[38;5;28;43minput\u001b[39;49m\u001b[43m(\u001b[49m\u001b[43m)\u001b[49m\u001b[38;5;241;43m.\u001b[39;49m\u001b[43msplit\u001b[49m\u001b[43m(\u001b[49m\u001b[43m)\u001b[49m\u001b[43m)\u001b[49m\n\u001b[1;32m      2\u001b[0m x, y, direction \u001b[38;5;241m=\u001b[39m \u001b[38;5;28mmap\u001b[39m(\u001b[38;5;28mint\u001b[39m,\u001b[38;5;28minput\u001b[39m()\u001b[38;5;241m.\u001b[39msplit())\n\u001b[1;32m      3\u001b[0m count \u001b[38;5;241m=\u001b[39m \u001b[38;5;241m0\u001b[39m\n",
      "\u001b[0;31mTypeError\u001b[0m: 'list' object is not callable"
     ]
    }
   ],
   "source": [
    "n, m = map(int,input().split())\n",
    "x, y, direction = map(int,input().split())\n",
    "count = 0\n",
    "\n",
    "#방문체크\n",
    "d = [[0]*m for _ in range(n)]\n",
    "\n",
    "### 현재좌표 방문처리 안했다 !! 답이 1적게 나올 것임\n",
    "d[x][y] = 1\n",
    "\n",
    "#북동남서 위치 옮길때\n",
    "dx = [-1,0,1,0]\n",
    "dy = [0,1,0,-1]\n",
    "\n",
    "\n",
    "\n",
    "#####지도데이터 받아오기(2차원배열 입력)\n",
    "map = []\n",
    "for i in range(n):\n",
    "    map.append(list(map(int,input().split())))\n",
    "\n",
    "    \n",
    "\n",
    "\n",
    "#왼쪽으로 회전\n",
    "def turn_left() :\n",
    "    global direction\n",
    "    direction -= 1\n",
    "    if direction == -1 :\n",
    "        direction = 3\n",
    "        \n",
    "while True :\n",
    "    #### 초깃값 설정\n",
    "    count = 1\n",
    "    turn_time = 0 \n",
    "    turn_left()\n",
    "    #전진을 해보자\n",
    "    nx = x + dx[direction]\n",
    "    ny = y + dy[direction]\n",
    "    \n",
    "    # 전진한 칸의 방문이 안되어있고, 육지라면 \n",
    "    if d[nx][ny] == 0 and map[nx][ny] == 0 :\n",
    "        \n",
    "        #### 방문자 체크 \n",
    "        d[nx][ny] = 1\n",
    "        x = nx\n",
    "        y = ny\n",
    "        count  += 1\n",
    "        turn_time = 0\n",
    "        continue\n",
    "    #전진한 칸이 방문이 되어있거나 바다라면\n",
    "    else : \n",
    "        #돌기만 함\n",
    "        turn_time += 1\n",
    "    if turn_time == 4 :\n",
    "        # 뒤로가기\n",
    "        nx = x - dx[direction]\n",
    "        ny = y - dy[direction]\n",
    "        \n",
    "    if d[nx][ny] == 0 and map[nx][ny] == 0 :\n",
    "        x = nx\n",
    "        y = ny\n",
    "        count  += 1\n",
    "        turn_time = 0\n",
    "    #뒤로 갔는데 바다라면\n",
    "    if map[nx][ny] == 1 :\n",
    "        break\n",
    "        turn_time = 0\n",
    "print(count)\n",
    "        "
   ]
  },
  {
   "cell_type": "code",
   "execution_count": null,
   "id": "73a09b58",
   "metadata": {},
   "outputs": [],
   "source": []
  }
 ],
 "metadata": {
  "kernelspec": {
   "display_name": "Python 3 (ipykernel)",
   "language": "python",
   "name": "python3"
  },
  "language_info": {
   "codemirror_mode": {
    "name": "ipython",
    "version": 3
   },
   "file_extension": ".py",
   "mimetype": "text/x-python",
   "name": "python",
   "nbconvert_exporter": "python",
   "pygments_lexer": "ipython3",
   "version": "3.11.1"
  }
 },
 "nbformat": 4,
 "nbformat_minor": 5
}
