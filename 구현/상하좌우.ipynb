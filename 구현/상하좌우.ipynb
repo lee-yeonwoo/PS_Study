{
 "cells": [
  {
   "cell_type": "code",
   "execution_count": null,
   "id": "6cb650fb",
   "metadata": {},
   "outputs": [],
   "source": [
    "N = input()\n",
    "x,y = 1,1\n",
    "plans = input().split()\n",
    "\n",
    "\n",
    "dx = [0,0,-1,1]\n",
    "dy = [-1,1,0,0]\n",
    "move_types = ['L','R','U','D']\n",
    "\n",
    "for plan in plans :\n",
    "    for i in range(len(move_types))\n",
    "    if plan == move_types[i]:\n",
    "        nx = x + dx[i]\n",
    "        ny = y + dy[i]\n",
    "        \n",
    "        \n",
    "        \n",
    "    if nx < 1 or ny < 1 or nx > n or ny > n :\n",
    "        continue\n",
    "        \n",
    "x,y = nx,ny\n",
    "\n",
    "print(x,y)"
   ]
  }
 ],
 "metadata": {
  "kernelspec": {
   "display_name": "Python 3 (ipykernel)",
   "language": "python",
   "name": "python3"
  },
  "language_info": {
   "codemirror_mode": {
    "name": "ipython",
    "version": 3
   },
   "file_extension": ".py",
   "mimetype": "text/x-python",
   "name": "python",
   "nbconvert_exporter": "python",
   "pygments_lexer": "ipython3",
   "version": "3.11.1"
  }
 },
 "nbformat": 4,
 "nbformat_minor": 5
}
