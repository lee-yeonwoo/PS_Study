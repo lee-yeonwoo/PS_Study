{
 "cells": [
  {
   "cell_type": "markdown",
   "id": "882bf2cc",
   "metadata": {},
   "source": [
    "### 내가 짠거"
   ]
  },
  {
   "cell_type": "code",
   "execution_count": null,
   "id": "92f5bf71",
   "metadata": {},
   "outputs": [],
   "source": [
    "R, C = map(int,input().split())\n",
    "answer = 0 \n",
    "board = []\n",
    "\n",
    "for row in range(R):\n",
    "    row = list(map(int,input().split()))\n",
    "    board.append()\n",
    "    \n",
    "t = int(input().split())\n"
   ]
  },
  {
   "cell_type": "markdown",
   "id": "b50d5fda",
   "metadata": {},
   "source": [
    "### 답보고 고친거"
   ]
  },
  {
   "cell_type": "code",
   "execution_count": null,
   "id": "1675d620",
   "metadata": {},
   "outputs": [],
   "source": [
    "r,c,t = map(int, input().split())\n",
    "board = [list(map(int, input().split())) for _ in range(r)]\n",
    "\n",
    "# 공기청정기의 위치를 정하기 애매했는데, 아예 이 위치를 찾고 범위를 나누면 편하다 ! \n",
    "up = -1\n",
    "down = -1\n",
    "\n",
    "# 공기 청정기의 위치 찾기\n",
    "for i in range(r) : \n",
    "    if board[i][0] == -1 :\n",
    "        up = i\n",
    "        down = i + 1 \n",
    "        break\n"
   ]
  },
  {
   "cell_type": "markdown",
   "id": "0734fc2e",
   "metadata": {},
   "source": [
    "### 놓쳤던 부분, 기억해야 할 부분"
   ]
  },
  {
   "cell_type": "code",
   "execution_count": null,
   "id": "46bd140a",
   "metadata": {},
   "outputs": [],
   "source": [
    "## 2차원 배열 받아올 때 \n",
    "board = [list(map(int, input().split())) for _ in range(r)]\n"
   ]
  },
  {
   "cell_type": "markdown",
   "id": "cc7e5d36",
   "metadata": {},
   "source": [
    "### 내가 짠거"
   ]
  },
  {
   "cell_type": "code",
   "execution_count": null,
   "id": "36aa6355",
   "metadata": {},
   "outputs": [],
   "source": [
    "## 미세먼지 확산\n",
    "def spread(t) :\n",
    "    for _ in range (t) : \n",
    "        board[r][c]의 동 ,서, 남, 북  = board[r][c] // 5\n",
    "        if board[r][c]> 0 and board[r][c] < c :\n",
    "            board[r][c] = board[r][c]-(board[r][c]//5)*4\n",
    "            elif : \n",
    "                #모서리에 있는 미세먼지일 경우\n",
    "                board[r][c] = board[r][c]-(board[r][c]//5)*2\n",
    "            else : \n",
    "                board[r][c] = board[r][c]-(board[r][c]//5)*3\n",
    "    "
   ]
  },
  {
   "cell_type": "markdown",
   "id": "2ae96813",
   "metadata": {},
   "source": [
    "### 답보고 고친거"
   ]
  },
  {
   "cell_type": "code",
   "execution_count": null,
   "id": "7433bf05",
   "metadata": {},
   "outputs": [],
   "source": [
    "def spread() : \n",
    "    ## 방향 설정하는 거 !! 동서남북\n",
    "    dx = [-1, 0, 0, 1]\n",
    "    dy = [0, -1, 1, 0]\n",
    "    ## 나는 .. 현재 위치랑 확산된 위치를 한 번에 했는데, 이 사람은 쪼갰네 .. 임시 array에 확산된 먼지를 기입하고 이걸합침\n",
    "    ## 최대한 쪼개면서 하는 게 좋나봐\n",
    "    tmp_arr = [[0] * c for _ in range(r)]\n",
    "    for i in range(r):\n",
    "        for j in range(c) :\n",
    "            ## 여기서 예외사항을 걸어주었네... 뭐 밑에서 해도 상관은 없었을 것 같은데 이해하기 위해 여기다 적자 일단\n",
    "            if board[i][j] != 0 and board[i][j] != -1 :\n",
    "                tmp = 0\n",
    "                ## 네 방향에 다 뿌리기!!! 근데 이게 예외사항 고려해주어야..난 이거 하나하나 다 적었는데\n",
    "                for k in range(4):\n",
    "                    nx = dx[k] + i \n",
    "                    ny = dy[k] + j\n",
    "                    if 0 <= nx < r and 0 <= ny < c and board[nx][ny] != -1 :\n",
    "                        tmp_array[nx][ny] += board[i][j] // 5\n",
    "                        tmp += board[i][j] // 5\n",
    "                    board[i][j] -= tmp\n",
    "    ##현재 미세먼지의 위"
   ]
  },
  {
   "cell_type": "markdown",
   "id": "34a2a868",
   "metadata": {},
   "source": [
    "### 놓쳤던 부분, 기억해야 할 부분"
   ]
  },
  {
   "cell_type": "markdown",
   "id": "428189b6",
   "metadata": {},
   "source": [
    "아니 근데 얘는 증말 왜 이렇게 나눴는지 이해가 안가긴 해 "
   ]
  },
  {
   "cell_type": "markdown",
   "id": "30358744",
   "metadata": {},
   "source": [
    "### 내가 짠거"
   ]
  },
  {
   "cell_type": "code",
   "execution_count": null,
   "id": "37e3497d",
   "metadata": {},
   "outputs": [],
   "source": [
    "## 공기청정기 가동\n",
    "\n",
    "def start(t) : \n",
    "    for _ in range(t) : \n",
    "        for row in range(R) :\n",
    "            for col in range(C):\n",
    "                if board[r][c] !== 0 and board[r][c] !== -1 :\n",
    "            #동서남북 짜는 코드 찾아보기\n",
    "            #공기청정기의 위쪽일 경우,아래쪽일 경우\n",
    "            if board[r][0] == -1 or board[r] < board[c][r] == -1 and 0 < board[r]< n  : \n",
    "                board[r][c] = board[r+1][c] # 서쪽으로 1\n",
    "\n",
    "            # 공기 청정기의 위쪽이면서 제일 끝 줄 에 있는 경우\n",
    "            if board[r][0] < board[r][0] == -1 and board[r][c] == n :\n",
    "                board[r][c] = board[r][c-1] # 북쪽으로 +1\n",
    "\n",
    "            # 공기 청정기의 위쪽이면서 제일 윗줄에 있는 경우, 제일 아랫줄에 있는 경우\n",
    "            if board[r] == 1 and 0 < board[c] < n or board[r] == n:\n",
    "                board[r][c] = board[r-1][c] #동쪽으로 +1\n",
    "                \n",
    "            # 공기 청정기의 위쪽이면서 1,1 에 있는 경우,공기청정기의 아래쪽이면서 제일 끝줄에 있는 경우\n",
    "            if board[r][c] == 1,1 or board[r] < board[r][c] == -1 and board[c] == R : \n",
    "                    board[r][c] = board[r+1][c] #남쪽으로 +1\n",
    "\n",
    "            # 공기청정기의 아랫쪽이면서 1,n 에 있는 경우\n",
    "            if board[r][c] == 1,n and board[r][c] > -1 일 때보다 : \n",
    "                    board[r][c] = board[r][c-1] # 북쪽으로 +1\n",
    "                      "
   ]
  },
  {
   "cell_type": "markdown",
   "id": "627422d9",
   "metadata": {},
   "source": [
    "### 답보고 고친거"
   ]
  },
  {
   "cell_type": "markdown",
   "id": "671810b0",
   "metadata": {},
   "source": [
    "### 놓쳤던 부분, 기억해야 할 부분"
   ]
  },
  {
   "cell_type": "markdown",
   "id": "129e6840",
   "metadata": {},
   "source": [
    "### 내가 짠거"
   ]
  },
  {
   "cell_type": "code",
   "execution_count": null,
   "id": "8996120a",
   "metadata": {},
   "outputs": [],
   "source": [
    "## 최종\n",
    "def final() :\n",
    "    for row in range(R) :\n",
    "        for col in range(C):\n",
    "            if board[r][c] !== 0 and board[r][c] !== -1 :\n",
    "        # 해당칸의 동서남북에 spread()\n",
    "        #동서남북 짜는 코드 찾아보기\n",
    "                board[r][c] = board[nr][nc]\n",
    "            # 해당 동서남북에 이거를 실행해라\n",
    "            spread()\n",
    "            start()\n",
    "            # 확산된 후 공기청정기에 들어갔다면 , 그대로 -1이 된다\n",
    "            if 미세먼지 칸 = -1 :\n",
    "                미세먼지 칸 = -1\n",
    "for row in range(R) :\n",
    "    for col in range(C): \n",
    "        if board[r][c] !== -1 : \n",
    "            answer += board[r][c]\n",
    "print(answer)"
   ]
  },
  {
   "cell_type": "markdown",
   "id": "b3654d02",
   "metadata": {},
   "source": [
    "### 답보고 고친거"
   ]
  },
  {
   "cell_type": "markdown",
   "id": "a6071e46",
   "metadata": {},
   "source": [
    "### 놓쳤던 부분, 기억해야 할 부분"
   ]
  },
  {
   "cell_type": "code",
   "execution_count": null,
   "id": "2df39e95",
   "metadata": {},
   "outputs": [],
   "source": []
  }
 ],
 "metadata": {
  "kernelspec": {
   "display_name": "Python 3 (ipykernel)",
   "language": "python",
   "name": "python3"
  },
  "language_info": {
   "codemirror_mode": {
    "name": "ipython",
    "version": 3
   },
   "file_extension": ".py",
   "mimetype": "text/x-python",
   "name": "python",
   "nbconvert_exporter": "python",
   "pygments_lexer": "ipython3",
   "version": "3.11.1"
  }
 },
 "nbformat": 4,
 "nbformat_minor": 5
}
