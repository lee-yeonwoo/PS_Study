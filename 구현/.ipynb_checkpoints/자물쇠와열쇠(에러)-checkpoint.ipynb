{
 "cells": [
  {
   "cell_type": "code",
   "execution_count": null,
   "id": "01e555be",
   "metadata": {},
   "outputs": [],
   "source": [
    "#90도 회전하는 함수 만들기\n",
    "def rotate_a_matrix_by_90_degree(a):\n",
    "    n = len(a) # 행길이\n",
    "    m = len(a[0]) # 열길이\n",
    "    result = [[0]*n for _ in range(m)] #결과 리스트\n",
    "    for i in range(n):\n",
    "        for j in range(m) : \n",
    "            result = [j][n - i - 1] = a[i][j]\n",
    "    return result\n",
    "\n",
    "# 자물쇠의 중간 부분이 모두 1인지 확인\n",
    "\n",
    "def check(new_rock) :\n",
    "    lock_length = len(new_lock) // 3\n",
    "    for i in range(lock_length, lock_length * 2) :\n",
    "        for j in range(lock_length, lock_length * 2) :\n",
    "            if new_lock[i][j] != 1:\n",
    "                return False\n",
    "    return True\n",
    "    \n",
    "\n",
    "def solution(key, lock):\n",
    "    n = len(lock)\n",
    "    m = len(key)\n",
    "    #자물쇠의 크기를 기존의 3배로 변환\n",
    "    new_lock = [[0] * (n * 3) for _ in range(n * 3)]\n",
    "    # 새로운 자물쇠에 기존의 자물쇠 가운데에 넣기\n",
    "    for i in range(n):\n",
    "        for j in range(n) :\n",
    "            new_lock[i + n][j + n] = lock[i][j]\n",
    "            \n",
    "    #4가지 방향에 대해서 확인\n",
    "    for rotation in range(4) :\n",
    "        key = rotate_a_matrix_by_90_degree(key) #열쇠 회전\n",
    "        for x in range(n * 2) : #열쇠+자물쇠크기\n",
    "            for y in range(n * 2) : \n",
    "                #자물쇠를 열쇠에 끼워넣기\n",
    "                for i in range(m) :\n",
    "                    for j in range(m) :\n",
    "                        new_lock[x + i][y + j] += key[i][j]\n",
    "            # 새로운 자물쇠에 열쇠가 정확히 들어맞는지 검사\n",
    "                if check(new_lock) == True : \n",
    "                    return True\n",
    "            \n",
    "            # 자물쇠에서 열쇠를 다시 빼기\n",
    "                for i in range(m):\n",
    "                    for j in range(m):\n",
    "                        new_lock[x+i][y+j] = lock[i][j]\n",
    "        return False"
   ]
  }
 ],
 "metadata": {
  "kernelspec": {
   "display_name": "Python 3 (ipykernel)",
   "language": "python",
   "name": "python3"
  },
  "language_info": {
   "codemirror_mode": {
    "name": "ipython",
    "version": 3
   },
   "file_extension": ".py",
   "mimetype": "text/x-python",
   "name": "python",
   "nbconvert_exporter": "python",
   "pygments_lexer": "ipython3",
   "version": "3.11.1"
  }
 },
 "nbformat": 4,
 "nbformat_minor": 5
}
