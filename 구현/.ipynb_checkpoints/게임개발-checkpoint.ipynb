{
 "cells": [
  {
   "cell_type": "code",
   "execution_count": 2,
   "id": "759aa71b",
   "metadata": {},
   "outputs": [
    {
     "name": "stdout",
     "output_type": "stream",
     "text": [
      "4 4\n",
      "1 1 0\n",
      "1 1 1 1\n",
      "1 0 0 1\n",
      "1 1 0 1\n",
      "1 1 1 1\n",
      "3\n"
     ]
    }
   ],
   "source": [
    "# 기본 입력받기\n",
    "n, m = map(int,input().split())\n",
    "\n",
    "# 방문체크\n",
    "d = [[0]*m for _ in range(n)]\n",
    "x, y, direction = map(int,input().split())\n",
    "d[x][y] = 1 #현재좌표 방문 처리\n",
    "\n",
    "#전체 맵 정보 입력받기(2차원리스트 입력받기)\n",
    "array = []\n",
    "for i in range(n):\n",
    "    array.append(list(map(int,input().split())))\n",
    "    \n",
    "# 북,동,남,서 방향 정의\n",
    "\n",
    "dx = [-1,0,1,0]\n",
    "dy = [0,1,0,-1]\n",
    "\n",
    "# 왼쪽으로 회전\n",
    "\n",
    "def turn_left():\n",
    "    global direction\n",
    "    direction -= 1\n",
    "    if direction == -1 :\n",
    "        direction = 3\n",
    "\n",
    "        \n",
    "# 시뮬레이션 시작\n",
    "count = 1\n",
    "turn_time = 0 # 나중에 4번 다 돌았을 때도 없을 경우 멈춤을 대비해서\n",
    "\n",
    "while True : \n",
    "    turn_left()\n",
    "    nx = x + dx[direction]\n",
    "    ny = y + dy[direction]\n",
    "    \n",
    "    # next칸이 육지이고 방문체크 안되어 있으면 이동\n",
    "    if d[nx][ny] == 0 and array[nx][ny] == 0 :\n",
    "        d[nx][ny] = 1\n",
    "        x = nx\n",
    "        y = ny\n",
    "        count += 1\n",
    "        turn_time = 0\n",
    "        continue \n",
    "    # next칸이 방문체크가 되어있거나 바다인 경우에는 회전만 함\n",
    "    else :\n",
    "        turn_time += 1\n",
    "        \n",
    "    # 네 방향 모두 갈 수 없는 경우면 멈춰라\n",
    "    if turn_time == 4:\n",
    "        nx = x - dx[direction]\n",
    "        ny = y - dy[direction]\n",
    "        \n",
    "        # 뒤로 갈 수있다면 이동하기\n",
    "        if array[nx][ny] == 0:\n",
    "            x = nx\n",
    "            y = ny\n",
    "        # 뒤로 바다가 막혀있는 경우\n",
    "        else :\n",
    "            break\n",
    "        turn_time = 0\n",
    "        \n",
    "print(count)\n",
    "        \n",
    "        \n"
   ]
  }
 ],
 "metadata": {
  "kernelspec": {
   "display_name": "Python 3 (ipykernel)",
   "language": "python",
   "name": "python3"
  },
  "language_info": {
   "codemirror_mode": {
    "name": "ipython",
    "version": 3
   },
   "file_extension": ".py",
   "mimetype": "text/x-python",
   "name": "python",
   "nbconvert_exporter": "python",
   "pygments_lexer": "ipython3",
   "version": "3.11.1"
  }
 },
 "nbformat": 4,
 "nbformat_minor": 5
}
