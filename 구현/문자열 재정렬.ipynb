{
 "cells": [
  {
   "cell_type": "code",
   "execution_count": 3,
   "id": "482db2e2",
   "metadata": {},
   "outputs": [
    {
     "name": "stdout",
     "output_type": "stream",
     "text": [
      "a1223\n",
      "a8\n"
     ]
    }
   ],
   "source": [
    "data = input()\n",
    "result = []\n",
    "value = 0\n",
    "\n",
    "for x in data :\n",
    "    if x.isalpha():\n",
    "        result.append(x)\n",
    "    else:\n",
    "        value +=int(x)\n",
    "        \n",
    "result.sort()\n",
    "\n",
    "if value != 0 :\n",
    "    result.append(str(value))\n",
    "\n",
    "print(''.join(result))"
   ]
  }
 ],
 "metadata": {
  "kernelspec": {
   "display_name": "Python 3 (ipykernel)",
   "language": "python",
   "name": "python3"
  },
  "language_info": {
   "codemirror_mode": {
    "name": "ipython",
    "version": 3
   },
   "file_extension": ".py",
   "mimetype": "text/x-python",
   "name": "python",
   "nbconvert_exporter": "python",
   "pygments_lexer": "ipython3",
   "version": "3.11.1"
  }
 },
 "nbformat": 4,
 "nbformat_minor": 5
}
