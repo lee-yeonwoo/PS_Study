{
 "cells": [
  {
   "cell_type": "code",
   "execution_count": 15,
   "id": "1831554d",
   "metadata": {},
   "outputs": [
    {
     "name": "stdout",
     "output_type": "stream",
     "text": [
      "123402\n",
      "Lucky\n"
     ]
    }
   ],
   "source": [
    "N = input()\n",
    "length = len(N)\n",
    "summury = 0\n",
    "\n",
    "for i in range(length//2):\n",
    "    summury += int(N[i])\n",
    "\n",
    "for i in range(length//2,length):\n",
    "    summury -= int(N[i])\n",
    "    \n",
    "if summury == 0 :\n",
    "    print(\"Lucky\")\n",
    "    \n",
    "else : \n",
    "    print(\"Ready\")"
   ]
  },
  {
   "cell_type": "code",
   "execution_count": null,
   "id": "cb8244f7",
   "metadata": {},
   "outputs": [],
   "source": []
  }
 ],
 "metadata": {
  "kernelspec": {
   "display_name": "Python 3 (ipykernel)",
   "language": "python",
   "name": "python3"
  },
  "language_info": {
   "codemirror_mode": {
    "name": "ipython",
    "version": 3
   },
   "file_extension": ".py",
   "mimetype": "text/x-python",
   "name": "python",
   "nbconvert_exporter": "python",
   "pygments_lexer": "ipython3",
   "version": "3.11.1"
  }
 },
 "nbformat": 4,
 "nbformat_minor": 5
}
