{
 "cells": [
  {
   "cell_type": "markdown",
   "id": "538d50f4",
   "metadata": {},
   "source": [
    "## 해결 방법\n",
    "- 입력받은 수를 numbers 배열에 넣는다\n",
    "- 이 배열의 원소를 전부 순회하며 탐색한다\n",
    "- 숫자를 뽑으면 answers 배열에 넣는다.\n",
    "- 숫자를 뽑았으면 pop 시켜줘야겠다!\n",
    "\n",
    "## 어려운거 !!!\n",
    "- 맨 앞자리 수를 어떻게 알아볼 수 있을까? 뒤에 큰 숫자가 있는데 얘가 맨 앞자리라고 정해줄 방법\n",
    "1) 제일 작은 것부터 뽑는거 ...?\n",
    "2) 범위를 지정해주는거\n"
   ]
  },
  {
   "cell_type": "markdown",
   "id": "847e88b9",
   "metadata": {},
   "source": [
    "## Stack 개념 톺아보기\n",
    "\n",
    "스택 : 가장 나중에 들어온 자료가 가장 먼저 처리되는 LIFO 자료구조\n",
    "e.g. 카카오톡 , 보통 앱 화면들 !!\n",
    "\n",
    "자료는 당연히 리스트 형태여야 함\n",
    "추가할 땐 append\n",
    "뺄 땐 pop -> 리스트의 마지막 원소를 제거해줌\n",
    "그리고 pop 메서드에 의해 제거한 원소를 리턴 받을 수도 있음\n",
    "\n",
    "## pop한 원소를 제거하지 않고 가져오기만 할 수도 있다 !\n",
    "stack = [1,2,3]\n",
    "top = stack[-1]\n",
    "[-1]을 이용한다 !!"
   ]
  },
  {
   "cell_type": "markdown",
   "id": "19949430",
   "metadata": {},
   "source": [
    "## While 문 다중 조건\n",
    "범위를 정확하게 모를 때 사용할 수 있다 !!\n",
    "test 조건이 참이 될 때까지 루프를 돈다 !!\n"
   ]
  },
  {
   "cell_type": "markdown",
   "id": "3be73141",
   "metadata": {},
   "source": [
    "## 내가 하고 싶은 건 ...\n",
    "리스트를 돌면서 "
   ]
  },
  {
   "cell_type": "code",
   "execution_count": null,
   "id": "b54c6fab",
   "metadata": {},
   "outputs": [],
   "source": [
    "n, k = map(input().split()) #4,2입력받기\n",
    "numbers = input() #1924 입력받기\n",
    "stack = []\n",
    "for number in numbers :\n",
    "    while stack  and stack[-1] < number and k >0: #test조건이 참이 될 때까지 루프를 돈다\n",
    "        stack.pop()\n",
    "        k = k-1\n",
    "    stack.append(number)\n",
    "if k > 0 :\n",
    "    print('',join(stack[:-k]))\n",
    "else:\n",
    "    print('',join(stack))\n",
    "    "
   ]
  },
  {
   "cell_type": "code",
   "execution_count": 4,
   "id": "af245633",
   "metadata": {},
   "outputs": [
    {
     "name": "stdout",
     "output_type": "stream",
     "text": [
      "9999\n"
     ]
    }
   ],
   "source": [
    "numbers = input()"
   ]
  },
  {
   "cell_type": "code",
   "execution_count": 5,
   "id": "c4a69f2b",
   "metadata": {},
   "outputs": [
    {
     "name": "stdout",
     "output_type": "stream",
     "text": [
      "9999\n"
     ]
    }
   ],
   "source": [
    "print(numbers)"
   ]
  },
  {
   "cell_type": "code",
   "execution_count": 6,
   "id": "33d9b105",
   "metadata": {},
   "outputs": [
    {
     "data": {
      "text/plain": [
       "str"
      ]
     },
     "execution_count": 6,
     "metadata": {},
     "output_type": "execute_result"
    }
   ],
   "source": [
    "type(numbers)"
   ]
  },
  {
   "cell_type": "code",
   "execution_count": 7,
   "id": "3d1a681b",
   "metadata": {},
   "outputs": [
    {
     "name": "stdout",
     "output_type": "stream",
     "text": [
      "[]\n"
     ]
    }
   ],
   "source": [
    "stack = []\n",
    "print(stack)"
   ]
  },
  {
   "cell_type": "code",
   "execution_count": null,
   "id": "7206e9e7",
   "metadata": {},
   "outputs": [],
   "source": []
  }
 ],
 "metadata": {
  "kernelspec": {
   "display_name": "Python 3 (ipykernel)",
   "language": "python",
   "name": "python3"
  },
  "language_info": {
   "codemirror_mode": {
    "name": "ipython",
    "version": 3
   },
   "file_extension": ".py",
   "mimetype": "text/x-python",
   "name": "python",
   "nbconvert_exporter": "python",
   "pygments_lexer": "ipython3",
   "version": "3.11.1"
  }
 },
 "nbformat": 4,
 "nbformat_minor": 5
}
