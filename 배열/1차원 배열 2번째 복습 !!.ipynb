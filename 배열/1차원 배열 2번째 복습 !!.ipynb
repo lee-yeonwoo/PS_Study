{
 "cells": [
  {
   "cell_type": "markdown",
   "id": "0e8c0bab",
   "metadata": {},
   "source": [
    "목표 : 배열을 자유자재로 다룰 수 있을만큼"
   ]
  },
  {
   "cell_type": "markdown",
   "id": "e99bfaf3",
   "metadata": {},
   "source": [
    "10807"
   ]
  },
  {
   "cell_type": "code",
   "execution_count": 1,
   "id": "740d01af",
   "metadata": {},
   "outputs": [
    {
     "name": "stdout",
     "output_type": "stream",
     "text": [
      "11\n",
      "1 4 1 2 4 2 4 2 3 4 4\n",
      "2\n",
      "3\n"
     ]
    }
   ],
   "source": [
    "N = int(input())\n",
    "num_list = list(map(int,input().split()))\n",
    "v = int(input())\n",
    "\n",
    "print(num_list.count(v))"
   ]
  },
  {
   "cell_type": "markdown",
   "id": "4318f32f",
   "metadata": {},
   "source": [
    "10871"
   ]
  },
  {
   "cell_type": "code",
   "execution_count": 4,
   "id": "85e4149e",
   "metadata": {},
   "outputs": [
    {
     "name": "stdout",
     "output_type": "stream",
     "text": [
      "10 5\n",
      "1 10 4 9 2 3 8 5 7 6\n",
      "1 4 2 3 "
     ]
    }
   ],
   "source": [
    "N, X = map(int,input().split())\n",
    "num_list = list(map(int,input().split()))\n",
    "for n in range(len(num_list)) :\n",
    "    if num_list[n]<X:\n",
    "        print(num_list[n],end=' ')"
   ]
  },
  {
   "cell_type": "markdown",
   "id": "a01cb411",
   "metadata": {},
   "source": [
    "10818"
   ]
  },
  {
   "cell_type": "code",
   "execution_count": 6,
   "id": "53040432",
   "metadata": {},
   "outputs": [
    {
     "name": "stdout",
     "output_type": "stream",
     "text": [
      "5\n",
      "20 10 35 30 7\n",
      "7 35 "
     ]
    }
   ],
   "source": [
    "N = int(input())\n",
    "n_list = list(map(int,input().split()))\n",
    "print(min(n_list), max(n_list),end = ' ')"
   ]
  },
  {
   "cell_type": "markdown",
   "id": "8e337dcf",
   "metadata": {},
   "source": [
    "2562"
   ]
  },
  {
   "cell_type": "code",
   "execution_count": 8,
   "id": "c8aa5431",
   "metadata": {},
   "outputs": [
    {
     "name": "stdout",
     "output_type": "stream",
     "text": [
      "3\n",
      "29\n",
      "38\n",
      "12\n",
      "57\n",
      "74\n",
      "40\n",
      "85\n",
      "61\n",
      "85\n",
      "7\n"
     ]
    }
   ],
   "source": [
    "answer = []\n",
    "for _ in range(9):\n",
    "    n = int(input())\n",
    "    answer.append(n)\n",
    "\n",
    "max_number = max(answer)\n",
    "print(max_number)\n",
    "print(answer.index(max_number)+1)"
   ]
  },
  {
   "cell_type": "markdown",
   "id": "c37c9554",
   "metadata": {},
   "source": [
    "10810"
   ]
  },
  {
   "cell_type": "markdown",
   "id": "52838334",
   "metadata": {},
   "source": [
    "음..귀찮다 ..."
   ]
  }
 ],
 "metadata": {
  "kernelspec": {
   "display_name": "Python 3 (ipykernel)",
   "language": "python",
   "name": "python3"
  },
  "language_info": {
   "codemirror_mode": {
    "name": "ipython",
    "version": 3
   },
   "file_extension": ".py",
   "mimetype": "text/x-python",
   "name": "python",
   "nbconvert_exporter": "python",
   "pygments_lexer": "ipython3",
   "version": "3.11.1"
  }
 },
 "nbformat": 4,
 "nbformat_minor": 5
}
