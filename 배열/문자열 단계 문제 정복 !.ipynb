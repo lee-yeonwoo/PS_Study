{
 "cells": [
  {
   "cell_type": "markdown",
   "id": "f42be265",
   "metadata": {},
   "source": [
    "## 10807"
   ]
  },
  {
   "cell_type": "code",
   "execution_count": 3,
   "id": "aa91f2b0",
   "metadata": {},
   "outputs": [
    {
     "name": "stdout",
     "output_type": "stream",
     "text": [
      "11\n",
      "1 4 1 2 4 2 4 2 3 4 4\n",
      "2\n",
      "3\n"
     ]
    }
   ],
   "source": [
    "n = int(input())\n",
    "num_list = list(map(int,input().split()))\n",
    "answer = 0\n",
    "v = int(input())\n",
    "\n",
    "print(num_list.count(v))\n"
   ]
  },
  {
   "cell_type": "code",
   "execution_count": 2,
   "id": "dd130da6",
   "metadata": {},
   "outputs": [
    {
     "name": "stdout",
     "output_type": "stream",
     "text": [
      "11\n",
      "1 4 1 2 4 2 4 2 3 4 4\n",
      "2\n",
      "3\n"
     ]
    }
   ],
   "source": [
    "n = int(input())\n",
    "n_list = list(map(int,input().split()))\n",
    "v = int(input())\n",
    "\n",
    "print(n_list.count(v))"
   ]
  },
  {
   "cell_type": "markdown",
   "id": "7b4729e6",
   "metadata": {},
   "source": [
    "## 10871"
   ]
  },
  {
   "cell_type": "code",
   "execution_count": 7,
   "id": "f9371156",
   "metadata": {},
   "outputs": [
    {
     "name": "stdout",
     "output_type": "stream",
     "text": [
      "10 5\n",
      "1 10 4 9 2 3 8 5 7 6\n",
      "1 4 2 3 "
     ]
    }
   ],
   "source": [
    "n,x = map(int,input().split())\n",
    "answer = []\n",
    "A = list(map(int,input().split()))\n",
    "for i in range(n) : #처음에는 A라는 배열을 탐색하려고 함. 그게 아니라 N만큼 여러번 반복하게 하자\n",
    "#     if A[i] < x :\n",
    "#         answer.append(A[i])\n",
    "# print(answer) 이렇게 하면 리스트로 출력됨\n",
    "    if A[i] < x :\n",
    "        print(A[i],end=\" \")\n",
    "        "
   ]
  },
  {
   "cell_type": "markdown",
   "id": "c139edf3",
   "metadata": {},
   "source": [
    "## 10818"
   ]
  },
  {
   "cell_type": "code",
   "execution_count": 8,
   "id": "f78de6ca",
   "metadata": {},
   "outputs": [
    {
     "name": "stdout",
     "output_type": "stream",
     "text": [
      "5\n",
      "20 10 35 30 7\n",
      "7 35\n"
     ]
    }
   ],
   "source": [
    "n = int(input())\n",
    "n_list = list(map(int,input().split()))\n",
    "print(min(n_list),max(n_list))"
   ]
  },
  {
   "cell_type": "markdown",
   "id": "85165641",
   "metadata": {},
   "source": [
    "밑에 방법 복습하자"
   ]
  },
  {
   "cell_type": "code",
   "execution_count": 10,
   "id": "9754a108",
   "metadata": {},
   "outputs": [
    {
     "name": "stdout",
     "output_type": "stream",
     "text": [
      "5\n",
      "20 10 35 30 7\n",
      "7 35\n"
     ]
    }
   ],
   "source": [
    "n = int(input())\n",
    "n_list = list(map(int,input().split()))\n",
    "max = n_list[0]\n",
    "min = n_list[0]\n",
    "\n",
    "for i in n_list[1:]:\n",
    "    if i > max:\n",
    "        max = i\n",
    "    elif i < min :\n",
    "        min = i\n",
    "\n",
    "print(min,max)"
   ]
  },
  {
   "cell_type": "markdown",
   "id": "5937ad88",
   "metadata": {},
   "source": [
    "## 2562"
   ]
  },
  {
   "cell_type": "code",
   "execution_count": 13,
   "id": "79ce7961",
   "metadata": {},
   "outputs": [
    {
     "name": "stdout",
     "output_type": "stream",
     "text": [
      "3\n",
      "29\n",
      "38\n",
      "12\n",
      "57\n",
      "74\n",
      "40\n",
      "85\n",
      "61\n",
      "8\n",
      "7\n"
     ]
    }
   ],
   "source": [
    "count = 0\n",
    "max_number = 1\n",
    "# 한 줄에 한 개씩 값 받아오기\n",
    "\n",
    "for i in range(9): \n",
    "    n = int(input())\n",
    "    #max값이랑 현재 값이랑 비교하기\n",
    "    if i > max_number :\n",
    "        max_number = i\n",
    "        count += 1\n",
    "    \n",
    "print(max_number)\n",
    "print(count)\n",
    "\n",
    "\n",
    "    "
   ]
  },
  {
   "cell_type": "code",
   "execution_count": 17,
   "id": "2a1c4a92",
   "metadata": {},
   "outputs": [
    {
     "name": "stdout",
     "output_type": "stream",
     "text": [
      "3\n",
      "29\n",
      "49\n",
      "39\n",
      "395\n",
      "6\n",
      "4\n",
      "2\n",
      "4\n"
     ]
    },
    {
     "ename": "TypeError",
     "evalue": "'int' object is not callable",
     "output_type": "error",
     "traceback": [
      "\u001b[0;31m---------------------------------------------------------------------------\u001b[0m",
      "\u001b[0;31mTypeError\u001b[0m                                 Traceback (most recent call last)",
      "Cell \u001b[0;32mIn[17], line 6\u001b[0m\n\u001b[1;32m      3\u001b[0m \u001b[38;5;28;01mfor\u001b[39;00m i \u001b[38;5;129;01min\u001b[39;00m \u001b[38;5;28mrange\u001b[39m(\u001b[38;5;241m9\u001b[39m):\n\u001b[1;32m      4\u001b[0m     num_list\u001b[38;5;241m.\u001b[39mappend(\u001b[38;5;28mint\u001b[39m(\u001b[38;5;28minput\u001b[39m()))\n\u001b[0;32m----> 6\u001b[0m \u001b[38;5;28mprint\u001b[39m(\u001b[38;5;28;43mmax\u001b[39;49m\u001b[43m(\u001b[49m\u001b[43mnum_list\u001b[49m\u001b[43m)\u001b[49m)\n\u001b[1;32m      7\u001b[0m \u001b[38;5;28mprint\u001b[39m(num_list\u001b[38;5;241m.\u001b[39mindex(\u001b[38;5;28mmax\u001b[39m(num_list))\u001b[38;5;241m+\u001b[39m\u001b[38;5;241m1\u001b[39m)\n",
      "\u001b[0;31mTypeError\u001b[0m: 'int' object is not callable"
     ]
    }
   ],
   "source": [
    "num_list = []\n",
    "\n",
    "for i in range(9):\n",
    "    num_list.append(int(input()))\n",
    "\n",
    "print(max(num_list))\n",
    "print(num_list.index(max(num_list))+1)"
   ]
  },
  {
   "cell_type": "markdown",
   "id": "29041f6a",
   "metadata": {},
   "source": [
    "## 10810"
   ]
  },
  {
   "cell_type": "code",
   "execution_count": 19,
   "id": "bc3cc3ae",
   "metadata": {},
   "outputs": [
    {
     "name": "stdout",
     "output_type": "stream",
     "text": [
      "5 4\n",
      "[0, 0, 0, 0, 0]\n"
     ]
    }
   ],
   "source": [
    "n, m = map(int,input().split())\n",
    "basket = [0]*n\n",
    "for ball in range(m):\n",
    "    i, j, k = map(int, input().split())\n",
    "    ## 범위를 어떻게 체크하지 했는데, 범위부분을 한 번 더 순회하면서 값을 채워줘야 했따!\n",
    "    if basket[i]<= and <=basket[j] :\n",
    "        basket[ball] = k\n",
    "print(for _ in range basket[i])"
   ]
  },
  {
   "cell_type": "code",
   "execution_count": 28,
   "id": "e13af301",
   "metadata": {},
   "outputs": [
    {
     "name": "stdout",
     "output_type": "stream",
     "text": [
      "5 4\n",
      "1 2 3\n",
      "3 4 4\n",
      "1 4 1\n",
      "2 2 2\n",
      "1 2 1 1 0 "
     ]
    }
   ],
   "source": [
    "N, M = map(int,input().split())\n",
    "basket = [0]*(N+1)\n",
    "\n",
    "for _ in range(M):\n",
    "    i, j, k = map(int, input().split())\n",
    "    for n in range(i,j+1):\n",
    "        basket[n] = k\n",
    "        \n",
    "        \n",
    "for i in range(1,N+1):\n",
    "    print(basket[i],end= ' ')"
   ]
  },
  {
   "cell_type": "code",
   "execution_count": 24,
   "id": "90ef546d",
   "metadata": {},
   "outputs": [
    {
     "name": "stdout",
     "output_type": "stream",
     "text": [
      "5 4\n",
      "1 2 3\n",
      "3 4 4\n",
      "1 4 1\n",
      "2 2 2\n",
      "1 2 1 1 0 "
     ]
    }
   ],
   "source": [
    "N, M = map(int, input().split())\n",
    "basket = [0] * (N+1)\n",
    "\n",
    "for _ in range(M):\n",
    "    i, j, k = map(int, input().split())\n",
    "    for n in range(i, j+1):\n",
    "        basket[n] = k \n",
    "\n",
    "for i in range(1, N+1):\n",
    "    print(basket[i], end = ' ')"
   ]
  },
  {
   "cell_type": "markdown",
   "id": "6c9af098",
   "metadata": {},
   "source": [
    "## 10813"
   ]
  },
  {
   "cell_type": "code",
   "execution_count": 34,
   "id": "58c893cb",
   "metadata": {},
   "outputs": [
    {
     "name": "stdout",
     "output_type": "stream",
     "text": [
      "5 4\n",
      "1 2\n",
      "3 4\n",
      "1 4\n",
      "2 2\n",
      "3 1 4 2 5 "
     ]
    }
   ],
   "source": [
    "N, M = map(int,input().split())\n",
    "basket = [i for i in range(1,N+1)]\n",
    "for n in range(M):\n",
    "    i, j = map(int,input().split())\n",
    "    temp = basket[i-1]\n",
    "    basket[i-1] = basket[j-1]\n",
    "    basket[j-1] = temp\n",
    "    \n",
    "for i in basket:\n",
    "    print(i,end= ' ')"
   ]
  },
  {
   "cell_type": "markdown",
   "id": "8ccda2df",
   "metadata": {},
   "source": [
    "## 5597"
   ]
  },
  {
   "cell_type": "code",
   "execution_count": 40,
   "id": "9cfa00ba",
   "metadata": {},
   "outputs": [
    {
     "name": "stdout",
     "output_type": "stream",
     "text": [
      "1\n",
      "2\n",
      "4\n",
      "5\n",
      "6\n",
      "[3]\n"
     ]
    }
   ],
   "source": [
    "checklist = [i for i in range(1,31)]\n",
    "for _ in range(28):\n",
    "    n = int(input())\n",
    "    checklist.remove(n)\n",
    "        \n",
    "print(min(checklist))\n",
    "print(max(checklist))"
   ]
  },
  {
   "cell_type": "markdown",
   "id": "d13b2a9a",
   "metadata": {},
   "source": [
    "## 3052\n",
    "8단계!!!두두둥 조금만 더 힘을내~"
   ]
  },
  {
   "cell_type": "code",
   "execution_count": 41,
   "id": "cc8fcaa5",
   "metadata": {},
   "outputs": [
    {
     "name": "stdout",
     "output_type": "stream",
     "text": [
      "1\n",
      "2\n",
      "3\n",
      "4\n",
      "5\n",
      "6\n",
      "7\n",
      "8\n",
      "9\n",
      "10\n",
      "10\n"
     ]
    }
   ],
   "source": [
    "arr = []\n",
    "for i in range(10):\n",
    "    n = int(input())\n",
    "    arr.append(n%42)\n",
    "arr = set(arr)\n",
    "print(len(arr))"
   ]
  },
  {
   "cell_type": "markdown",
   "id": "2dfa1ea6",
   "metadata": {},
   "source": [
    "## 10811\n",
    "오 벌써 9단계 ㅋㅋ 최종까지 갈 수 있겠땅 !!!!!!!!!체고다 나"
   ]
  },
  {
   "cell_type": "code",
   "execution_count": 48,
   "id": "b81cbb99",
   "metadata": {},
   "outputs": [
    {
     "name": "stdout",
     "output_type": "stream",
     "text": [
      "5 4\n",
      "1 2\n",
      "3 4\n",
      "1 4\n",
      "2 2\n",
      "3 4 1 2 5 "
     ]
    }
   ],
   "source": [
    "N, M = map(int,input().split())\n",
    "\n",
    "basket = [i for i in range(1, N+1)]\n",
    "for n in range(M) :\n",
    "    i,j = map(int,input().split())\n",
    "    temp = basket[i-1:j]\n",
    "    temp.reverse()\n",
    "    basket[i-1:j]=temp\n",
    "    \n",
    "for i in range(N):\n",
    "    print(basket[i],end=' ')\n"
   ]
  },
  {
   "cell_type": "markdown",
   "id": "6a98e279",
   "metadata": {},
   "source": [
    "## 1546\n",
    "...드디ㅓ...ㅁ ㅏ ㅈ ㅣ ㅁ ㅏ ㄱ....이것만큼은 혼자..해보자 "
   ]
  },
  {
   "cell_type": "code",
   "execution_count": 55,
   "id": "77d0eaef",
   "metadata": {},
   "outputs": [
    {
     "name": "stdout",
     "output_type": "stream",
     "text": [
      "3\n",
      "40 80 60\n"
     ]
    },
    {
     "ename": "TypeError",
     "evalue": "'int' object is not callable",
     "output_type": "error",
     "traceback": [
      "\u001b[0;31m---------------------------------------------------------------------------\u001b[0m",
      "\u001b[0;31mTypeError\u001b[0m                                 Traceback (most recent call last)",
      "Cell \u001b[0;32mIn[55], line 3\u001b[0m\n\u001b[1;32m      1\u001b[0m N \u001b[38;5;241m=\u001b[39m \u001b[38;5;28mint\u001b[39m(\u001b[38;5;28minput\u001b[39m())\n\u001b[1;32m      2\u001b[0m score_list \u001b[38;5;241m=\u001b[39m \u001b[38;5;28mlist\u001b[39m(\u001b[38;5;28mmap\u001b[39m(\u001b[38;5;28mint\u001b[39m,\u001b[38;5;28minput\u001b[39m()\u001b[38;5;241m.\u001b[39msplit()))\n\u001b[0;32m----> 3\u001b[0m max_score \u001b[38;5;241m=\u001b[39m \u001b[38;5;28;43mmax\u001b[39;49m\u001b[43m(\u001b[49m\u001b[43mscore_list\u001b[49m\u001b[43m)\u001b[49m\n\u001b[1;32m      4\u001b[0m \u001b[38;5;28mprint\u001b[39m(max_score)\n\u001b[1;32m      5\u001b[0m \u001b[38;5;66;03m# new_score_list = []\u001b[39;00m\n\u001b[1;32m      6\u001b[0m \n\u001b[1;32m      7\u001b[0m \u001b[38;5;66;03m# total = 0\u001b[39;00m\n\u001b[0;32m   (...)\u001b[0m\n\u001b[1;32m     12\u001b[0m \n\u001b[1;32m     13\u001b[0m \u001b[38;5;66;03m# print(answer)\u001b[39;00m\n",
      "\u001b[0;31mTypeError\u001b[0m: 'int' object is not callable"
     ]
    }
   ],
   "source": [
    "N = int(input())\n",
    "score_list = list(map(int,input().split()))\n",
    "M = max(score_list)\n",
    "new_score_list = []\n",
    "\n",
    "total = 0\n",
    "for score in score_list :\n",
    "    new_score_list.append(score/M*100)\n",
    "    \n",
    "answer = sum(new_score_list)/N\n",
    "\n",
    "print(answer)"
   ]
  },
  {
   "cell_type": "markdown",
   "id": "b226ee39",
   "metadata": {},
   "source": [
    "맞췄는데 왜이래"
   ]
  },
  {
   "cell_type": "code",
   "execution_count": null,
   "id": "1dd07a0d",
   "metadata": {},
   "outputs": [],
   "source": []
  }
 ],
 "metadata": {
  "kernelspec": {
   "display_name": "Python 3 (ipykernel)",
   "language": "python",
   "name": "python3"
  },
  "language_info": {
   "codemirror_mode": {
    "name": "ipython",
    "version": 3
   },
   "file_extension": ".py",
   "mimetype": "text/x-python",
   "name": "python",
   "nbconvert_exporter": "python",
   "pygments_lexer": "ipython3",
   "version": "3.11.1"
  }
 },
 "nbformat": 4,
 "nbformat_minor": 5
}
