{
 "cells": [
  {
   "cell_type": "markdown",
   "id": "4e41488c",
   "metadata": {},
   "source": [
    "## 2783"
   ]
  },
  {
   "cell_type": "markdown",
   "id": "1af0017f",
   "metadata": {},
   "source": [
    "## 2차원 배열 입력 받기 !!!!"
   ]
  },
  {
   "cell_type": "code",
   "execution_count": 1,
   "id": "37df05d1",
   "metadata": {},
   "outputs": [
    {
     "name": "stdout",
     "output_type": "stream",
     "text": [
      "3 3\n",
      "1 1 1\n",
      "2 2 2\n",
      "0 1 0\n",
      "3\n",
      "3\n",
      "\n",
      "[[1, 1, 1], [2, 2, 2], [0, 1, 0]]\n",
      "[[3], [3], []]\n"
     ]
    }
   ],
   "source": [
    "# 1. 행렬을 받을 리스트 A,B를 선언한다\n",
    "A,B = [], []\n",
    "\n",
    "# 2. N,M을 통해 행렬의 크기를 입력 받는다\n",
    "N, M = map(int,input().split())\n",
    "\n",
    "# 3.A,B에 행렬의 원소를 입력받는다\n",
    "for row in range(N) : \n",
    "    row = list(map(int,input().split()))\n",
    "    A.append(row)\n",
    "    \n",
    "for row in range(N) : \n",
    "    row = list(map(int,input().split()))\n",
    "    B.append(row)\n",
    "# 4. 행렬 A, B를 더한 행렬을 출력한다\n",
    "for row in range(N):\n",
    "    for col in range(M) : \n",
    "        print(A[row][col] + B[row][col],end= ' ')\n",
    "    print()"
   ]
  },
  {
   "cell_type": "code",
   "execution_count": null,
   "id": "ee2a7355",
   "metadata": {},
   "outputs": [],
   "source": [
    "# 혼자\n",
    "\n",
    "A,B = [],[]\n",
    "N,M = int(input())\n",
    "\n",
    "for row in range(N) : \n",
    "    row = list(map(int,input().split()))\n",
    "    A.append(row)\n",
    "    \n",
    "for row in range(N) :\n",
    "    row = list(map(int,input().split()))\n",
    "    B.append(row)\n",
    "for row in range(N):\n",
    "    for col in range(M) : \n",
    "        print(A[row][col] + B[row][col],end = ' ')\n",
    "    print()"
   ]
  },
  {
   "cell_type": "markdown",
   "id": "dfb46025",
   "metadata": {},
   "source": [
    "## 2566"
   ]
  },
  {
   "cell_type": "code",
   "execution_count": null,
   "id": "a1e27a37",
   "metadata": {},
   "outputs": [],
   "source": [
    "# 오답\n",
    "# max_num이 0이면 최댓값이 0일 때 정확한 결과를 도출하지 못함...\n",
    "array = []\n",
    "max_num = -1\n",
    "for row in range(9) : \n",
    "    row = list(map(int, input().split()))\n",
    "    array.append(row)\n",
    "    \n",
    "X = 0\n",
    "Y = 0\n",
    "\n",
    "for row in range(9):\n",
    "    for col in range(9) : \n",
    "        if array[row][col] > max_num : \n",
    "            max_num = array[row][col]\n",
    "            X = row + 1\n",
    "            Y = col + 1\n",
    "print(max_num)\n",
    "print(X, Y)\n",
    "\n"
   ]
  },
  {
   "cell_type": "markdown",
   "id": "630d3daf",
   "metadata": {},
   "source": [
    "## 10798"
   ]
  },
  {
   "cell_type": "code",
   "execution_count": 35,
   "id": "d1cf656d",
   "metadata": {},
   "outputs": [
    {
     "name": "stdout",
     "output_type": "stream",
     "text": [
      "AABCDD\n",
      "afzz\n",
      "09121\n",
      "a8EWg6\n",
      "P5h3kx\n",
      "Aa0aPAf985Bz1EhCz2W3D1gkD6x"
     ]
    }
   ],
   "source": [
    "# 초기배열\n",
    "array = []\n",
    "answer = []\n",
    "\n",
    "# 5줄 입력받기\n",
    "for row in range(5) : \n",
    "    row = list(input())\n",
    "    if len(row) < 15 :\n",
    "        while len(row) < 15:\n",
    "            row.append('*')\n",
    "    array.append(row)\n",
    "    \n",
    "for i in range(15) :\n",
    "    for row in range(5):\n",
    "        if array[row][i] == '*' : \n",
    "            continue; \n",
    "        else : \n",
    "            answer.append(array[row][i])\n",
    "\n",
    "for k in answer : \n",
    "    print(k,end= '')"
   ]
  },
  {
   "cell_type": "markdown",
   "id": "6e1f73af",
   "metadata": {},
   "source": [
    "## 2563\n",
    "겹치는 부분 어떻게 구하징..."
   ]
  },
  {
   "cell_type": "code",
   "execution_count": null,
   "id": "87cfd5f6",
   "metadata": {},
   "outputs": [],
   "source": [
    "paper = int(input())\n",
    "width_list = [[0,0]*for _ in range(paper)]\n",
    "height_list = []\n",
    "for length in range(paper):\n",
    "    ## 길이를 담은 배열 length[0] 은 가로 시작점,length[1]은 새로 시작점이다\n",
    "    length = list(input())\n",
    "    \n",
    "    ## 색종이의 시작점, 끝점 \n",
    "    width_start = length[0]\n",
    "    width_end = width_start + 10\n",
    "    height_start = length[1]\n",
    "    height_end = height_end + 10\n",
    "    \n",
    "    width_list.append([width_start,width_end])\n",
    "    heigth_list.append([height_start,height_end])\n",
    "    \n",
    "    \n",
    "## overlap의 가로 길이 구하기\n",
    "overlap = 0\n",
    "for n in range(paper) : \n",
    "    if width_list[n][0] < width_list[n+1][0] < width_list[n+2][0] + 10 :\n",
    "    overlap_width = width_list[n+1]+10 - width_list[n+1]\n",
    "    \n",
    "    if height_list[n][0] < heigt_list[n+1][0]<height_list[n+1][0] + 10 :\n",
    "        overlap_height = height_list[n+1]+10 - height_list[n+1]\n",
    "        \n",
    "print(overlap_width * overlap_height)\n"
   ]
  },
  {
   "cell_type": "markdown",
   "id": "b5b522d5",
   "metadata": {},
   "source": [
    "## 정답"
   ]
  },
  {
   "cell_type": "code",
   "execution_count": null,
   "id": "3662a9ce",
   "metadata": {},
   "outputs": [],
   "source": [
    "생뚱맞은 방법으로 푼 것.... 0과 1...컴퓨터는 0과 1로 생각하면 된다 !"
   ]
  },
  {
   "cell_type": "code",
   "execution_count": null,
   "id": "cb5c30bb",
   "metadata": {},
   "outputs": [],
   "source": [
    "N = int(input())\n",
    "array = [[0] * 100 for _ in range(100)]  # 도화지 범위 초기화\n",
    "for _ in range(N):  # 입력 받은 도화지 개수만큼 돈다.\n",
    "    y1, x1 = map(int, input().split())  # 왼쪽아래 x,y 좌표를 받는다.\n",
    "\n",
    "    for i in range(x1, x1 + 10):  # 세로를 돈다.\n",
    "        for j in range(y1, y1 + 10):  # 가로를 돈다.\n",
    "            array[i][j] = 1  # 해당 범위 값을 0에서 1로 바꿔준다.\n",
    "\n",
    "result = 0  # 넓이를 출력할 변수\n",
    "for k in range(100):  # 전체 도화지를 돌면서\n",
    "    result += array[k].count(1)  # 1 개수만 세어준다\n",
    "\n",
    "print(result)"
   ]
  }
 ],
 "metadata": {
  "kernelspec": {
   "display_name": "Python 3 (ipykernel)",
   "language": "python",
   "name": "python3"
  },
  "language_info": {
   "codemirror_mode": {
    "name": "ipython",
    "version": 3
   },
   "file_extension": ".py",
   "mimetype": "text/x-python",
   "name": "python",
   "nbconvert_exporter": "python",
   "pygments_lexer": "ipython3",
   "version": "3.11.1"
  }
 },
 "nbformat": 4,
 "nbformat_minor": 5
}
