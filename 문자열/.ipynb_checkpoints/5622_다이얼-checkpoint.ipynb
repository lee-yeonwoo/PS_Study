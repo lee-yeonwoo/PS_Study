{
 "cells": [
  {
   "cell_type": "code",
   "execution_count": 6,
   "id": "3a61fc41",
   "metadata": {},
   "outputs": [
    {
     "name": "stdout",
     "output_type": "stream",
     "text": [
      "WA\n",
      "13\n"
     ]
    }
   ],
   "source": [
    "dial = ['ABC', 'DEF', 'GHI', 'JKL', 'MNO', 'PQRS', 'TUV', 'WXYZ']\n",
    "a = input()\n",
    "ret = 0\n",
    "for j in range(len(a)): #입력받은 단어의 길이만큼 탐색\n",
    "    for i in dial: #dial 리스트 내 유닛들 탐색\n",
    "        if a[j] in i: #입력받은 단어에 있는 알파벳이 i에 포함되어 있으면\n",
    "            ret += dial.index(i)+3 #\n",
    "print(ret)\n"
   ]
  }
 ],
 "metadata": {
  "kernelspec": {
   "display_name": "Python 3 (ipykernel)",
   "language": "python",
   "name": "python3"
  },
  "language_info": {
   "codemirror_mode": {
    "name": "ipython",
    "version": 3
   },
   "file_extension": ".py",
   "mimetype": "text/x-python",
   "name": "python",
   "nbconvert_exporter": "python",
   "pygments_lexer": "ipython3",
   "version": "3.11.1"
  }
 },
 "nbformat": 4,
 "nbformat_minor": 5
}
