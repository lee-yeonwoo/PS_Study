{
 "cells": [
  {
   "cell_type": "markdown",
   "id": "689d9ef0",
   "metadata": {},
   "source": [
    "15:40 ~\n",
    "\n",
    "# 해결방법\n",
    "DFS 탐색.\n",
    "노인들이 좋아하는 채널, 싫어하는 채널을 [좋아하는 채널, 싫어하는 채널] 요렇게 한 셋트로 해서 또 한 배열에 노인별로 넣으면 됨.\n",
    "즉, 이차원 배열을 만들고 그 리스트들을 탐색하는 방법을 쓰면 되겠다.\n",
    "즉 !! 재귀적으로 계속 탐색을 반복하는 함수를 짠다.\n",
    "그리고 탐색을 계속 하면서 dfs를 한 번 탐색할 때마다 cnt를 1씩 증가시켜주면 채널을 변경하는 횟수를 알 수 있다.\n",
    "\n",
    "![IMG_FB73F8EC3F8B-1.jpeg](attachment:IMG_FB73F8EC3F8B-1.jpeg)\n",
    "\n",
    "이렇게 ... !! \n",
    "자그럼 DFS 함수를 대충 짜보자. \n",
    "\n",
    "(여기까지 20분)\n"
   ]
  },
  {
   "cell_type": "code",
   "execution_count": 2,
   "id": "961bfba3",
   "metadata": {},
   "outputs": [
    {
     "ename": "SyntaxError",
     "evalue": "invalid syntax (1479314545.py, line 3)",
     "output_type": "error",
     "traceback": [
      "\u001b[0;36m  Cell \u001b[0;32mIn[2], line 3\u001b[0;36m\u001b[0m\n\u001b[0;31m    pensioners = [list(for _ in range(n) input())] #good,bad를 배열로 받아오는거...\u001b[0m\n\u001b[0m                       ^\u001b[0m\n\u001b[0;31mSyntaxError\u001b[0m\u001b[0;31m:\u001b[0m invalid syntax\n"
     ]
    }
   ],
   "source": [
    "# 입력값 받아오기\n",
    "n,m,p = map(int,input().split())\n",
    "pensioners = [list(for _ in range(n) input())] #good,bad를 배열로 받아오는거...\n",
    "visited = [[false] for _in range(M)]\n",
    "cnt = 0\n",
    "\n",
    "def dfs(v):\n",
    "    for i in range(n): #whlie문 써야하나? 같은 게 없다면 멈춰라 라는 조건 ? \n",
    "        if persioners[i][0] == persioners[i][1]:\n",
    "            dfs(min(i)) #따로 또 조건문 안 한 이유 : 어차피 1개여도 그냥 젤 작은 거 하면 걔가 나오니깐.\n",
    "            cnt+=1\n",
    "dfs(p) #persioners[i][1] == p 인것부터 탐색해라\n",
    "print(cnt)\n"
   ]
  },
  {
   "cell_type": "markdown",
   "id": "08c24c36",
   "metadata": {},
   "source": [
    "코드 쓰는데 20분.총 40분간 풀어보았음. \n",
    "입력값 받는 거 까먹음 \n",
    "dfs 어차피 다 다시 복습해야 하기 때문에 다른 사람 풀이를 보겠삼."
   ]
  },
  {
   "cell_type": "code",
   "execution_count": null,
   "id": "0c35c882",
   "metadata": {},
   "outputs": [],
   "source": []
  }
 ],
 "metadata": {
  "kernelspec": {
   "display_name": "Python 3 (ipykernel)",
   "language": "python",
   "name": "python3"
  },
  "language_info": {
   "codemirror_mode": {
    "name": "ipython",
    "version": 3
   },
   "file_extension": ".py",
   "mimetype": "text/x-python",
   "name": "python",
   "nbconvert_exporter": "python",
   "pygments_lexer": "ipython3",
   "version": "3.11.1"
  }
 },
 "nbformat": 4,
 "nbformat_minor": 5
}
