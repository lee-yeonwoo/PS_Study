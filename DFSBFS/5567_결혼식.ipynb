{
 "cells": [
  {
   "cell_type": "markdown",
   "id": "37496acf",
   "metadata": {},
   "source": [
    "## 해결해야 하는 것\n",
    "- 이차원리스트로 입력값 받아오기\n",
    "- bfs()함수\n",
    "    - if 1과 연결되어 있으면 탐색 시작\n",
    "    - 3번째 bfs()면 반복문 탈출(2번째까지만 탐색하도록)"
   ]
  },
  {
   "cell_type": "code",
   "execution_count": 4,
   "id": "196a71b7",
   "metadata": {},
   "outputs": [
    {
     "name": "stdout",
     "output_type": "stream",
     "text": [
      "6\n"
     ]
    }
   ],
   "source": [
    "N = int(input())"
   ]
  },
  {
   "cell_type": "code",
   "execution_count": 5,
   "id": "700d87c2",
   "metadata": {},
   "outputs": [
    {
     "name": "stdout",
     "output_type": "stream",
     "text": [
      "5\n",
      "1 2\n",
      "1\n",
      "3 4\n",
      "2 3\n",
      "4 5\n"
     ]
    }
   ],
   "source": [
    "M = int(input())\n",
    "graph = []\n",
    "for i in range(M):\n",
    "    graph.append(list(map(int,input().split())))"
   ]
  },
  {
   "cell_type": "code",
   "execution_count": 6,
   "id": "a0c10caf",
   "metadata": {},
   "outputs": [
    {
     "name": "stdout",
     "output_type": "stream",
     "text": [
      "[[1, 2], [1], [3, 4], [2, 3], [4, 5]]\n"
     ]
    }
   ],
   "source": [
    "print(graph)"
   ]
  },
  {
   "cell_type": "code",
   "execution_count": null,
   "id": "8c28e06b",
   "metadata": {},
   "outputs": [],
   "source": [
    "visited = [False]*(M+1)"
   ]
  },
  {
   "cell_type": "code",
   "execution_count": null,
   "id": "bb03391f",
   "metadata": {},
   "outputs": [],
   "source": [
    "bfs_cnt = 1"
   ]
  },
  {
   "cell_type": "code",
   "execution_count": null,
   "id": "f325855d",
   "metadata": {},
   "outputs": [],
   "source": [
    "def bfs(start):\n",
    "    bfs_cnt = 1\n",
    "    queue = deque([start])\n",
    "    visited[start] = True\n",
    "    while queue:\n",
    "        now.queue.popleft()\n",
    "        for nearnode graph[now]:\n",
    "            queue.append(nearnode)\n",
    "            visited[nearnode]=True\n",
    "    \n",
    "    \n",
    "    bfs_cnt+=1\n",
    "    if bfs_cnt = 4 :\n",
    "        break"
   ]
  },
  {
   "cell_type": "markdown",
   "id": "3fe9977c",
   "metadata": {},
   "source": [
    "https://resilient-923.tistory.com/354"
   ]
  }
 ],
 "metadata": {
  "kernelspec": {
   "display_name": "Python 3 (ipykernel)",
   "language": "python",
   "name": "python3"
  },
  "language_info": {
   "codemirror_mode": {
    "name": "ipython",
    "version": 3
   },
   "file_extension": ".py",
   "mimetype": "text/x-python",
   "name": "python",
   "nbconvert_exporter": "python",
   "pygments_lexer": "ipython3",
   "version": "3.11.1"
  }
 },
 "nbformat": 4,
 "nbformat_minor": 5
}
