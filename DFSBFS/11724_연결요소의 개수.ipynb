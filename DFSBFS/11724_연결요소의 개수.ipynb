{
 "cells": [
  {
   "cell_type": "markdown",
   "id": "5199bd55",
   "metadata": {},
   "source": [
    "## 해결해야 하는 것 \n",
    "- 입력값 받아오기\n",
    "- DFS 함수 한 번 돌 때마다 count해주기\n"
   ]
  },
  {
   "cell_type": "code",
   "execution_count": 27,
   "id": "cfd97824",
   "metadata": {},
   "outputs": [
    {
     "name": "stdout",
     "output_type": "stream",
     "text": [
      "6 8\n"
     ]
    }
   ],
   "source": [
    "# 입력값 받아오기\n",
    "\n",
    "N, M = map(int,input().split())"
   ]
  },
  {
   "cell_type": "code",
   "execution_count": 28,
   "id": "b41f7d52",
   "metadata": {},
   "outputs": [
    {
     "name": "stdout",
     "output_type": "stream",
     "text": [
      "1 2\n",
      "2 5\n",
      "5 1\n",
      "3 4\n",
      "4 6\n",
      "5 4\n",
      "2 4\n",
      "2 3\n"
     ]
    }
   ],
   "source": [
    "graph = [[]for _ in range(N+1)]\n",
    "\n",
    "for _ in range(M):\n",
    "    a,b = map(int,input().split())\n",
    "    graph[a].append(b)\n",
    "    graph[b].append(a)"
   ]
  },
  {
   "cell_type": "code",
   "execution_count": 29,
   "id": "6e202dbf",
   "metadata": {},
   "outputs": [
    {
     "name": "stdout",
     "output_type": "stream",
     "text": [
      "[[], [2, 5], [1, 5, 4, 3], [4, 2], [3, 6, 5, 2], [2, 1, 4], [4]]\n"
     ]
    }
   ],
   "source": [
    "print(graph)"
   ]
  },
  {
   "cell_type": "code",
   "execution_count": 30,
   "id": "765df22c",
   "metadata": {},
   "outputs": [
    {
     "name": "stdout",
     "output_type": "stream",
     "text": [
      "[False, False, False, False, False, False, False]\n"
     ]
    }
   ],
   "source": [
    "# visited 배열\n",
    "visited = [False] * (1+N)\n",
    "count = 0 # 컴포넌트 그래프 개수 저장\n",
    "print(visited)"
   ]
  },
  {
   "cell_type": "markdown",
   "id": "be9dd53e",
   "metadata": {},
   "source": [
    "DFS로 그래프를 탐색하는 함수를 만들어주고, 1~N번의 노드를 돌면서 DFS함수를 수행하면서 갯수를 카운트 해주는 코드 작성하기"
   ]
  },
  {
   "cell_type": "code",
   "execution_count": 31,
   "id": "445c8084",
   "metadata": {},
   "outputs": [],
   "source": [
    "def dfs(start):\n",
    "    \n",
    "    # 해당 노드를 방문체크 한다\n",
    "    visited[start] = True\n",
    "    \n",
    "    \n",
    "    #해당 시작점을 기준으로 계속해서 dfs로 그래프를 탐색한다.\n",
    "    for i in graph[start]:\n",
    "        if not visited[i]:\n",
    "            dfs(i)"
   ]
  },
  {
   "cell_type": "code",
   "execution_count": 32,
   "id": "c9e8df0d",
   "metadata": {},
   "outputs": [
    {
     "name": "stdout",
     "output_type": "stream",
     "text": [
      "[2, 5]\n"
     ]
    }
   ],
   "source": [
    "print(graph[1])"
   ]
  },
  {
   "cell_type": "code",
   "execution_count": 33,
   "id": "c0d5f5d3",
   "metadata": {},
   "outputs": [
    {
     "name": "stdout",
     "output_type": "stream",
     "text": [
      "1\n"
     ]
    }
   ],
   "source": [
    "#1~N번의 노드를 각각 돌면서\n",
    "for i in range(1,N+1):\n",
    "    if not visited[i]: # 만약 i 번째 노드를 방문하지 않았다면\n",
    "        dfs(i)\n",
    "        count += 1\n",
    "print(count)"
   ]
  },
  {
   "cell_type": "markdown",
   "id": "608513c3",
   "metadata": {},
   "source": [
    "시간초과 발생"
   ]
  },
  {
   "cell_type": "code",
   "execution_count": null,
   "id": "57c519a4",
   "metadata": {},
   "outputs": [],
   "source": [
    "import sys\n",
    "sys.setrecursionlimit(10000)\n",
    "\n",
    "def dfs(v):\n",
    "    visited[v] = True\n",
    "    for e in adj[v]:\n",
    "        if not visited[e]:\n",
    "            dfs(e)\n",
    "            \n",
    "N, M = map(int, input().split())\n",
    "adj = [[] for _ in range(N + 1)]\n",
    "visited = [False] * (N + 1)\n",
    "count = 0\n",
    "\n",
    "for _ in range(M):\n",
    "    u, v = map(int, input().split())\n",
    "    adj[u].append(v)\n",
    "    adj[v].append(u)\n",
    "    \n",
    "for j in range(1, N + 1):\n",
    "    if not visited[j]:\n",
    "        dfs(j)\n",
    "        count += 1\n",
    "\n",
    "print(count)"
   ]
  }
 ],
 "metadata": {
  "kernelspec": {
   "display_name": "Python 3 (ipykernel)",
   "language": "python",
   "name": "python3"
  },
  "language_info": {
   "codemirror_mode": {
    "name": "ipython",
    "version": 3
   },
   "file_extension": ".py",
   "mimetype": "text/x-python",
   "name": "python",
   "nbconvert_exporter": "python",
   "pygments_lexer": "ipython3",
   "version": "3.11.1"
  }
 },
 "nbformat": 4,
 "nbformat_minor": 5
}
