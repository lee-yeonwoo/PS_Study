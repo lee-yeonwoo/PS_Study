{
 "cells": [
  {
   "cell_type": "markdown",
   "id": "37496acf",
   "metadata": {},
   "source": [
    "## 해결해야 하는 것\n",
    "- 이차원리스트로 입력값 받아오기\n",
    "- bfs()함수\n",
    "    - if 1과 연결되어 있으면 탐색 시작\n",
    "    - 3번째 bfs()면 반복문 탈출(2번째까지만 탐색하도록)\n",
    "        -> 거리가 2이상 3이하인 노드의 개수를 출력해주면 된다"
   ]
  },
  {
   "cell_type": "markdown",
   "id": "1d5fd39d",
   "metadata": {},
   "source": [
    "https://jinho-study.tistory.com/893"
   ]
  },
  {
   "cell_type": "markdown",
   "id": "b894949a",
   "metadata": {},
   "source": [
    "시간복잡도 : "
   ]
  },
  {
   "cell_type": "code",
   "execution_count": 4,
   "id": "3f980564",
   "metadata": {},
   "outputs": [
    {
     "name": "stdout",
     "output_type": "stream",
     "text": [
      "6\n",
      "5\n",
      "1 2\n",
      "1 3\n",
      "3 4\n",
      "2 3\n",
      "4 5\n"
     ]
    }
   ],
   "source": [
    "n = int(input())\n",
    "m = int(input())\n",
    "\n",
    "#이차원리스트만들기\n",
    "graph = [[] for _ in range(m+1)]\n",
    "for _ in range(m):\n",
    "    u,v = map(int,input().split())\n",
    "    graph[u].append(v)\n",
    "    graph[v].append(u)"
   ]
  },
  {
   "cell_type": "code",
   "execution_count": 5,
   "id": "955dd3bd",
   "metadata": {},
   "outputs": [
    {
     "name": "stdout",
     "output_type": "stream",
     "text": [
      "[[], [2, 3], [1, 3], [1, 4, 2], [3, 5], [4]]\n"
     ]
    }
   ],
   "source": [
    "print(graph)"
   ]
  },
  {
   "cell_type": "code",
   "execution_count": 8,
   "id": "a963635d",
   "metadata": {},
   "outputs": [],
   "source": [
    "visited = [0]*(n+1)"
   ]
  },
  {
   "cell_type": "code",
   "execution_count": 11,
   "id": "c5bf0e54",
   "metadata": {},
   "outputs": [
    {
     "name": "stdout",
     "output_type": "stream",
     "text": [
      "3\n"
     ]
    }
   ],
   "source": [
    "from collections import deque\n",
    "\n",
    "def bfs(start):\n",
    "    q = deque()\n",
    "    q.append(start)\n",
    "    \n",
    "    #나부터 방문\n",
    "    visited[start]=1\n",
    "    while q:\n",
    "        start = q.popleft()\n",
    "        for nearnode in graph[start]:\n",
    "            if not visited[nearnode]:\n",
    "                visited[nearnode]= visited[start]+1\n",
    "                q.append(nearnode)\n",
    "bfs(1)\n",
    "\n",
    "\n",
    "\n",
    "# 방문 순서가 2번째인 사람과 3번째인 사람의 수를 합하여 출력\n",
    "print(visited.count(2)+visited.count(3))\n",
    "\n"
   ]
  },
  {
   "cell_type": "code",
   "execution_count": null,
   "id": "6b8fd734",
   "metadata": {},
   "outputs": [],
   "source": []
  }
 ],
 "metadata": {
  "kernelspec": {
   "display_name": "Python 3 (ipykernel)",
   "language": "python",
   "name": "python3"
  },
  "language_info": {
   "codemirror_mode": {
    "name": "ipython",
    "version": 3
   },
   "file_extension": ".py",
   "mimetype": "text/x-python",
   "name": "python",
   "nbconvert_exporter": "python",
   "pygments_lexer": "ipython3",
   "version": "3.11.1"
  }
 },
 "nbformat": 4,
 "nbformat_minor": 5
}
