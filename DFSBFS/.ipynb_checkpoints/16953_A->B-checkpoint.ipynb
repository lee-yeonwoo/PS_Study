{
 "cells": [
  {
   "cell_type": "markdown",
   "id": "f5cde42d",
   "metadata": {},
   "source": [
    "## 🐤 해결할 것\n",
    "\n",
    "- A 에다가 어떻게 1이라는 숫자만 추가하지? 문자열 결합 ? 근데 이게 문자가 아니라 숫자로 다시 변환하는 게 필요할 것 같은데??!\n",
    "- BFS함수를 B값이 나올 때까지 while문으로 반복하면 될 것 같아. \n",
    "- 큐 배열에다가 해당 노드*2 , 해당노드에 1추가한 것을 넣어주고 계속 pop 시켜주면 될듯\n"
   ]
  },
  {
   "cell_type": "code",
   "execution_count": 10,
   "id": "810f7ca8",
   "metadata": {},
   "outputs": [
    {
     "name": "stdout",
     "output_type": "stream",
     "text": [
      "21\n",
      "<class 'int'>\n"
     ]
    }
   ],
   "source": [
    "#숫자를 문자로 변환하고 1이라는 문자를 합치고 다시 숫자로 변환..?\n",
    "A= 2\n",
    "B = 1\n",
    "\n",
    "A=str(A)\n",
    "B=str(B)\n",
    "A=A+B\n",
    "A = int(A)\n",
    "print(A)\n",
    "print(type(A))"
   ]
  },
  {
   "cell_type": "code",
   "execution_count": 11,
   "id": "cd6b17b0",
   "metadata": {},
   "outputs": [
    {
     "name": "stdout",
     "output_type": "stream",
     "text": [
      "2 162\n"
     ]
    }
   ],
   "source": [
    "A, B = map(int,input().split())"
   ]
  },
  {
   "cell_type": "code",
   "execution_count": null,
   "id": "a4814177",
   "metadata": {},
   "outputs": [],
   "source": [
    "result = 0 #마지막에 출력할 답"
   ]
  },
  {
   "cell_type": "code",
   "execution_count": 16,
   "id": "80d4be16",
   "metadata": {},
   "outputs": [
    {
     "name": "stdout",
     "output_type": "stream",
     "text": [
      "deque([(2, 4)])\n",
      "deque([(2, 4), (2, 21)])\n",
      "deque([(2, 21), (3, 8)])\n",
      "deque([(2, 21), (3, 8), (3, 41)])\n",
      "deque([(3, 8), (3, 41), (3, 42)])\n",
      "deque([(3, 41), (3, 42), (4, 16)])\n",
      "deque([(3, 41), (3, 42), (4, 16), (4, 81)])\n",
      "deque([(3, 42), (4, 16), (4, 81), (4, 82)])\n",
      "deque([(4, 16), (4, 81), (4, 82), (4, 84)])\n",
      "deque([(4, 81), (4, 82), (4, 84), (5, 32)])\n",
      "deque([(4, 81), (4, 82), (4, 84), (5, 32), (5, 161)])\n",
      "deque([(4, 82), (4, 84), (5, 32), (5, 161), (5, 162)])\n",
      "deque([(5, 161), (5, 162), (6, 64)])\n",
      "5\n"
     ]
    }
   ],
   "source": [
    "import sys\n",
    "from collections import deque\n",
    "\n",
    "q = deque([(1,A)]) #덱큐안에 뭐가 들어가야 할까\n",
    "\n",
    "while q:\n",
    "    cnt, x = q.popleft()\n",
    "    \n",
    "    #A와 B가 같다면 탐색 종료\n",
    "    if x == B :\n",
    "        break\n",
    "    #A가 B보다 작으면 계속 BFS를 수행해야 한다\n",
    "    if x*2 <= B:\n",
    "        q.append((cnt+1, x*2)) #또 연산을 담아준다\n",
    "        print(q)\n",
    "        \n",
    "    #1을 오른쪽에 추가한다\n",
    "    if x *10 +1 <= B:\n",
    "        q.append((cnt+1,x*10+1))\n",
    "        print(q)\n",
    "#     else :\n",
    "#         print(-1)\n",
    "print(cnt)"
   ]
  },
  {
   "cell_type": "code",
   "execution_count": null,
   "id": "eed58fdf",
   "metadata": {},
   "outputs": [],
   "source": []
  }
 ],
 "metadata": {
  "kernelspec": {
   "display_name": "Python 3 (ipykernel)",
   "language": "python",
   "name": "python3"
  },
  "language_info": {
   "codemirror_mode": {
    "name": "ipython",
    "version": 3
   },
   "file_extension": ".py",
   "mimetype": "text/x-python",
   "name": "python",
   "nbconvert_exporter": "python",
   "pygments_lexer": "ipython3",
   "version": "3.11.1"
  }
 },
 "nbformat": 4,
 "nbformat_minor": 5
}
