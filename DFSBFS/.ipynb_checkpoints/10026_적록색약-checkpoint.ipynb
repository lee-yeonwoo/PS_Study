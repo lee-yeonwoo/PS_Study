{
 "cells": [
  {
   "cell_type": "markdown",
   "id": "77a14de2",
   "metadata": {},
   "source": [
    "## 해결해야 하는 것\n",
    "1. 입력값 이차원배열로 받아오기\n",
    "2. DFS() 함수 \n",
    "    2.1 일반인일 때\n",
    "        if not visited 하고 같은 문자라면 1)방문체크 2)DFS() -> 다 돌면 count+=1\n",
    "    2.2 적록색약일 때\n",
    "        if G이면 R로 바꾸고 탐색시작\n",
    "        \n",
    "3. 구역별로 count\n"
   ]
  },
  {
   "cell_type": "code",
   "execution_count": null,
   "id": "9df47842",
   "metadata": {},
   "outputs": [],
   "source": [
    "# 재귀 limit 설정\n",
    "import sys\n",
    "sys.setrecursionlimit(10000)\n"
   ]
  },
  {
   "cell_type": "code",
   "execution_count": 2,
   "id": "ca5bc4f2",
   "metadata": {},
   "outputs": [
    {
     "name": "stdout",
     "output_type": "stream",
     "text": [
      "5\n",
      "ㅇㄹㅇㄹ\n"
     ]
    }
   ],
   "source": [
    "#1 입력값 받아오기\n",
    "\n",
    "N = int(input())\n",
    "\n",
    "graph = [[for i in range(N) : \n",
    "          input()]]\n",
    "# for i in range(N):\n",
    "#     graph.append(list(map(input().split())))"
   ]
  },
  {
   "cell_type": "code",
   "execution_count": null,
   "id": "5ec15ce3",
   "metadata": {},
   "outputs": [],
   "source": [
    "#2 DFS 정의\n",
    "def dfs(x,y):\n",
    "    dx = [0,0,-1,1]\n",
    "    dy = [1,-1,0,0]\n",
    "    \n",
    "    for i in range(4):\n",
    "        nx=x+dx[i]\n",
    "        ny=y+dy[i]\n",
    "        if (0 <= nx < M) and (0 <= ny < N):\n",
    "            if graph[ny][nx] == graph[x][y]: # 그래프의 원래노드와 인접한 노드의 원소가 같다면 \n",
    "                graph[ny][nx] = \"c\" #방문했다면 체크\n",
    "                dfs(nx,ny)"
   ]
  },
  {
   "cell_type": "code",
   "execution_count": null,
   "id": "a11b7736",
   "metadata": {},
   "outputs": [],
   "source": [
    "\n"
   ]
  }
 ],
 "metadata": {
  "kernelspec": {
   "display_name": "Python 3 (ipykernel)",
   "language": "python",
   "name": "python3"
  },
  "language_info": {
   "codemirror_mode": {
    "name": "ipython",
    "version": 3
   },
   "file_extension": ".py",
   "mimetype": "text/x-python",
   "name": "python",
   "nbconvert_exporter": "python",
   "pygments_lexer": "ipython3",
   "version": "3.11.1"
  }
 },
 "nbformat": 4,
 "nbformat_minor": 5
}
