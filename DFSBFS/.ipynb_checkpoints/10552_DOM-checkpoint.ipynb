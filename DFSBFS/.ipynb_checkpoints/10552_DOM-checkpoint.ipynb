{
 "cells": [
  {
   "cell_type": "markdown",
   "id": "689d9ef0",
   "metadata": {},
   "source": [
    "15:40 ~ 16:20\n",
    "다음 날 풀이참고 13:26 - \n",
    "# 과제 : 입력값 받아오기 연습, 사이클 발생시 대처 연습\n",
    "\n",
    "# 해결방법\n",
    "DFS 탐색.\n",
    "\n",
    "# 접근\n",
    "## 1. 사이클이 생기는가? 확인하기\n",
    "사이클이 발생하면 -1 을 출력해야 한다. 무한으로 계속 채널을 바꿀 것이기 때문.\n",
    "\n",
    "## 2. 현재 채널을 싫어하는 사람이 있는가?\n",
    "채널이 돌아갈 때마다 체크를 해줘야한다.\n",
    "\n",
    "노인들이 좋아하는 채널, 싫어하는 채널을 [좋아하는 채널, 싫어하는 채널] 요렇게 한 셋트로 해서 또 한 배열에 노인별로 넣으면 됨.\n",
    "즉, 이차원 배열을 만들고 그 리스트들을 탐색하는 방법을 쓰면 되겠다.\n",
    "즉 !! 재귀적으로 계속 탐색을 반복하는 함수를 짠다.\n",
    "그리고 탐색을 계속 하면서 dfs를 한 번 탐색할 때마다 cnt를 1씩 증가시켜주면 채널을 변경하는 횟수를 알 수 있다.\n",
    "\n",
    "![IMG_FB73F8EC3F8B-1.jpeg](attachment:IMG_FB73F8EC3F8B-1.jpeg)\n",
    "\n",
    "이렇게 ... !! \n",
    "자그럼 DFS 함수를 대충 짜보자. \n",
    "\n",
    "(여기까지 20분)\n"
   ]
  },
  {
   "cell_type": "code",
   "execution_count": 2,
   "id": "961bfba3",
   "metadata": {},
   "outputs": [
    {
     "ename": "SyntaxError",
     "evalue": "invalid syntax (1479314545.py, line 3)",
     "output_type": "error",
     "traceback": [
      "\u001b[0;36m  Cell \u001b[0;32mIn[2], line 3\u001b[0;36m\u001b[0m\n\u001b[0;31m    pensioners = [list(for _ in range(n) input())] #good,bad를 배열로 받아오는거...\u001b[0m\n\u001b[0m                       ^\u001b[0m\n\u001b[0;31mSyntaxError\u001b[0m\u001b[0;31m:\u001b[0m invalid syntax\n"
     ]
    }
   ],
   "source": [
    "# 입력값 받아오기\n",
    "n,m,p = map(int,input().split())\n",
    "pensioners = [list(for _ in range(n) input())] #good,bad를 배열로 받아오는거...\n",
    "visited = [[false] for _in range(M)]\n",
    "cnt = 0\n",
    "\n",
    "def dfs(v):\n",
    "    #cycle check 해서 -1 출력하게 하는거\n",
    "    \n",
    "    for i in range(n): #whlie문 써야하나? 같은 게 없다면 멈춰라 라는 조건 ? \n",
    "        if persioners[i][0] == persioners[i][1]:\n",
    "            dfs(min(i)) #따로 또 조건문 안 한 이유 : 어차피 1개여도 그냥 젤 작은 거 하면 걔가 나오니깐.\n",
    "            cnt+=1\n",
    "dfs(p) #persioners[i][1] == p 인것부터 탐색해라\n",
    "print(cnt)\n"
   ]
  },
  {
   "cell_type": "markdown",
   "id": "08c24c36",
   "metadata": {},
   "source": [
    "코드 쓰는데 20분.총 40분간 풀어보았음. \n",
    "입력값 받는 거 까먹음 \n",
    "dfs 어차피 다 다시 복습해야 하기 때문에 다른 사람 풀이를 보겠삼.\n",
    "\n",
    "## 입력값 받아오기"
   ]
  },
  {
   "cell_type": "code",
   "execution_count": null,
   "id": "0c35c882",
   "metadata": {},
   "outputs": [
    {
     "name": "stdout",
     "output_type": "stream",
     "text": [
      "3 3 1\n",
      "[[], [], [], []]\n"
     ]
    }
   ],
   "source": [
    "n,m,p = map(int,input().split())\n",
    "# 2차원 배열을 입력으로 받아올 때는 이렇게\n",
    "persioners = [[] for i in range(m+1)] #엥 이거 왜 m+1?\n",
    "print(persioners)\n",
    "visited = [[] for i in range(m+1)] #방문체크용 /갔던 곳은 다시 안갈 수 있도록\n",
    "#cnt=0 이거는 dfs 함수 안으로 ?왜?\n",
    "\n",
    "#맨 처음부터 입력값을 바로 넣어서 배열을 만들수 있는 방법은 없는가?\n",
    "for i in range(n): # n만큼 요소를 넣어서 그래프들을 초기화 해준더\n",
    "    a,b = map(int,input().split())\n",
    "    persioners[b].append(a)\n",
    "    visited[b].append(0)"
   ]
  },
  {
   "cell_type": "markdown",
   "id": "033304ed",
   "metadata": {},
   "source": [
    "## DFS 함수"
   ]
  },
  {
   "cell_type": "code",
   "execution_count": null,
   "id": "c7b928a7",
   "metadata": {},
   "outputs": [],
   "source": [
    "def dfs(start):\n",
    "    # 그... 사이클 체크를 하는게 필요했자나\n",
    "    q = deaue() # 사이클 체크 검사하기 위한 큐를 만들어야 함\n",
    "    q.append(start) # 맨 첨 que 값을 집어넣고\n",
    "    cnt = 0 # 개수를 기록할 변수 초기화\n",
    "    \n",
    "    # while 문은 이렇게 쓰면 돼\n",
    "    while q: #큐에 요소가 없을 때까지 반복\n",
    "        st = q.popleft() #큐에 있는 값을 꺼내서 (start 값)\n",
    "        for i in range(len(persioners[st])): # 그래프 요소 수만큼 반복\n",
    "            if persioners[st][i] != 0 and visit[st][i] == 0 #아직 방문하지 않았고 그래프가 연결되어 있으면\n",
    "            q.append(persioners[st][i]) #큐에 추가\n",
    "            visit[st][i] = 1 # 방문처리\n",
    "            cnt += 1 #개수하나 추가\n",
    "            break\n",
    "        if visit[st][i] == 1: # 이미 방문했을 경우 (순환그래프일 경우) -1을 반환\n",
    "            return -1\n",
    "    return cnt\n",
    "\n",
    "\n",
    "\n",
    "\n",
    "\n",
    "print(dfs(p)) #p부터 시작"
   ]
  },
  {
   "cell_type": "markdown",
   "id": "5b32a222",
   "metadata": {},
   "source": [
    "# DFS와 Que의 조합 ...!! 👍\n",
    "좋은데 ?\n",
    "원래 제일 작은 인덱스 값을 추출하려고 min()함수 이런걸 생각했는데 그냥 인덱스값이 제일 앞에 있는애부터, 그러니까 배열 안에 1번째 원소를 빼면 되니까 이 부분 코드도 줄일 수 있다.\n",
    "\n",
    "순서에 관련된 거라면 큐를 적극적으로 활용해보자.\n",
    "우선순위가 연관되어 있다면 큐를 활용해보자.\n",
    "그리고 사이클을 발견해야 할 때는 방문 배열을 활용해서 여기에 방문체크가 되어있다면 ! 사이클이 발생하는 것 !! 방문배열도 잘이용해보자 ! \n",
    "\n",
    "좋은 문제인것 같당 ㅎㅎ"
   ]
  }
 ],
 "metadata": {
  "kernelspec": {
   "display_name": "Python 3 (ipykernel)",
   "language": "python",
   "name": "python3"
  },
  "language_info": {
   "codemirror_mode": {
    "name": "ipython",
    "version": 3
   },
   "file_extension": ".py",
   "mimetype": "text/x-python",
   "name": "python",
   "nbconvert_exporter": "python",
   "pygments_lexer": "ipython3",
   "version": "3.11.1"
  }
 },
 "nbformat": 4,
 "nbformat_minor": 5
}
