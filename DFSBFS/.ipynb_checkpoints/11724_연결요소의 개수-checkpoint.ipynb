{
 "cells": [
  {
   "cell_type": "markdown",
   "id": "a38c3035",
   "metadata": {},
   "source": [
    "## 해결해야 하는 것 \n",
    "- 입력값 받아오기\n",
    "- DFS 함수 한 번 돌 때마다 count해주기\n"
   ]
  },
  {
   "cell_type": "code",
   "execution_count": 6,
   "id": "d72923c3",
   "metadata": {},
   "outputs": [
    {
     "name": "stdout",
     "output_type": "stream",
     "text": [
      "6 5\n"
     ]
    }
   ],
   "source": [
    "# 입력값 받아오기\n",
    "\n",
    "N, M = map(int,input().split())"
   ]
  },
  {
   "cell_type": "code",
   "execution_count": 9,
   "id": "515bd4e7",
   "metadata": {},
   "outputs": [
    {
     "name": "stdout",
     "output_type": "stream",
     "text": [
      "1 2\n",
      "2 5\n",
      "5 1\n",
      "3 4\n",
      "4 6\n"
     ]
    }
   ],
   "source": [
    "graph = [[]for _ in range(N+1)]\n",
    "\n",
    "for _ in range(M):\n",
    "    a,b = map(int,input().split())\n",
    "    graph[a].append(b)\n",
    "    graph[b].append(a)"
   ]
  },
  {
   "cell_type": "code",
   "execution_count": 10,
   "id": "7c8ccf2e",
   "metadata": {},
   "outputs": [
    {
     "name": "stdout",
     "output_type": "stream",
     "text": [
      "[[], [2, 5], [1, 5], [4], [3, 6], [2, 1], [4]]\n"
     ]
    }
   ],
   "source": [
    "print(graph)"
   ]
  },
  {
   "cell_type": "code",
   "execution_count": 11,
   "id": "c38d7b32",
   "metadata": {},
   "outputs": [
    {
     "name": "stdout",
     "output_type": "stream",
     "text": [
      "[False, False, False, False, False, False, False]\n"
     ]
    }
   ],
   "source": [
    "# visited 배열\n",
    "visited = [False] * (1+N)\n",
    "count = 0 # 컴포넌트 그래프 개수 저장\n",
    "print(visited)"
   ]
  },
  {
   "cell_type": "markdown",
   "id": "ae46f705",
   "metadata": {},
   "source": [
    "DFS로 그래프를 탐색하는 함수를 만들어주고, 1~N번의 노드를 돌면서 DFS함수를 수행하면서 갯수를 카운트 해주는 코드 작성하기"
   ]
  },
  {
   "cell_type": "code",
   "execution_count": 23,
   "id": "c2980f77",
   "metadata": {},
   "outputs": [],
   "source": [
    "def dfs(start):\n",
    "    \n",
    "    # 해당 노드를 방문체크 한다\n",
    "    visited[start] = True\n",
    "    \n",
    "    \n",
    "    #해당 시작점을 기준으로 계속해서 dfs로 그래프를 탐색한다.\n",
    "    for i in graph[start]:\n",
    "        if not visited[i]:\n",
    "            dfs(i)"
   ]
  },
  {
   "cell_type": "code",
   "execution_count": 24,
   "id": "e41dd8f6",
   "metadata": {},
   "outputs": [
    {
     "name": "stdout",
     "output_type": "stream",
     "text": [
      "[2, 5]\n"
     ]
    }
   ],
   "source": [
    "print(graph[1])"
   ]
  },
  {
   "cell_type": "code",
   "execution_count": 26,
   "id": "837a9f87",
   "metadata": {},
   "outputs": [
    {
     "name": "stdout",
     "output_type": "stream",
     "text": [
      "2\n"
     ]
    }
   ],
   "source": [
    "#1~N번의 노드를 각각 돌면서\n",
    "for i in range(1,N+1):\n",
    "    if not visited[i]: # 만약 i 번째 노드를 방문하지 않았다면\n",
    "        dfs(i)\n",
    "        count += 1\n",
    "print(count)"
   ]
  }
 ],
 "metadata": {
  "kernelspec": {
   "display_name": "Python 3 (ipykernel)",
   "language": "python",
   "name": "python3"
  },
  "language_info": {
   "codemirror_mode": {
    "name": "ipython",
    "version": 3
   },
   "file_extension": ".py",
   "mimetype": "text/x-python",
   "name": "python",
   "nbconvert_exporter": "python",
   "pygments_lexer": "ipython3",
   "version": "3.11.1"
  }
 },
 "nbformat": 4,
 "nbformat_minor": 5
}
