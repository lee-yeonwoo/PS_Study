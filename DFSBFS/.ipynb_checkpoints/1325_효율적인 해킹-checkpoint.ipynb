{
 "cells": [
  {
   "cell_type": "markdown",
   "id": "967c4e5b",
   "metadata": {},
   "source": [
    "## 접근방식\n",
    "- 처음에는 연결되어있는 데이터를 자꾸 타고타고 들어가니까 재귀함수를 사용하는 dfs를 생각했음\n",
    "- 근데 연결되어 있는 데이터가 여러개인 경우도 있기 때문에 이를 한 번에 처리하는 게 더 효율적일 수도 있겠다는 생각\n",
    "-> bfs로 풀어야징 !"
   ]
  },
  {
   "cell_type": "markdown",
   "id": "f682ae0c",
   "metadata": {},
   "source": [
    "## 해결해야 하는 것\n",
    "\n",
    "- 입력값 받아오기...연결되어있는 데이터를..bfs로 풀어야 할 때도 이차원행렬로 받아왔었나 생각이 안남 ㅇㄴ\n",
    "- 여튼 받아왔으면 bfs()함수를 만들어야 함\n",
    "\n",
    "bfs(현재 노드):\n",
    "    for i in range(1,M):\n",
    "        queue = [1이랑 연결되어 있는 데이터]\n",
    "        queue.pop(0)\n",
    "        count+=0\n",
    "        bfs(a)"
   ]
  },
  {
   "cell_type": "code",
   "execution_count": 3,
   "id": "eb9e14ee",
   "metadata": {},
   "outputs": [
    {
     "name": "stdout",
     "output_type": "stream",
     "text": [
      "2 3\n"
     ]
    }
   ],
   "source": [
    "N, M = map(int,input().split())"
   ]
  },
  {
   "cell_type": "code",
   "execution_count": null,
   "id": "8d33f1c6",
   "metadata": {},
   "outputs": [],
   "source": [
    "#다른 사람거 참고(센스있당...)\n",
    "\n",
    "count = [0]*(N+1)"
   ]
  },
  {
   "cell_type": "code",
   "execution_count": null,
   "id": "ea65166d",
   "metadata": {},
   "outputs": [],
   "source": [
    "###dfs####\n",
    "#동빈나강의참고#\n",
    "\n",
    "from collections import deque\n",
    "\n",
    "#BFS 메서드정의\n",
    "def bfs(start):\n",
    "    count = 1\n",
    "    queue = deque([start])\n",
    "    #현재노드를 방문처리\n",
    "    visited[start] = True\n",
    "    #큐가 빌 때까지 반복\n",
    "    while queue:\n",
    "        #큐에서 하나의 원소를 뽑기\n",
    "            now = queue.popleft()\n",
    "            \n",
    "            #아직 방문하지 않은 인접한 원소들을 큐에 삽입\n",
    "            for nearnode in graph[now]:\n",
    "                if not visited[nearnode]:\n",
    "                    queue.append(nearnode)\n",
    "                    count+=1\n",
    "                    visited[nearnode]=True\n",
    "    count[i] = count\n",
    "                    \n",
    "                    \n"
   ]
  },
  {
   "cell_type": "code",
   "execution_count": 14,
   "id": "f7fd1dbb",
   "metadata": {},
   "outputs": [
    {
     "name": "stdout",
     "output_type": "stream",
     "text": [
      "3 1\n",
      "3 2\n"
     ]
    }
   ],
   "source": [
    "#각 노드가 연결된 정보를 표현 ( 2차원 리스트)\n",
    "graph = []\n",
    "for i in range(N):\n",
    "    graph.append(list(map(int,input().split())))"
   ]
  },
  {
   "cell_type": "code",
   "execution_count": null,
   "id": "427a669d",
   "metadata": {},
   "outputs": [],
   "source": [
    "#각 노드가 방문된 정보를 표현(1차원리스트)\n",
    "visited = [False]*(N+1)"
   ]
  },
  {
   "cell_type": "code",
   "execution_count": null,
   "id": "5aec4a9f",
   "metadata": {},
   "outputs": [],
   "source": [
    "#답출력\n",
    "\n",
    "answer = \"\"\n",
    "for i in range(1,N+1):\n",
    "    if count[i] == max(count):\n",
    "        answer += str(i)+\"\"\n",
    "        \n",
    "print(answer[:-1])"
   ]
  },
  {
   "cell_type": "markdown",
   "id": "a5419dae",
   "metadata": {},
   "source": [
    "정답코드"
   ]
  },
  {
   "cell_type": "code",
   "execution_count": null,
   "id": "19b847d5",
   "metadata": {},
   "outputs": [],
   "source": [
    "import sys\n",
    "from collections import deque\n",
    "\n",
    "N, M = map(int, sys.stdin.readline().split())\n",
    "graph = [[] for _ in range(N+1)]\n",
    "\n",
    "for _ in range(M):\n",
    "    A, B = map(int, sys.stdin.readline().split())\n",
    "    graph[B].append(A)\n",
    "\n",
    "howManyHack = [0] * (N+1)\n",
    "\n",
    "for i in range(1, N+1):\n",
    "    visit = [False] * (N + 1)\n",
    "    howMany = 1\n",
    "    # BFS\n",
    "    q = deque()\n",
    "    q.append(i)\n",
    "    visit[i] = True\n",
    "    while q:\n",
    "        now = q.popleft()\n",
    "        for x in graph[now]:\n",
    "            if not visit[x]:\n",
    "                q.append(x)\n",
    "                howMany += 1\n",
    "                visit[x] = True\n",
    "    howManyHack[i] = howMany\n",
    "\n",
    "#print(howManyHack)\n",
    "answer = \"\"\n",
    "for i in range(1, N+1):\n",
    "    if howManyHack[i] == max(howManyHack):\n",
    "        answer += str(i)+\" \"\n",
    "\n",
    "print(answer[:-1])"
   ]
  }
 ],
 "metadata": {
  "kernelspec": {
   "display_name": "Python 3 (ipykernel)",
   "language": "python",
   "name": "python3"
  },
  "language_info": {
   "codemirror_mode": {
    "name": "ipython",
    "version": 3
   },
   "file_extension": ".py",
   "mimetype": "text/x-python",
   "name": "python",
   "nbconvert_exporter": "python",
   "pygments_lexer": "ipython3",
   "version": "3.11.1"
  }
 },
 "nbformat": 4,
 "nbformat_minor": 5
}
