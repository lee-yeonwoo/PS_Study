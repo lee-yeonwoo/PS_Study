{
 "cells": [
  {
   "cell_type": "markdown",
   "id": "1bbf6b0b",
   "metadata": {},
   "source": [
    "## 피드백..그리디는 이렇게 생각해보자\n",
    "\n",
    "- 케이스를 나누기 !\n",
    "    본 문제에서도, 겹치는 경우와 겹치지 않는 경우 두가지가 있지 않았는가.\n",
    "- sort() 해줘야 하는 문제인지도 생각해봐야한다.\n",
    "- 자 그러면 겹치는 상황임을 어떻게 컴퓨터에게 알게할까를 생각해봐야한다. 여기서는 앞의 end점이 뒤의 start와 end 사이에 있다면, 겹쳐있는 상황이라고 판단하게 함. 그리고 end를 갱신해주는 방식\n"
   ]
  },
  {
   "cell_type": "markdown",
   "id": "21d6ff8a",
   "metadata": {},
   "source": [
    "## 잘못 생각\n",
    "## 만약에 앞에 있던 구간이라면, 그걸 제외하고 다음 숫자부터 거리를 더해라\n",
    "\n",
    "입력값 1,3을 받으면\n",
    "1,2,3이라는 값이 들어가게 하고\n",
    "\n",
    "그러면 다음 값 2,5를 받으면\n",
    "2,3,4,5가 데이터가 되는데\n",
    "2는 앞에 있었으니까 3부터 5까지의 거릿값을 더해준다"
   ]
  },
  {
   "cell_type": "code",
   "execution_count": 6,
   "id": "7d3acc7b",
   "metadata": {},
   "outputs": [
    {
     "name": "stdout",
     "output_type": "stream",
     "text": [
      "4\n",
      "1 3\n",
      "2 5\n",
      "3 5\n",
      "6 7\n",
      "1\n"
     ]
    }
   ],
   "source": [
    "\n",
    "\n",
    "N = int(input())\n",
    "lines = []\n",
    "for i in range(N):\n",
    "    lines.append(tuple(map(int,input().split())))\n",
    "lines.sort()  \n",
    "start = lines[0][0]\n",
    "end = lines[0][1]\n",
    "result=0\n",
    "    \n",
    "for i in range(1, N):\n",
    "    #겹치는 경우\n",
    "    if lines[i][0] <= end < lines[i][1]:\n",
    "        end = max(end,lines[i][1])\n",
    "        \n",
    "    #겹치지 않는 경우\n",
    "    elif lines[i][0] > end:\n",
    "        result += end - start\n",
    "        start = lines[i][0]\n",
    "        end = lines[0][1]\n",
    "        \n",
    "result += end - start\n",
    "\n",
    "print(result)\n"
   ]
  },
  {
   "cell_type": "markdown",
   "id": "9a623ca2",
   "metadata": {},
   "source": [
    "아래코드는 에러가 난다. 왤까"
   ]
  },
  {
   "cell_type": "code",
   "execution_count": 7,
   "id": "4c64e100",
   "metadata": {},
   "outputs": [
    {
     "ename": "IndentationError",
     "evalue": "unexpected indent (2309388881.py, line 2)",
     "output_type": "error",
     "traceback": [
      "\u001b[0;36m  Cell \u001b[0;32mIn[7], line 2\u001b[0;36m\u001b[0m\n\u001b[0;31m    nodelist.append[x:y]\u001b[0m\n\u001b[0m    ^\u001b[0m\n\u001b[0;31mIndentationError\u001b[0m\u001b[0;31m:\u001b[0m unexpected indent\n"
     ]
    }
   ],
   "source": [
    "nodelist=[]\n",
    "    nodelist.append[x:y]\n",
    "    ##1,2,3\n",
    "    \n",
    "    \n",
    "print(len(nodelist))"
   ]
  },
  {
   "cell_type": "markdown",
   "id": "4710e847",
   "metadata": {},
   "source": [
    "아래 코드는 다른 사람 코드이다."
   ]
  },
  {
   "cell_type": "code",
   "execution_count": 9,
   "id": "7f9522c1",
   "metadata": {},
   "outputs": [
    {
     "name": "stdout",
     "output_type": "stream",
     "text": [
      "4\n",
      "1 3\n",
      "2 5\n",
      "3 5\n",
      "6 7\n",
      "5\n"
     ]
    }
   ],
   "source": [
    "N = int(input())\n",
    "arr = []\n",
    "for i in range(N):\n",
    "    arr.append(tuple(map(int, input().split())))\n",
    "\n",
    "start = arr[0][0]\n",
    "end = arr[0][1]\n",
    "result = 0\n",
    "\n",
    "for i in range(1, N):\n",
    "    # 겹치는 경우\n",
    "    if arr[i][0] <= end < arr[i][1]:\n",
    "        end = max(end, arr[i][1])\n",
    "\n",
    "    # 겹치지 않는 경우\n",
    "    elif arr[i][0] > end:\n",
    "        result += end - start\n",
    "        start = arr[i][0]\n",
    "        end = arr[i][1]\n",
    "\n",
    "result += end - start\n",
    "\n",
    "print(result)"
   ]
  },
  {
   "cell_type": "code",
   "execution_count": null,
   "id": "e220c87f",
   "metadata": {},
   "outputs": [],
   "source": []
  }
 ],
 "metadata": {
  "kernelspec": {
   "display_name": "Python 3 (ipykernel)",
   "language": "python",
   "name": "python3"
  },
  "language_info": {
   "codemirror_mode": {
    "name": "ipython",
    "version": 3
   },
   "file_extension": ".py",
   "mimetype": "text/x-python",
   "name": "python",
   "nbconvert_exporter": "python",
   "pygments_lexer": "ipython3",
   "version": "3.11.1"
  }
 },
 "nbformat": 4,
 "nbformat_minor": 5
}
