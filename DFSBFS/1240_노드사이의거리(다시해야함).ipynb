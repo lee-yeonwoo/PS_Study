{
 "cells": [
  {
   "cell_type": "markdown",
   "id": "c7581a68",
   "metadata": {},
   "source": [
    "## ☁ 내 해결책\n",
    "- DFS 사용\n",
    "- 입력값을 받아오는게 까다로워 보임\n",
    "- 일단 graph와 distance 배열을 따로 만든다.\n",
    "- dfs() 함수를 돌면, distance의 값을 해당 노드와 같은 위치에 있는 distance배열에 있는 값을 더해주기"
   ]
  },
  {
   "cell_type": "code",
   "execution_count": 41,
   "id": "e1c3ae1a",
   "metadata": {},
   "outputs": [],
   "source": [
    "from collections import deque"
   ]
  },
  {
   "cell_type": "code",
   "execution_count": 42,
   "id": "ba873b21",
   "metadata": {},
   "outputs": [
    {
     "name": "stdout",
     "output_type": "stream",
     "text": [
      "4 2\n",
      "2 1 2\n",
      "4 3 2\n",
      "1 4 3\n",
      "1 2\n",
      "1 2\n",
      "3 2\n",
      "3 2\n"
     ]
    }
   ],
   "source": [
    "N, M = map(int,input().split())\n",
    "graph = [[] for _ in range(N+1)]\n",
    "visit = [False]*(N+1)\n",
    "distances = [[] for _ in range(N+1)]\n",
    "distance= 0\n",
    "\n",
    "for _ in range(N-1):\n",
    "    start,end,distance = map(int,input().split())\n",
    "    graph[start].append(end)\n",
    "    distances[start].append(distance)\n",
    "\n",
    "\n",
    "for _ in range(M):\n",
    "    A, B = map(int,input().split())\n",
    "    print(A,B)\n",
    "    "
   ]
  },
  {
   "cell_type": "code",
   "execution_count": 43,
   "id": "0834915a",
   "metadata": {},
   "outputs": [
    {
     "name": "stdout",
     "output_type": "stream",
     "text": [
      "[[], [4], [1], [], [3]]\n",
      "[[], [3], [2], [], [2]]\n"
     ]
    }
   ],
   "source": [
    "print(graph)\n",
    "print(distances)"
   ]
  },
  {
   "cell_type": "code",
   "execution_count": 46,
   "id": "a2322117",
   "metadata": {},
   "outputs": [],
   "source": [
    "def dfs(v):\n",
    "    # 해당 노드를 방문 체크한다\n",
    "    visit[v] = True\n",
    "    \n",
    "    for i in range(1,N+1):\n",
    "        if not visit[i] :\n",
    "                dfs(i)\n",
    "                distance = distance + int(distances[v])\n"
   ]
  },
  {
   "cell_type": "code",
   "execution_count": 50,
   "id": "1189fe1d",
   "metadata": {},
   "outputs": [
    {
     "ename": "KeyboardInterrupt",
     "evalue": "Interrupted by user",
     "output_type": "error",
     "traceback": [
      "\u001b[0;31m---------------------------------------------------------------------------\u001b[0m",
      "\u001b[0;31mKeyboardInterrupt\u001b[0m                         Traceback (most recent call last)",
      "Cell \u001b[0;32mIn[50], line 3\u001b[0m\n\u001b[1;32m      1\u001b[0m \u001b[38;5;28;01mfor\u001b[39;00m _ \u001b[38;5;129;01min\u001b[39;00m \u001b[38;5;28mrange\u001b[39m(M):\n\u001b[1;32m      2\u001b[0m     answer \u001b[38;5;241m=\u001b[39m []\n\u001b[0;32m----> 3\u001b[0m     A, B \u001b[38;5;241m=\u001b[39m \u001b[38;5;28mmap\u001b[39m(\u001b[38;5;28mint\u001b[39m,\u001b[38;5;28;43minput\u001b[39;49m\u001b[43m(\u001b[49m\u001b[43m)\u001b[49m\u001b[38;5;241m.\u001b[39msplit())\n\u001b[1;32m      4\u001b[0m     dfs(A)\n\u001b[1;32m      5\u001b[0m     answer\u001b[38;5;241m.\u001b[39mappend(distance)\n",
      "File \u001b[0;32m/Library/Frameworks/Python.framework/Versions/3.11/lib/python3.11/site-packages/ipykernel/kernelbase.py:1182\u001b[0m, in \u001b[0;36mKernel.raw_input\u001b[0;34m(self, prompt)\u001b[0m\n\u001b[1;32m   1180\u001b[0m     msg \u001b[38;5;241m=\u001b[39m \u001b[38;5;124m\"\u001b[39m\u001b[38;5;124mraw_input was called, but this frontend does not support input requests.\u001b[39m\u001b[38;5;124m\"\u001b[39m\n\u001b[1;32m   1181\u001b[0m     \u001b[38;5;28;01mraise\u001b[39;00m StdinNotImplementedError(msg)\n\u001b[0;32m-> 1182\u001b[0m \u001b[38;5;28;01mreturn\u001b[39;00m \u001b[38;5;28;43mself\u001b[39;49m\u001b[38;5;241;43m.\u001b[39;49m\u001b[43m_input_request\u001b[49m\u001b[43m(\u001b[49m\n\u001b[1;32m   1183\u001b[0m \u001b[43m    \u001b[49m\u001b[38;5;28;43mstr\u001b[39;49m\u001b[43m(\u001b[49m\u001b[43mprompt\u001b[49m\u001b[43m)\u001b[49m\u001b[43m,\u001b[49m\n\u001b[1;32m   1184\u001b[0m \u001b[43m    \u001b[49m\u001b[38;5;28;43mself\u001b[39;49m\u001b[38;5;241;43m.\u001b[39;49m\u001b[43m_parent_ident\u001b[49m\u001b[43m[\u001b[49m\u001b[38;5;124;43m\"\u001b[39;49m\u001b[38;5;124;43mshell\u001b[39;49m\u001b[38;5;124;43m\"\u001b[39;49m\u001b[43m]\u001b[49m\u001b[43m,\u001b[49m\n\u001b[1;32m   1185\u001b[0m \u001b[43m    \u001b[49m\u001b[38;5;28;43mself\u001b[39;49m\u001b[38;5;241;43m.\u001b[39;49m\u001b[43mget_parent\u001b[49m\u001b[43m(\u001b[49m\u001b[38;5;124;43m\"\u001b[39;49m\u001b[38;5;124;43mshell\u001b[39;49m\u001b[38;5;124;43m\"\u001b[39;49m\u001b[43m)\u001b[49m\u001b[43m,\u001b[49m\n\u001b[1;32m   1186\u001b[0m \u001b[43m    \u001b[49m\u001b[43mpassword\u001b[49m\u001b[38;5;241;43m=\u001b[39;49m\u001b[38;5;28;43;01mFalse\u001b[39;49;00m\u001b[43m,\u001b[49m\n\u001b[1;32m   1187\u001b[0m \u001b[43m\u001b[49m\u001b[43m)\u001b[49m\n",
      "File \u001b[0;32m/Library/Frameworks/Python.framework/Versions/3.11/lib/python3.11/site-packages/ipykernel/kernelbase.py:1225\u001b[0m, in \u001b[0;36mKernel._input_request\u001b[0;34m(self, prompt, ident, parent, password)\u001b[0m\n\u001b[1;32m   1222\u001b[0m \u001b[38;5;28;01mexcept\u001b[39;00m \u001b[38;5;167;01mKeyboardInterrupt\u001b[39;00m:\n\u001b[1;32m   1223\u001b[0m     \u001b[38;5;66;03m# re-raise KeyboardInterrupt, to truncate traceback\u001b[39;00m\n\u001b[1;32m   1224\u001b[0m     msg \u001b[38;5;241m=\u001b[39m \u001b[38;5;124m\"\u001b[39m\u001b[38;5;124mInterrupted by user\u001b[39m\u001b[38;5;124m\"\u001b[39m\n\u001b[0;32m-> 1225\u001b[0m     \u001b[38;5;28;01mraise\u001b[39;00m \u001b[38;5;167;01mKeyboardInterrupt\u001b[39;00m(msg) \u001b[38;5;28;01mfrom\u001b[39;00m \u001b[38;5;28mNone\u001b[39m\n\u001b[1;32m   1226\u001b[0m \u001b[38;5;28;01mexcept\u001b[39;00m \u001b[38;5;167;01mException\u001b[39;00m:\n\u001b[1;32m   1227\u001b[0m     \u001b[38;5;28mself\u001b[39m\u001b[38;5;241m.\u001b[39mlog\u001b[38;5;241m.\u001b[39mwarning(\u001b[38;5;124m\"\u001b[39m\u001b[38;5;124mInvalid Message:\u001b[39m\u001b[38;5;124m\"\u001b[39m, exc_info\u001b[38;5;241m=\u001b[39m\u001b[38;5;28;01mTrue\u001b[39;00m)\n",
      "\u001b[0;31mKeyboardInterrupt\u001b[0m: Interrupted by user"
     ]
    }
   ],
   "source": [
    "for _ in range(M):\n",
    "    answer = []\n",
    "    A, B = map(int,input().split())\n",
    "    dfs(A)\n",
    "    answer.append(distance)"
   ]
  },
  {
   "cell_type": "code",
   "execution_count": null,
   "id": "aa8a72c8",
   "metadata": {},
   "outputs": [],
   "source": [
    "print(answer)"
   ]
  },
  {
   "cell_type": "code",
   "execution_count": null,
   "id": "19f2d150",
   "metadata": {},
   "outputs": [],
   "source": [
    "from collections import deque\n",
    "\n",
    "def distance(x, y):\n",
    "    queue = deque()\n",
    "    queue.append((x, 0))\n",
    "\n",
    "    visited = [0 for _ in range(N+1)]\n",
    "    visited[x] = 1\n",
    "\n",
    "    while queue:\n",
    "        v, d = queue.popleft()\n",
    "\n",
    "        if v == y:\n",
    "            return d\n",
    "\n",
    "        for w, dist in graph[v]:\n",
    "            if not visited[w]:\n",
    "                visited[w] = 1\n",
    "                queue.append((w, d+dist))\n",
    "\n",
    "\n",
    "N, M = map(int, input().split())\n",
    "graph = [[] for _ in range(N+1)]\n",
    "\n",
    "for _ in range(N-1):\n",
    "    i, j, dist = map(int, input().split())\n",
    "\n",
    "    graph[i].append((j, dist))\n",
    "    graph[j].append((i, dist))\n",
    "\n",
    "for _ in range(M):\n",
    "    x, y = map(int, input().split())\n",
    "    print(distance(x, y))"
   ]
  }
 ],
 "metadata": {
  "kernelspec": {
   "display_name": "Python 3 (ipykernel)",
   "language": "python",
   "name": "python3"
  },
  "language_info": {
   "codemirror_mode": {
    "name": "ipython",
    "version": 3
   },
   "file_extension": ".py",
   "mimetype": "text/x-python",
   "name": "python",
   "nbconvert_exporter": "python",
   "pygments_lexer": "ipython3",
   "version": "3.11.1"
  }
 },
 "nbformat": 4,
 "nbformat_minor": 5
}
