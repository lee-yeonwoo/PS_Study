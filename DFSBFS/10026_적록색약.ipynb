{
 "cells": [
  {
   "cell_type": "markdown",
   "id": "f53ea3ca",
   "metadata": {},
   "source": [
    "## 해결해야 하는 것\n",
    "1. 입력값 이차원배열로 받아오기\n",
    "2. DFS() 함수 \n",
    "    2.1 일반인일 때\n",
    "        if not visited 하고 같은 문자라면 1)방문체크 2)DFS() -> 다 돌면 count+=1\n",
    "    2.2 적록색약일 때\n",
    "        if G이면 R로 바꾸고 탐색시작\n",
    "        \n",
    "3. 구역별로 count\n"
   ]
  },
  {
   "cell_type": "code",
   "execution_count": null,
   "id": "f3a2d423",
   "metadata": {},
   "outputs": [],
   "source": [
    "# 재귀 limit 설정\n",
    "import sys\n",
    "sys.setrecursionlimit(10000)\n"
   ]
  },
  {
   "cell_type": "code",
   "execution_count": 8,
   "id": "9f00d4b1",
   "metadata": {},
   "outputs": [
    {
     "name": "stdout",
     "output_type": "stream",
     "text": [
      "5\n",
      "RRRRR\n",
      "RRRRR\n",
      "RRRRR\n",
      "RRRRR\n",
      "RRRRR\n",
      "[[['RRRRR']], [['RRRRR']], [['RRRRR']], [['RRRRR']], [['RRRRR']]]\n"
     ]
    }
   ],
   "source": [
    "#1 입력값 받아오기\n",
    "\n",
    "N = int(input())\n",
    "\n",
    "graph = [[input()] for i in range(N)]"
   ]
  },
  {
   "cell_type": "code",
   "execution_count": null,
   "id": "6d3b0120",
   "metadata": {},
   "outputs": [],
   "source": [
    "#2 DFS 정의\n",
    "def dfs(x,y):\n",
    "    for i in range(4):\n",
    "        nx=x+dx[i]\n",
    "        ny=y+dy[i]\n",
    "        if (0 <= nx < M) and (0 <= ny < N):\n",
    "            if graph[ny][nx] == graph[x][y]: # 그래프의 원래노드와 인접한 노드의 원소가 같다면 \n",
    "                graph[ny][nx] = \"c\" #방문했다면 체크\n",
    "                dfs(nx,ny)"
   ]
  },
  {
   "cell_type": "markdown",
   "id": "f959e9ec",
   "metadata": {},
   "source": [
    "으아아아악 급한대로 다른 사람 코드 참고\n"
   ]
  },
  {
   "cell_type": "code",
   "execution_count": 9,
   "id": "20051b74",
   "metadata": {},
   "outputs": [
    {
     "name": "stdout",
     "output_type": "stream",
     "text": [
      "5\n",
      "RRRBB\n",
      "RRRBB\n",
      "RRRBB\n",
      "RRRBB\n",
      "RRRBB\n"
     ]
    }
   ],
   "source": [
    "#문자열 받아오기\n",
    "\n",
    "n = int(input().rstrip())\n",
    "matrix = [list(input().rstrip()) for _ in range(n)]\n"
   ]
  },
  {
   "cell_type": "code",
   "execution_count": 11,
   "id": "f0eaaf81",
   "metadata": {},
   "outputs": [],
   "source": [
    "visited = [[False] * n for _ in range(n)]\n",
    "\n",
    "three_cnt, two_cnt = 0, 0\n",
    "dx = [-1,1,0,0]\n",
    "dy = [0,0,-1,1]\n"
   ]
  },
  {
   "cell_type": "code",
   "execution_count": 12,
   "id": "fefed2d0",
   "metadata": {},
   "outputs": [
    {
     "name": "stdout",
     "output_type": "stream",
     "text": [
      "[[False, False, False, False, False], [False, False, False, False, False], [False, False, False, False, False], [False, False, False, False, False], [False, False, False, False, False]]\n"
     ]
    }
   ],
   "source": [
    "visited = [[False] * n for _ in range(n)]"
   ]
  },
  {
   "cell_type": "code",
   "execution_count": 6,
   "id": "127b91e7",
   "metadata": {},
   "outputs": [
    {
     "ename": "NameError",
     "evalue": "name 'n' is not defined",
     "output_type": "error",
     "traceback": [
      "\u001b[0;31m---------------------------------------------------------------------------\u001b[0m",
      "\u001b[0;31mNameError\u001b[0m                                 Traceback (most recent call last)",
      "Cell \u001b[0;32mIn[6], line 15\u001b[0m\n\u001b[1;32m     13\u001b[0m                     dfs(nx,ny)\n\u001b[1;32m     14\u001b[0m \u001b[38;5;66;03m#일반인 dfs수행\u001b[39;00m\n\u001b[0;32m---> 15\u001b[0m \u001b[38;5;28;01mfor\u001b[39;00m i \u001b[38;5;129;01min\u001b[39;00m \u001b[38;5;28mrange\u001b[39m(\u001b[43mn\u001b[49m):\n\u001b[1;32m     16\u001b[0m     \u001b[38;5;28;01mfor\u001b[39;00m j \u001b[38;5;129;01min\u001b[39;00m \u001b[38;5;28mrange\u001b[39m(n):\n\u001b[1;32m     17\u001b[0m         \u001b[38;5;66;03m# 방문하지 않은 좌표이면 dfs로 넣어준다.\u001b[39;00m\n\u001b[1;32m     18\u001b[0m         \u001b[38;5;28;01mif\u001b[39;00m visited[i][j]\u001b[38;5;241m==\u001b[39m\u001b[38;5;28;01mFalse\u001b[39;00m:\n",
      "\u001b[0;31mNameError\u001b[0m: name 'n' is not defined"
     ]
    }
   ],
   "source": [
    "def dfs(x,y):\n",
    "    #현재 색상 좌표를 방문해준다.\n",
    "    visited[x][y] = True\n",
    "    current_color = matrix[x][y]\n",
    "\n",
    "    for k in range(4):\n",
    "        nx = x + dx[k]\n",
    "        ny = y + dy[k]\n",
    "        if (0 <= nx < n) and (0 <= ny < n):\n",
    "            #현재 좌표의 색상과 상하좌우 좌표에 있는 색상이 같으면 dfs로 넣어준다.\n",
    "            if visited[nx][ny]==False:\n",
    "                if matrix[nx][ny] == current_color:\n",
    "                    dfs(nx,ny)\n",
    "#일반인 dfs수행\n",
    "for i in range(n):\n",
    "    for j in range(n):\n",
    "        # 방문하지 않은 좌표이면 dfs로 넣어준다.\n",
    "        if visited[i][j]==False:\n",
    "            dfs(i,j)\n",
    "            three_cnt += 1\n",
    "            \n",
    "            \n",
    "#색약인 dfs 수행\n",
    "#R을 G로 바꾸어준다. --> 적록색약은 같은 색으로 보기 때문에\n",
    "for i in range(n):\n",
    "    for j in range(n):\n",
    "        if matrix[i][j]=='R':\n",
    "            matrix[i][j]='G'\n",
    "\n",
    "visited = [[False] * n for _ in range(n)]\n",
    "\n",
    "\n",
    "\n",
    "for i in range(n):\n",
    "    for j in range(n):\n",
    "        if visited[i][j] == False:\n",
    "            dfs(i,j)\n",
    "            two_cnt += 1\n",
    "\n",
    "print(three_cnt,two_cnt)"
   ]
  },
  {
   "cell_type": "markdown",
   "id": "d41abcf1",
   "metadata": {},
   "source": [
    "다시 한 번 혼자 짜보자..\n",
    "\n",
    "1. 입력값 받아오기\n",
    "2. 배열 선언(graph&visited)\n",
    "3. dfs함수짜기\n",
    "4. dfs 수행코드"
   ]
  },
  {
   "cell_type": "code",
   "execution_count": 10,
   "id": "6b5a7a29",
   "metadata": {},
   "outputs": [
    {
     "name": "stdout",
     "output_type": "stream",
     "text": [
      "5\n",
      "RRRBB\n",
      "GGBBB\n",
      "BBBRR\n",
      "BBRRR\n",
      "RRRRR\n",
      "0 3\n"
     ]
    }
   ],
   "source": [
    "N = int(input().rstrip())\n",
    "graph = [list(input().rstrip()) for _ in range(N)]\n",
    "visited = [[False]*N for _ in range(N)]\n",
    "\n",
    "dx = [-1,1,0,0]\n",
    "dy = [0,0,-1,1]\n",
    "\n",
    "threecnt = 0\n",
    "twocnt = 0\n",
    "\n",
    "def dfs(x,y):\n",
    "    for k in range(4):\n",
    "        visited[x][y] = True\n",
    "        nx = x + dx[k]\n",
    "        ny = y + dy[k]\n",
    "        if (0<=nx<N) and (0<=ny<N):\n",
    "            if visited[nx][ny] == False :\n",
    "                if graph[nx][ny] == graph[x][y]:\n",
    "                    visited[nx][ny] == True\n",
    "                    dfs(nx,ny)\n",
    "\n",
    "# dfs 수행\n",
    "\n",
    "for i in range(N):\n",
    "    for j in range(N):\n",
    "        if visited[i][j] == False:\n",
    "            dfs(i,j)\n",
    "            threecnt+=1\n",
    "            \n",
    "for i in range(N):\n",
    "    for j in range(N):\n",
    "        if graph[i][j] == 'R':\n",
    "            graph[i][j] = 'G'\n",
    "\n",
    "visited = [[False]*N for _ in range(N)]\n",
    "\n",
    "for i in range(N):\n",
    "    for j in range(N):\n",
    "        if visited[i][j] == False :\n",
    "            dfs(i,j)\n",
    "            twocnt+=1\n",
    "\n",
    "print(threecnt,twocnt)"
   ]
  },
  {
   "cell_type": "code",
   "execution_count": null,
   "id": "fcd7a43a",
   "metadata": {},
   "outputs": [],
   "source": []
  }
 ],
 "metadata": {
  "kernelspec": {
   "display_name": "Python 3 (ipykernel)",
   "language": "python",
   "name": "python3"
  },
  "language_info": {
   "codemirror_mode": {
    "name": "ipython",
    "version": 3
   },
   "file_extension": ".py",
   "mimetype": "text/x-python",
   "name": "python",
   "nbconvert_exporter": "python",
   "pygments_lexer": "ipython3",
   "version": "3.11.1"
  }
 },
 "nbformat": 4,
 "nbformat_minor": 5
}
