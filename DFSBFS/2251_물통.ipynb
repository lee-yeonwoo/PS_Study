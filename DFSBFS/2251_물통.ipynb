{
 "cells": [
  {
   "cell_type": "markdown",
   "id": "043c5eff",
   "metadata": {},
   "source": [
    "## 접근\n",
    "\n",
    "이 문제는 DFS/BFS 문제인데, 어떻게 적용해야 할 지 모르겠어서 내가 생각한 방법으로 한 번 풀어보려 한다.\n",
    "\n",
    "테스트 케이스를 따로 2개 만들어서 규칙을 보니, 물통은 3개지만 결국 변수 2개를 더했을 때 C가 나오는 경우의 수를 출력하고 조건을 걸어놓고 답을 구하면 될 것 같았다."
   ]
  },
  {
   "cell_type": "code",
   "execution_count": 37,
   "id": "97672a27",
   "metadata": {},
   "outputs": [
    {
     "name": "stdout",
     "output_type": "stream",
     "text": [
      "8 9 10\n"
     ]
    }
   ],
   "source": [
    "A, B, C = map(int,input().split())"
   ]
  },
  {
   "cell_type": "code",
   "execution_count": 56,
   "id": "52b34a1c",
   "metadata": {},
   "outputs": [
    {
     "data": {
      "text/plain": [
       "True"
      ]
     },
     "execution_count": 56,
     "metadata": {},
     "output_type": "execute_result"
    }
   ],
   "source": [
    "x=0\n",
    "y=0\n",
    "list = [[]for _ in range(C+1)]\n",
    "x >=0\n",
    "y >= 0"
   ]
  },
  {
   "cell_type": "code",
   "execution_count": 64,
   "id": "c683f391",
   "metadata": {},
   "outputs": [
    {
     "name": "stdout",
     "output_type": "stream",
     "text": [
      "1 9\n",
      "2 8\n",
      "3 7\n",
      "4 6\n",
      "5 5\n",
      "6 4\n",
      "7 3\n",
      "8 2\n",
      "9 1\n"
     ]
    }
   ],
   "source": [
    "if x>=0 and x>=0 :\n",
    "    for i in range(1,C):\n",
    "        x = i\n",
    "        y = C-i\n",
    "        //저장\n",
    "        \n",
    "        "
   ]
  },
  {
   "cell_type": "code",
   "execution_count": 43,
   "id": "7f6b2350",
   "metadata": {},
   "outputs": [
    {
     "name": "stdout",
     "output_type": "stream",
     "text": [
      "0 10\n",
      "0 10\n",
      "0 10\n",
      "0 10\n",
      "0 10\n",
      "0 10\n",
      "0 10\n",
      "0 10\n",
      "0 10\n",
      "0 10\n"
     ]
    }
   ],
   "source": [
    "if x>=0 and x>=0 :\n",
    "    for i in list : \n",
    "        if x==0 or x == A or x == B or y ==A or y == B :\n",
    "            if x<=B and y<=C :\n",
    "                print(y)\n",
    "\n"
   ]
  },
  {
   "cell_type": "code",
   "execution_count": null,
   "id": "1b8416c9",
   "metadata": {},
   "outputs": [],
   "source": []
  }
 ],
 "metadata": {
  "kernelspec": {
   "display_name": "Python 3 (ipykernel)",
   "language": "python",
   "name": "python3"
  },
  "language_info": {
   "codemirror_mode": {
    "name": "ipython",
    "version": 3
   },
   "file_extension": ".py",
   "mimetype": "text/x-python",
   "name": "python",
   "nbconvert_exporter": "python",
   "pygments_lexer": "ipython3",
   "version": "3.11.1"
  }
 },
 "nbformat": 4,
 "nbformat_minor": 5
}
