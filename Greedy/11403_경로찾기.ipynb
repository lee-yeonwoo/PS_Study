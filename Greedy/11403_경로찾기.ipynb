{
 "cells": [
  {
   "cell_type": "markdown",
   "id": "ad906cb8",
   "metadata": {},
   "source": [
    "\n"
   ]
  },
  {
   "cell_type": "code",
   "execution_count": 5,
   "id": "bbfe6a53",
   "metadata": {},
   "outputs": [
    {
     "name": "stdout",
     "output_type": "stream",
     "text": [
      "3\n",
      "0 1 0\n",
      "0 0 1\n",
      "1 0 0\n",
      "[[0, 1, 0], [0, 0, 1], [1, 0, 0]]\n",
      "[[0, 0, 0], [0, 0, 0], [0, 0, 0]]\n"
     ]
    }
   ],
   "source": [
    "n = int(input())\n",
    "graph = [list(map(int, input().split())) for _ in range(n)]\n",
    "visited = [[0]*n for _ in range(n)]\n",
    "print(graph)\n",
    "print(visited)"
   ]
  },
  {
   "cell_type": "code",
   "execution_count": 8,
   "id": "611a6341",
   "metadata": {},
   "outputs": [
    {
     "name": "stdout",
     "output_type": "stream",
     "text": [
      "3\n",
      "0 1 0\n",
      "0 0 1\n",
      "1 0 0\n",
      "1 1 1\n",
      "1 1 1\n",
      "1 1 1\n"
     ]
    }
   ],
   "source": [
    "from collections import deque\n",
    " \n",
    "n = int(input())\n",
    "graph = [list(map(int, input().split())) for _ in range(n)]\n",
    "visited = [[0]*n for _ in range(n)]\n",
    " \n",
    "def bfs(x):\n",
    "    queue = deque()\n",
    "    queue.append(x)\n",
    "    check = [0 for _ in range(n)]\n",
    " \n",
    "    while queue:\n",
    "        q = queue.popleft()\n",
    " \n",
    "        for i in range(n):\n",
    "            if check[i] == 0 and graph[q][i] == 1:\n",
    "                queue.append(i)\n",
    "                check[i] = 1\n",
    "                visited[x][i] = 1\n",
    " \n",
    "for i in range(0, n):\n",
    "    bfs(i)\n",
    "\n",
    "\n",
    "for i in visited:\n",
    "    print(*i)"
   ]
  },
  {
   "cell_type": "code",
   "execution_count": 9,
   "id": "cea2ffd8",
   "metadata": {},
   "outputs": [
    {
     "name": "stdout",
     "output_type": "stream",
     "text": [
      "[[1, 1, 1], [1, 1, 1], [1, 1, 1]]\n"
     ]
    }
   ],
   "source": [
    "print(visited)"
   ]
  },
  {
   "cell_type": "code",
   "execution_count": null,
   "id": "e521c558",
   "metadata": {},
   "outputs": [],
   "source": []
  }
 ],
 "metadata": {
  "kernelspec": {
   "display_name": "Python 3 (ipykernel)",
   "language": "python",
   "name": "python3"
  },
  "language_info": {
   "codemirror_mode": {
    "name": "ipython",
    "version": 3
   },
   "file_extension": ".py",
   "mimetype": "text/x-python",
   "name": "python",
   "nbconvert_exporter": "python",
   "pygments_lexer": "ipython3",
   "version": "3.11.1"
  }
 },
 "nbformat": 4,
 "nbformat_minor": 5
}
