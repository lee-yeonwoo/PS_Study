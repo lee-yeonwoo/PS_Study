{
 "cells": [
  {
   "cell_type": "code",
   "execution_count": 11,
   "id": "c5eaf835",
   "metadata": {},
   "outputs": [
    {
     "ename": "IndentationError",
     "evalue": "unindent does not match any outer indentation level (<tokenize>, line 27)",
     "output_type": "error",
     "traceback": [
      "\u001b[0;36m  File \u001b[0;32m<tokenize>:27\u001b[0;36m\u001b[0m\n\u001b[0;31m    for i in range(1,len(checklist)):\u001b[0m\n\u001b[0m    ^\u001b[0m\n\u001b[0;31mIndentationError\u001b[0m\u001b[0;31m:\u001b[0m unindent does not match any outer indentation level\n"
     ]
    }
   ],
   "source": [
    "# import sys\n",
    "# input = sys.stdin.readline\n",
    "########입력값 받아오기###########\n",
    "cranelist = []\n",
    "boxlist = []\n",
    "checklist=[]\n",
    "count=0\n",
    "\n",
    "N = int(input())\n",
    "cranelist = list(map(int,input().split()))\n",
    "cranelist.sort(reverse=True)\n",
    "\n",
    "M = int(input())\n",
    "boxlist = list(map(int,input().split()))\n",
    "boxlist.sort(reverse=True)\n",
    "\n",
    "\n",
    "while len(boxlist)>0:\n",
    "        #리스트원소 추출\n",
    "        \n",
    "        if len(boxlist)>=len(cranelist):\n",
    "            checklist = boxlist[0:len(cranelist)-1]\n",
    "        elif len(boxlist)<len(cranelist):\n",
    "            checklist = boxlist[0:len(boxlist)-1]\n",
    "               \n",
    "        #조건\n",
    "        for i in range(1,len(checklist)):\n",
    "            if  checklist[0] > cranelist[0]:\n",
    "                print(-1)\n",
    "                sys.exit()\n",
    "            elif checklist[i] <= cranelist[i] :\n",
    "                True\n",
    "            elif checklist[i] >= cranelist[i]:\n",
    "                False  \n",
    "            \n",
    "        count+=1\n",
    "                #del해주기\n",
    "        del boxlist[0:len(cranelist)]\n",
    "        \n",
    "        \n",
    "        \n",
    "print(count)"
   ]
  },
  {
   "cell_type": "code",
   "execution_count": 10,
   "id": "dc6b14e0",
   "metadata": {},
   "outputs": [
    {
     "ename": "IndentationError",
     "evalue": "unexpected indent (1944187974.py, line 26)",
     "output_type": "error",
     "traceback": [
      "\u001b[0;36m  Cell \u001b[0;32mIn[10], line 26\u001b[0;36m\u001b[0m\n\u001b[0;31m    checklist = boxlist[0:len(cranelist)-1]\u001b[0m\n\u001b[0m    ^\u001b[0m\n\u001b[0;31mIndentationError\u001b[0m\u001b[0;31m:\u001b[0m unexpected indent\n"
     ]
    }
   ],
   "source": [
    "# import sys\n",
    "# input = sys.stdin.readline\n",
    "\n",
    "########입력값 받아오기###########\n",
    "cranelist = []\n",
    "boxlist = []\n",
    "checklist=[]\n",
    "count=0\n",
    "\n",
    "N = int(input())\n",
    "cranelist = list(map(int,input().split()))\n",
    "cranelist.sort(reverse=True)\n",
    "\n",
    "M = int(input())\n",
    "boxlist = list(map(int,input().split()))\n",
    "boxlist.sort(reverse=True)\n",
    "\n",
    "if  boxlist[0] > cranelist[0]:\n",
    "    print(-1)\n",
    "    sys.exit()\n",
    "\n",
    "while len(boxlist)>0:\n",
    "    count+=1\n",
    "        #리스트원소 추출\n",
    "        \n",
    "        checklist = boxlist[0:len(cranelist)-1]\n",
    "               \n",
    "        #조건\n",
    "        for i in range(1,len(checklist)):\n",
    "            if checklist[i] <= cranelist[i] :\n",
    "                boxlist.pop(0)\n",
    "            \n",
    "                \n",
    "                  \n",
    "            \n",
    "        \n",
    "                #del해주기\n",
    "#         if checklist[i] = True :\n",
    "#             del boxlist[0:len(checklist)]\n",
    "        \n",
    "        \n",
    "        \n",
    "print(count)"
   ]
  },
  {
   "cell_type": "code",
   "execution_count": null,
   "id": "83741ad0",
   "metadata": {},
   "outputs": [],
   "source": []
  },
  {
   "cell_type": "code",
   "execution_count": null,
   "id": "70701f2e",
   "metadata": {},
   "outputs": [],
   "source": [
    "print(count)"
   ]
  },
  {
   "cell_type": "code",
   "execution_count": null,
   "id": "d43b3931",
   "metadata": {},
   "outputs": [],
   "source": []
  }
 ],
 "metadata": {
  "kernelspec": {
   "display_name": "Python 3 (ipykernel)",
   "language": "python",
   "name": "python3"
  },
  "language_info": {
   "codemirror_mode": {
    "name": "ipython",
    "version": 3
   },
   "file_extension": ".py",
   "mimetype": "text/x-python",
   "name": "python",
   "nbconvert_exporter": "python",
   "pygments_lexer": "ipython3",
   "version": "3.11.1"
  }
 },
 "nbformat": 4,
 "nbformat_minor": 5
}
