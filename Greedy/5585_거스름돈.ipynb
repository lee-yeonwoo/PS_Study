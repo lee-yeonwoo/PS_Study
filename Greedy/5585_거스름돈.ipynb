{
 "cells": [
  {
   "cell_type": "markdown",
   "id": "3dd1d429",
   "metadata": {},
   "source": [
    "12:16 ~ 12: 48 (50분)\n",
    "\n",
    "# 해결방법 (간단)\n",
    "거스름돈을 제일 작게 줘야 하니까 액면가가 제일 큰 것부터 차감시키면 됨.\n",
    "\n",
    "# 오래걸린이유 & 해결하고 싶은거\n",
    "연속으로 실행되는 if 문은 안되는가?\n",
    "이거 찾다가 오래걸림.. \n"
   ]
  },
  {
   "cell_type": "code",
   "execution_count": 11,
   "id": "85f10278",
   "metadata": {},
   "outputs": [
    {
     "name": "stdout",
     "output_type": "stream",
     "text": [
      "380\n",
      "거스름돈: 620\n",
      "500엔 제외남은돈 :  120 ,개수: 1\n",
      "10엔 제외남은돈 :  0 ,개수: 1\n",
      "1\n"
     ]
    }
   ],
   "source": [
    "cnt = 0\n",
    "value = int(input())\n",
    "changeMoney = 1000 - value\n",
    "print(\"거스름돈:\",changeMoney)\n",
    "while True:\n",
    "    if changeMoney == 0:\n",
    "        break;\n",
    "    if changeMoney > 500 :\n",
    "        changeMoney = changeMoney - 500\n",
    "        cnt += 1\n",
    "        print(\"500엔 제외남은돈 : \",changeMoney,\",개수:\",cnt)\n",
    "    if changeMoney // 100 > 1 :\n",
    "        changeMoney = changeMoney - (changeMoney//100)*100\n",
    "        cnt = cnt + (changeMoney//100)\n",
    "        print(\"100엔 제외남은돈 : \",changeMoney,\",개수:\",cnt)\n",
    "    if changeMoney // 10 > 1 :\n",
    "        changeMoney = changeMoney - (changeMoney//10)*10\n",
    "        cnt = cnt + (changeMoney//10)\n",
    "        print(\"10엔 제외남은돈 : \",changeMoney,\",개수:\",cnt)\n",
    "print(cnt)"
   ]
  },
  {
   "cell_type": "code",
   "execution_count": null,
   "id": "5348178c",
   "metadata": {},
   "outputs": [],
   "source": []
  }
 ],
 "metadata": {
  "kernelspec": {
   "display_name": "Python 3 (ipykernel)",
   "language": "python",
   "name": "python3"
  },
  "language_info": {
   "codemirror_mode": {
    "name": "ipython",
    "version": 3
   },
   "file_extension": ".py",
   "mimetype": "text/x-python",
   "name": "python",
   "nbconvert_exporter": "python",
   "pygments_lexer": "ipython3",
   "version": "3.11.1"
  }
 },
 "nbformat": 4,
 "nbformat_minor": 5
}
