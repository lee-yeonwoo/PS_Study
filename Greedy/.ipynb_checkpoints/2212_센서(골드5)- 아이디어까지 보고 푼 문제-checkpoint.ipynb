{
 "cells": [
  {
   "cell_type": "code",
   "execution_count": null,
   "id": "d0f004dd",
   "metadata": {},
   "outputs": [],
   "source": [
    "n = int(input())\n",
    "k = int(input())\n",
    "sensor = list(map(int,input().split()))\n",
    "sensor.sort()"
   ]
  },
  {
   "cell_type": "code",
   "execution_count": null,
   "id": "b4cdd257",
   "metadata": {},
   "outputs": [],
   "source": [
    "distance = []\n",
    "for i in range(0,n-1):\n",
    "    distance.append(sensor[i+1]- sensor[i])\n",
    "    \n",
    "distance.sort()\n",
    "\n",
    "print(sum(array[:n-k]))"
   ]
  },
  {
   "cell_type": "markdown",
   "id": "13891641",
   "metadata": {},
   "source": [
    "https://yuna0125.tistory.com/48\n",
    "100프로 아이디어까지 보고 푼 문제.\n",
    "나아중에 다시 풀자."
   ]
  }
 ],
 "metadata": {
  "kernelspec": {
   "display_name": "Python 3 (ipykernel)",
   "language": "python",
   "name": "python3"
  },
  "language_info": {
   "codemirror_mode": {
    "name": "ipython",
    "version": 3
   },
   "file_extension": ".py",
   "mimetype": "text/x-python",
   "name": "python",
   "nbconvert_exporter": "python",
   "pygments_lexer": "ipython3",
   "version": "3.11.1"
  }
 },
 "nbformat": 4,
 "nbformat_minor": 5
}
