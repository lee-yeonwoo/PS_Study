{
 "cells": [
  {
   "cell_type": "markdown",
   "id": "f396b1bf",
   "metadata": {},
   "source": [
    "## ☁️ 생각한 해결 방법\n",
    "\n",
    " 리스트 내에서 i번째 원소와 i+1번째 원소를 비교했을 때, i번째 원소가 더 크면 i+1번째 원소를 맨 앞으로 보낸다\n"
   ]
  },
  {
   "cell_type": "markdown",
   "id": "9fe11763",
   "metadata": {},
   "source": [
    "## ✊ 해결해야 하는 것\n",
    "- 입력값 받아오기\n",
    "- 입력값 리스트에 넣기\n",
    "- 리스트 내 원소끼리 비교하기"
   ]
  },
  {
   "cell_type": "code",
   "execution_count": 1,
   "id": "27ca3c0c",
   "metadata": {},
   "outputs": [
    {
     "name": "stdout",
     "output_type": "stream",
     "text": [
      "3\n",
      "3\n",
      "2\n",
      "1\n",
      "[3, 2, 1]\n"
     ]
    }
   ],
   "source": [
    "book_list = []\n",
    "count = 0\n",
    "\n",
    "N = int(input())\n",
    "\n",
    "for i in range(N):\n",
    "    i = int(input())\n",
    "    book_list.append(i)\n",
    "\n",
    "print(book_list)"
   ]
  },
  {
   "cell_type": "code",
   "execution_count": null,
   "id": "4e3f3748",
   "metadata": {},
   "outputs": [],
   "source": [
    "for book in book_list :\n",
    "    if book_list[book] > book_list[book+1] :\n",
    "        book_list[book+1] #원소가 맨 앞으로 오고 재정렬\n",
    "        count+=1\n",
    "    elif book_list[book] <= book_list[book+1] :\n",
    "        return\n",
    "\n",
    "print(book_list)\n",
    "print(count)\n",
    "    "
   ]
  }
 ],
 "metadata": {
  "kernelspec": {
   "display_name": "Python 3 (ipykernel)",
   "language": "python",
   "name": "python3"
  },
  "language_info": {
   "codemirror_mode": {
    "name": "ipython",
    "version": 3
   },
   "file_extension": ".py",
   "mimetype": "text/x-python",
   "name": "python",
   "nbconvert_exporter": "python",
   "pygments_lexer": "ipython3",
   "version": "3.11.1"
  }
 },
 "nbformat": 4,
 "nbformat_minor": 5
}
