{
 "cells": [
  {
   "cell_type": "markdown",
   "id": "b3185a15",
   "metadata": {},
   "source": [
    "우선순위 큐를 활용한다. \n",
    "항상 강의가 끝나는 시간이 가장 빠른 순이기 때문이다."
   ]
  },
  {
   "cell_type": "code",
   "execution_count": 2,
   "id": "9c610ff3",
   "metadata": {},
   "outputs": [
    {
     "name": "stdout",
     "output_type": "stream",
     "text": [
      "8\n",
      "6 15 21\n",
      "7 20 25\n",
      "1 3 8\n",
      "3 2 14\n",
      "8 6 27\n",
      "2 7 13\n",
      "4 12 18\n",
      "5 6 20\n",
      "5\n"
     ]
    }
   ],
   "source": [
    "import heapq\n",
    "\n",
    "n = int(input())\n",
    "\n",
    "lecture_list = [list(map(int, input().split())) for _ in range(n)]\n",
    "\n",
    "q = []\n",
    "heapq.heappush(q, lecture_list[0][0])\n",
    "\n",
    "\n",
    "for i in range(1, n):\n",
    "    if lecture_list[i][0]>= q[0]:\n",
    "        heapq.heappop(q)\n",
    "    heapq.heappush(q, lecture_list[i][1])\n",
    "print(len(q))"
   ]
  },
  {
   "cell_type": "code",
   "execution_count": null,
   "id": "762c0815",
   "metadata": {},
   "outputs": [],
   "source": [
    "import sys\n",
    "import heapq\n",
    "input = sys.stdin.readline\n",
    "\n",
    "n = int(input())\n",
    "\n",
    "lecture_list = [list(map(int, input().split())) for _ in range(n)]\n",
    "\n",
    "q = []\n",
    "heapq.heappush(q, lecture_list[0][0])\n",
    "\n",
    "\n",
    "for i in range(1, n):\n",
    "    if lecture_list[i][0]>= q[0]:\n",
    "        heapq.heappop(q)\n",
    "    heapq.heappush(q, lecture_list[i][1])\n",
    "print(len(q))"
   ]
  }
 ],
 "metadata": {
  "kernelspec": {
   "display_name": "Python 3 (ipykernel)",
   "language": "python",
   "name": "python3"
  },
  "language_info": {
   "codemirror_mode": {
    "name": "ipython",
    "version": 3
   },
   "file_extension": ".py",
   "mimetype": "text/x-python",
   "name": "python",
   "nbconvert_exporter": "python",
   "pygments_lexer": "ipython3",
   "version": "3.11.1"
  }
 },
 "nbformat": 4,
 "nbformat_minor": 5
}
