{
 "cells": [
  {
   "cell_type": "markdown",
   "id": "578f1f96",
   "metadata": {},
   "source": [
    "## 접근\n",
    "최소한의 걸음을 구하려면, 제일 멀리있는 위치는 마지막에 1번만 가는게 좋겠다.\n",
    "뒤에 있는 애부터 가야 또 멀리 있는 거기를 안가게 되니까 뒤에 있는 놈들 부터 가자.\n",
    "양수와 음수 영역을 분리해서 내림차순으로 정렬해주자.\n",
    "방문한 위치는 answer에 +해주고 pop 해주자."
   ]
  },
  {
   "cell_type": "markdown",
   "id": "25ddd077",
   "metadata": {},
   "source": [
    "## 풀이방법\n",
    "\n",
    "## 준비물\n",
    "책의 위치들을 담을 리스트 = []\n",
    "양수리스트 = []\n",
    "음수리스트 = []\n",
    "최댓값을 찾을 큐 리스트 = []\n",
    "\n",
    "\n",
    "## 풀이시작\n",
    "리스트.sort()\n",
    "\n",
    "for i in 책의 위치들을 담은 리스트 : #책의 위치들을 담은 리스트를 탐색 ㄱ\n",
    "    if abs(list[i]) == abs(리스트).max 값이면 : #거기서 절댓값이 젤 크면 \n",
    "       answer = answer + answer.list[i] #answer에 해당값만큼 더해주고 \n",
    "       list.pop(m) #m갯수만큼 pop해라\n",
    "   \n",
    "       \n",
    "while len(list)>0:   #다음 명령들을 실행해라.리스트가 비었으면 멈춰라   \n",
    "    for i in list : #로케이션리스트에 있는 로케이션을 하나씩 탐색하자\n",
    "        if list[i] >0 : #해당 로케이션이 양수이면,\n",
    "            양수리스트.append() #양수로케이션리스트에 추가해라\n",
    "            \n",
    "        if list.max()<0 : #해당로케이션이 음수이면\n",
    "            음수리스트.append() #음수리스트에 추가해라\n",
    "            \n",
    "if list.max()값 > 0 , \n",
    "    for i in 양수리스트:\n",
    "        양수리스트.pop(m)\n",
    "        answer = answer.양수리스트(i)\n",
    "\n",
    "elif list.max()값 < 0 :\n",
    "    for i in 음수리스트 :\n",
    "        if len(음수리스트)>m:\n",
    "            q = 음수리스트[1:m]\n",
    "            음수리스트.pop(m)\n",
    "            answer = answer + max(q)*2\n",
    "        elif len(음수리스트)<m:\n",
    "            q = 음수리스트[0:]\n",
    "            음수리스트.pop(len(q))\n",
    "            answer = max(q)*2\n",
    "            \n",
    "else list.max()값 = 0 :\n",
    "    exit()\n",
    "  \n",
    " return answer\n",
    "    "
   ]
  }
 ],
 "metadata": {
  "kernelspec": {
   "display_name": "Python 3 (ipykernel)",
   "language": "python",
   "name": "python3"
  },
  "language_info": {
   "codemirror_mode": {
    "name": "ipython",
    "version": 3
   },
   "file_extension": ".py",
   "mimetype": "text/x-python",
   "name": "python",
   "nbconvert_exporter": "python",
   "pygments_lexer": "ipython3",
   "version": "3.11.1"
  }
 },
 "nbformat": 4,
 "nbformat_minor": 5
}
