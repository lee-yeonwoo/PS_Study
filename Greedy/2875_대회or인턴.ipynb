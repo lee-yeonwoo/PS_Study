{
 "cells": [
  {
   "cell_type": "markdown",
   "id": "a4bd9a0c",
   "metadata": {},
   "source": [
    "## 2875 : 대회 or 인턴\n",
    "소요시간 : 57분\n",
    "\n",
    "## 해결방법\n",
    "뭔가... 여자는 무조건 2명이어야 하니까 약간 이쪽에 우선순위를 부여한 규칙을 발견해야 할 것 같았다.\n",
    "설명하기 어렵군.\n",
    "삘에... 더 많은 쪽을 무조건 제거하고 여자 쪽을 묶어서 그 몫을 출력하면 답이 나올 것 같아서 예제3에서 실험을 해봤는데 예상한 답이 나왔다.\n",
    "그 풀이를 적어보겠따..\n",
    "\n",
    "## 후기\n",
    "while 문, if 문 잘 써봤다...\n",
    "근데 다 틀림"
   ]
  },
  {
   "cell_type": "code",
   "execution_count": 18,
   "id": "5542d203",
   "metadata": {},
   "outputs": [
    {
     "name": "stdout",
     "output_type": "stream",
     "text": [
      "6 10 3\n",
      "3\n"
     ]
    }
   ],
   "source": [
    "#입력값 받아오기\n",
    "\n",
    "n,m,k = map(int,input().split())\n",
    "answer = 0\n",
    "if n >= m :\n",
    "    n=n-k\n",
    "if n == m :\n",
    "    n=n-k\n",
    "if n < m :\n",
    "    m=m-k\n",
    "answer = n//2\n",
    "print(answer)"
   ]
  },
  {
   "cell_type": "markdown",
   "id": "f3e13e87",
   "metadata": {},
   "source": [
    "## 오답 ;;"
   ]
  },
  {
   "cell_type": "code",
   "execution_count": 14,
   "id": "5881886e",
   "metadata": {},
   "outputs": [],
   "source": [
    "#백준 답\n",
    "import sys\n",
    "n,m,k = map(int,sys.stdin.readline().split())\n",
    "answer = 0\n",
    "if n >= m :\n",
    "    n=n-k\n",
    "if n < m :\n",
    "    m=m-k\n",
    "answer = n//2\n",
    "print(answer)\n",
    "        "
   ]
  },
  {
   "cell_type": "code",
   "execution_count": 47,
   "id": "67d21ee6",
   "metadata": {},
   "outputs": [
    {
     "name": "stdout",
     "output_type": "stream",
     "text": [
      "2 1 1\n",
      "맨처음: 2 1 1\n",
      "1 1 1\n",
      "0\n"
     ]
    }
   ],
   "source": [
    "n,m,k = map(int,input().split())\n",
    "answer = 0\n",
    "while n >=2 and m >= 1 :\n",
    "    print(\"맨처음:\",n,m,k)\n",
    "    if n >= m :\n",
    "        n=n-k\n",
    "        break\n",
    "        print(\"첫번째조건문:\",n,m,k)\n",
    "    elif n == m :\n",
    "        n=n-k\n",
    "        print(\"두번째:\",n,m,k)\n",
    "    elif n < m :\n",
    "        m=m-k\n",
    "        print(\"세번째:\",n,m,k)\n",
    "        break\n",
    "print(n,m,k)\n",
    "if n > m :\n",
    "    answer = m\n",
    "else :\n",
    "    answer = n//2\n",
    "print(answer)"
   ]
  },
  {
   "cell_type": "code",
   "execution_count": 44,
   "id": "f8700682",
   "metadata": {},
   "outputs": [
    {
     "name": "stdout",
     "output_type": "stream",
     "text": [
      "2 1 1\n",
      "1 1 1\n",
      "0\n"
     ]
    }
   ],
   "source": [
    "n,m,k = map(int,input().split())\n",
    "answer = 0\n",
    "while n >=2 and m >= 1  :\n",
    "    if n >= m :\n",
    "        n=n-k\n",
    "        break\n",
    "    elif n == m :\n",
    "        n=n-k\n",
    "        break\n",
    "    elif n < m :\n",
    "        m=m-k\n",
    "        break\n",
    "print(n,m,k)\n",
    "answer = n//2\n",
    "print(answer)"
   ]
  },
  {
   "cell_type": "code",
   "execution_count": null,
   "id": "62cb1909",
   "metadata": {},
   "outputs": [],
   "source": []
  }
 ],
 "metadata": {
  "kernelspec": {
   "display_name": "Python 3 (ipykernel)",
   "language": "python",
   "name": "python3"
  },
  "language_info": {
   "codemirror_mode": {
    "name": "ipython",
    "version": 3
   },
   "file_extension": ".py",
   "mimetype": "text/x-python",
   "name": "python",
   "nbconvert_exporter": "python",
   "pygments_lexer": "ipython3",
   "version": "3.11.1"
  }
 },
 "nbformat": 4,
 "nbformat_minor": 5
}
