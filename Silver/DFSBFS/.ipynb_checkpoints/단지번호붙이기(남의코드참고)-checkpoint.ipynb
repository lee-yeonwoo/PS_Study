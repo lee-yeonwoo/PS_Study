{
 "cells": [
  {
   "cell_type": "markdown",
   "id": "6700f3b4",
   "metadata": {},
   "source": [
    "# 해결해야 하는 것\n",
    "\n",
    "1. 출발을 어떻게 할까? \n",
    "2. 어떻게 옆 단지로 넘어갈까?\n",
    "3. 어떻게 카운트할까?"
   ]
  },
  {
   "cell_type": "markdown",
   "id": "15fe638c",
   "metadata": {},
   "source": [
    "# 생각한 해결 방법\n",
    "\n",
    "- 1행부터 N행까지 전부 탐색해보자 ! 그러면 1번, 출발은 1행부터 하면 되고, N행까지 어차피 다 둘러볼 것이기 때문에 모든 단지를 탐색할 수 있다 !\n",
    "- 근데 갔던 곳 , 그러니까 visited 배열에 방문체크가 되어있는 곳은 plunning\n",
    "- dfs 함수에 1이 발견될 때마다 count가 1씩 증가하도록 하는데,,, 이게 또 단지별로 달라져야 한다."
   ]
  },
  {
   "cell_type": "markdown",
   "id": "470e2ac3",
   "metadata": {},
   "source": [
    "# Count 진짜 어케할까\n",
    "\n",
    "![Untitled](https://s3-us-west-2.amazonaws.com/secure.notion-static.com/9defd23d-df8a-4eaa-8169-b923384d6a73/Untitled.png)\n",
    "\n",
    "트리가 이런식으로 그려질 것이다.\n",
    "\n",
    "1행을 탐색 → [1,2]에서 1을 발견하고 DFS함수로 모든 탐색을 한다. stack에 원소가 없으면,\n",
    "\n",
    "[1,2] 다음 원소인 [1,3]을 탐색한다.\n",
    "\n",
    "이 때, count 함수를 print하고 초기화시킨다. → 첫번째 단지의 단지 수 프린트\n",
    "\n",
    "그리고 1을 발견했을 때 다시 count를 활성화시킨다. → 두번째 단지수 카운트 스타트\n",
    "\n",
    "5행을 탐색할 때 다시 count를 활성화 시킨다."
   ]
  },
  {
   "cell_type": "markdown",
   "id": "d0e1d24f",
   "metadata": {},
   "source": [
    "# 다시 최종 !! 의사코드 작성\n",
    "\n",
    "- 1행부터 N행까지 전부 탐색해보자 ! 그러면 1번, 출발은 1행부터 하면 되고, N행까지 어차피 다 둘러볼 것이기 때문에 모든 단지를 탐색할 수 있다 !\n",
    "- 근데 갔던 곳 , 그러니까 visited 배열에 방문체크가 되어있는 곳은 plunning"
   ]
  },
  {
   "cell_type": "markdown",
   "id": "5d5e2e07",
   "metadata": {},
   "source": [
    "```python\n",
    "\n",
    "def dfs(x,y) :\n",
    "\tfor i in range(1,N) :\n",
    "\t\tif visited[i] == 0 \n",
    "\t\t\tand matrix[상]or matrix[하] or matrix[좌] or matrix[우] == 1 :\n",
    "\t\t\t\tcount +=1\n",
    "\t\t\t\tdfs(x,y)\n",
    "1)그 단지의 탐색이 끝나면 다시 x 행으로 돌아가라.\n",
    "2) count는 print 하고 초기화 되어라\n",
    "```"
   ]
  },
  {
   "cell_type": "markdown",
   "id": "e759083d",
   "metadata": {},
   "source": [
    "# 여기까지 30분 걸림\n",
    "\n",
    "### 다른 사람 풀이 보겠음. 왜냐면 코딩을 못함. 최대한 내가 생각한 것이랑 비슷하게 짠거,,"
   ]
  },
  {
   "cell_type": "markdown",
   "id": "7206665c",
   "metadata": {},
   "source": [
    "# 다른 사람 풀이ㄱㅡ(feat.홍코딩님)"
   ]
  },
  {
   "cell_type": "markdown",
   "id": "683de824",
   "metadata": {},
   "source": [
    "입력값 받아오기"
   ]
  },
  {
   "cell_type": "code",
   "execution_count": 6,
   "id": "1264ac32",
   "metadata": {},
   "outputs": [
    {
     "name": "stdout",
     "output_type": "stream",
     "text": [
      "7\n"
     ]
    }
   ],
   "source": [
    "n = int(input())\n",
    "graph = []\n",
    "result = []\n",
    "count = 0"
   ]
  },
  {
   "cell_type": "code",
   "execution_count": 9,
   "id": "efb03863",
   "metadata": {},
   "outputs": [
    {
     "name": "stdout",
     "output_type": "stream",
     "text": [
      "0110100\n",
      "0110101\n",
      "1110101\n",
      "0000111\n",
      "0100000\n",
      "0111110\n",
      "0111000\n"
     ]
    }
   ],
   "source": [
    "for i in range(n):\n",
    "    graph.append(list(map(int,input())))"
   ]
  },
  {
   "cell_type": "code",
   "execution_count": 26,
   "id": "1c60c70d",
   "metadata": {},
   "outputs": [],
   "source": [
    "상하좌우\n",
    "dx = [0,0,1,-1] #좌,우\n",
    "dy = [1,-1,0,0] #상,하"
   ]
  },
  {
   "cell_type": "markdown",
   "id": "7ac6adc8",
   "metadata": {},
   "source": [
    "함수 짜기\n",
    "\n",
    "- 상하좌우를 탐색\n",
    "- 카운트에다가 +1을 해줌, 이 값을 답에다가 추가함\n",
    "- 단지내 탐색이 끝나면, 현재 행을 다시 탐색하고, 카운트가 초기화 됨"
   ]
  },
  {
   "cell_type": "code",
   "execution_count": 28,
   "id": "b4ed7a0b",
   "metadata": {},
   "outputs": [],
   "source": [
    "def dfs(x,y):\n",
    "    global count\n",
    "    if x<0 or x>=n or y<0 or y >= n :\n",
    "        return \n",
    "    if graph[x][y] == 1: #해당 노드부터 탐색 시작\n",
    "        count += 1 #단지내 집의 수 count 시작\n",
    "        graph[x][y] = 0 #방문한 곳이니까 0으로 바꾸기, 나중에 다시 돌아왔을 때 지나치려고\n",
    "        for i in range(4): # 상하좌우 탐색 ㄱ\n",
    "            nx = x + dx[i]\n",
    "            ny = y + dy[i]\n",
    "            dfs(nx,ny) #상하좌우 모두 탐색하고 여기서 1이면 dfs()함수 시작되도록\n",
    "\n",
    "#행별로 탐색할 건데, 그래프의 원소가 1이 있으면 탐색을 하면된다.\n",
    "\n",
    "for i in range(n):\n",
    "    for j in range(n):\n",
    "        if graph[i][j] == 1: #거기 원소가 1이 있다면 \n",
    "            dfs(i,j) #걔도 dfs 탐색 시작\n",
    "            result.append(count) #dfs함수 실행이 끝나면 답에다가 그 count 수를 입력\n",
    "            count = 0 #count는 다시 초기화\n",
    "\n",
    "\n",
    "result.sort()\n",
    "\n",
    "print(len(result)) # 총 단지수 출력\n",
    "for k in result :\n",
    "    print(k)"
   ]
  },
  {
   "cell_type": "code",
   "execution_count": 29,
   "id": "6455225a",
   "metadata": {},
   "outputs": [],
   "source": [
    "print(len(result)) # 총 단지수 출력\n",
    "for k in result :\n",
    "    print(k)"
   ]
  }
 ],
 "metadata": {
  "kernelspec": {
   "display_name": "Python 3 (ipykernel)",
   "language": "python",
   "name": "python3"
  },
  "language_info": {
   "codemirror_mode": {
    "name": "ipython",
    "version": 3
   },
   "file_extension": ".py",
   "mimetype": "text/x-python",
   "name": "python",
   "nbconvert_exporter": "python",
   "pygments_lexer": "ipython3",
   "version": "3.11.1"
  }
 },
 "nbformat": 4,
 "nbformat_minor": 5
}
