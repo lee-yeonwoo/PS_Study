{
 "cells": [
  {
   "cell_type": "markdown",
   "id": "967c4e5b",
   "metadata": {},
   "source": [
    "## 접근방식\n",
    "- 처음에는 연결되어있는 데이터를 자꾸 타고타고 들어가니까 재귀함수를 사용하는 dfs를 생각했음\n",
    "- 근데 연결되어 있는 데이터가 여러개인 경우도 있기 때문에 이를 한 번에 처리하는 게 더 효율적일 수도 있겠다는 생각\n",
    "-> bfs로 풀어야징 !"
   ]
  },
  {
   "cell_type": "markdown",
   "id": "f682ae0c",
   "metadata": {},
   "source": [
    "## 해결해야 하는 것\n",
    "\n",
    "- 입력값 받아오기...연결되어있는 데이터를..bfs로 풀어야 할 때도 이차원행렬로 받아왔었나 생각이 안남 ㅇㄴ\n",
    "- 여튼 받아왔으면 bfs()함수를 만들어야 함\n",
    "\n",
    "bfs(현재 노드):\n",
    "    for i in range(1,M):\n",
    "        queue = [1이랑 연결되어 있는 데이터]\n",
    "        queue.pop(0)\n",
    "        count+=0\n",
    "        bfs(a)"
   ]
  }
 ],
 "metadata": {
  "kernelspec": {
   "display_name": "Python 3 (ipykernel)",
   "language": "python",
   "name": "python3"
  },
  "language_info": {
   "codemirror_mode": {
    "name": "ipython",
    "version": 3
   },
   "file_extension": ".py",
   "mimetype": "text/x-python",
   "name": "python",
   "nbconvert_exporter": "python",
   "pygments_lexer": "ipython3",
   "version": "3.11.1"
  }
 },
 "nbformat": 4,
 "nbformat_minor": 5
}
