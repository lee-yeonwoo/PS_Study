{
 "cells": [
  {
   "cell_type": "markdown",
   "id": "0fdede03",
   "metadata": {},
   "source": [
    "...입력값 적기 귀찮..."
   ]
  },
  {
   "cell_type": "code",
   "execution_count": null,
   "id": "7c12cdeb",
   "metadata": {},
   "outputs": [],
   "source": [
    "N, M, V = map(int, input().split())"
   ]
  },
  {
   "cell_type": "code",
   "execution_count": null,
   "id": "30269c1d",
   "metadata": {},
   "outputs": [],
   "source": [
    "matrix = [[0]*(N+1) for i in range(N+1)]"
   ]
  },
  {
   "cell_type": "code",
   "execution_count": null,
   "id": "abed54d2",
   "metadata": {},
   "outputs": [],
   "source": [
    "visited = [0]*(N+1)"
   ]
  },
  {
   "cell_type": "code",
   "execution_count": null,
   "id": "05179668",
   "metadata": {},
   "outputs": [],
   "source": [
    "for i in range(M):\n",
    "    startnode, endnode = map(int, input().split())\n",
    "    matrix[startnode][endnode] = matrix[endnode][startnode] = 1"
   ]
  },
  {
   "cell_type": "code",
   "execution_count": 4,
   "id": "34d7c6ee",
   "metadata": {},
   "outputs": [],
   "source": [
    "def bfs(V):\n",
    "    queue = [V]\n",
    "    visited[V] = 1\n",
    "    while queue:\n",
    "        V = queue.pop(0)\n",
    "        print(V,end=' ')\n",
    "        for i in range(1,N+1):\n",
    "            if(visited[i] == 0 and matrix[V][i] == 1):\n",
    "                queue.append(i)\n",
    "                visited[i] = 1\n",
    "        "
   ]
  },
  {
   "cell_type": "code",
   "execution_count": 5,
   "id": "d8a05366",
   "metadata": {},
   "outputs": [
    {
     "ename": "NameError",
     "evalue": "name 'V' is not defined",
     "output_type": "error",
     "traceback": [
      "\u001b[0;31m---------------------------------------------------------------------------\u001b[0m",
      "\u001b[0;31mNameError\u001b[0m                                 Traceback (most recent call last)",
      "Cell \u001b[0;32mIn[5], line 1\u001b[0m\n\u001b[0;32m----> 1\u001b[0m bfs(\u001b[43mV\u001b[49m)\n\u001b[1;32m      2\u001b[0m \u001b[38;5;28mprint\u001b[39m()\n",
      "\u001b[0;31mNameError\u001b[0m: name 'V' is not defined"
     ]
    }
   ],
   "source": [
    "bfs(V)\n",
    "print()"
   ]
  },
  {
   "cell_type": "code",
   "execution_count": null,
   "id": "02361f1f",
   "metadata": {},
   "outputs": [],
   "source": []
  }
 ],
 "metadata": {
  "kernelspec": {
   "display_name": "Python 3 (ipykernel)",
   "language": "python",
   "name": "python3"
  },
  "language_info": {
   "codemirror_mode": {
    "name": "ipython",
    "version": 3
   },
   "file_extension": ".py",
   "mimetype": "text/x-python",
   "name": "python",
   "nbconvert_exporter": "python",
   "pygments_lexer": "ipython3",
   "version": "3.11.1"
  }
 },
 "nbformat": 4,
 "nbformat_minor": 5
}
