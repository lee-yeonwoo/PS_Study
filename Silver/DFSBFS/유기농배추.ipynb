{
 "cells": [
  {
   "cell_type": "code",
   "execution_count": null,
   "id": "4e668cbe",
   "metadata": {},
   "outputs": [],
   "source": [
    "## 해결해야 하는 것 \n",
    "1. 이차원 배열 입력값 받아오기\n",
    "2. 좌표값 받아와서 해당 자리에 '1' 넣기\n",
    "3. 테스트 케이스 두 개 다 실행하기 ...?"
   ]
  },
  {
   "cell_type": "code",
   "execution_count": null,
   "id": "48aacc46",
   "metadata": {},
   "outputs": [],
   "source": [
    "# 재귀 limit 설정\n",
    "import sys\n",
    "sys.setrecursionlimit(10000)\n",
    "\n",
    "### 2\n",
    "# dfs 정의\n",
    "def dfs(x, y):\n",
    "    # 상하좌우 확인을 위해 dx, dy 생성\n",
    "    dx = [0,0,-1,1]\n",
    "    dy = [1,-1,0,0]\n",
    "\n",
    "    # 네 방향 탐색\n",
    "    for i in range(4):\n",
    "        nx = x + dx[i]\n",
    "        ny = y + dy[i]\n",
    "        if (0 <= nx < M) and (0 <= ny < N):  # nx:ny ↔ M:N 범위 참고\n",
    "            if graph[ny][nx] == 1:\n",
    "                graph[ny][nx] = -1  # 배추가 인접할 때 체커\n",
    "                dfs(nx, ny)\n",
    "\n",
    "### 1                    \n",
    "T = int(input()) # testcase 갯수 받아오기\n",
    "\n",
    "for i in range(T):\n",
    "    M, N, K = map(int, input().split())  # M:가로, N:세로, K:개수\n",
    "    graph = [[0]*M for i in range(N)]\n",
    "    cnt = 0\n",
    "\n",
    "    # 배추 위치에 1 표시\n",
    "    for j in range(K):\n",
    "        X, Y = map(int, input().split())\n",
    "        graph[Y][X] = 1\n",
    "\n",
    "### 3        \n",
    "    # dfs 활용해서 배추 그룹 수 세기\n",
    "    for x in range(M):\n",
    "        for y in range(N):\n",
    "            if graph[y][x] == 1:\n",
    "                dfs(x, y)\n",
    "                cnt += 1\n",
    "\n",
    "    # 정답을 위한 출력\n",
    "    print(cnt)"
   ]
  },
  {
   "cell_type": "code",
   "execution_count": null,
   "id": "9a63758f",
   "metadata": {},
   "outputs": [],
   "source": []
  }
 ],
 "metadata": {
  "kernelspec": {
   "display_name": "Python 3 (ipykernel)",
   "language": "python",
   "name": "python3"
  },
  "language_info": {
   "codemirror_mode": {
    "name": "ipython",
    "version": 3
   },
   "file_extension": ".py",
   "mimetype": "text/x-python",
   "name": "python",
   "nbconvert_exporter": "python",
   "pygments_lexer": "ipython3",
   "version": "3.11.1"
  }
 },
 "nbformat": 4,
 "nbformat_minor": 5
}
