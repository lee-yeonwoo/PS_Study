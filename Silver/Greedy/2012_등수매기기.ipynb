{
 "cells": [
  {
   "cell_type": "code",
   "execution_count": 8,
   "id": "4e3a4e25",
   "metadata": {},
   "outputs": [
    {
     "name": "stdout",
     "output_type": "stream",
     "text": [
      "5\n",
      "1\n",
      "5\n",
      "3\n",
      "1\n",
      "2\n",
      "[1, 5, 3, 1, 2]\n"
     ]
    }
   ],
   "source": [
    "N = int(input())\n",
    "expects = []\n",
    "option = []\n",
    "\n",
    "for i in range(N):\n",
    "    rank = int(input())\n",
    "    expects.append(rank)\n",
    "expects.sort()\n",
    "\n"
   ]
  },
  {
   "cell_type": "code",
   "execution_count": 9,
   "id": "8b9bfad4",
   "metadata": {},
   "outputs": [
    {
     "name": "stdout",
     "output_type": "stream",
     "text": [
      "[1, 2, 3, 4, 5]\n"
     ]
    }
   ],
   "source": [
    "for i in range(1,N+1):\n",
    "    option.append(i)\n",
    "\n",
    "print(option)\n"
   ]
  },
  {
   "cell_type": "code",
   "execution_count": 12,
   "id": "1c329bfa",
   "metadata": {},
   "outputs": [
    {
     "name": "stdout",
     "output_type": "stream",
     "text": [
      "9\n"
     ]
    }
   ],
   "source": [
    "result = 0\n",
    "for i in range(1,N+1):\n",
    "    result += abs(i-expects[i-1])\n",
    "print(result)"
   ]
  },
  {
   "cell_type": "markdown",
   "id": "121742f5",
   "metadata": {},
   "source": [
    "## 느낀점\n",
    "나는 expects 리스트랑 또 [1,2,3,4,5]리스트를 또 따로 만들어서 비교하려고 했는데 어차피 for문을 돌리면 1부터 5까지랑 비교할 수 있기 때문에 코드 길이를 줄일 수 있었음"
   ]
  }
 ],
 "metadata": {
  "kernelspec": {
   "display_name": "Python 3 (ipykernel)",
   "language": "python",
   "name": "python3"
  },
  "language_info": {
   "codemirror_mode": {
    "name": "ipython",
    "version": 3
   },
   "file_extension": ".py",
   "mimetype": "text/x-python",
   "name": "python",
   "nbconvert_exporter": "python",
   "pygments_lexer": "ipython3",
   "version": "3.11.1"
  }
 },
 "nbformat": 4,
 "nbformat_minor": 5
}
