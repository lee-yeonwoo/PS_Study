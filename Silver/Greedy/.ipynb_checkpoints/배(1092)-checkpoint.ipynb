{
 "cells": [
  {
   "cell_type": "markdown",
   "id": "14a01595",
   "metadata": {},
   "source": [
    "## 해결방법\n",
    "1. 입력값 받아오기(해결)\n",
    "2. len(크레인리스트)만큼 box_list를 확인한다\n",
    "3. N>=box 이면 count+=1\n",
    "4. 1~3 반복\n",
    "\n"
   ]
  },
  {
   "cell_type": "code",
   "execution_count": 6,
   "id": "08218ce5",
   "metadata": {},
   "outputs": [
    {
     "name": "stdout",
     "output_type": "stream",
     "text": [
      "3\n",
      "6 8 9\n",
      "5\n",
      "2 5 2 4 7\n"
     ]
    }
   ],
   "source": [
    "########입력값 받아오기###########\n",
    "cranelist = []\n",
    "boxlist = []\n",
    "checklist=[]\n",
    "count=0\n",
    "\n",
    "N = int(input())\n",
    "cranelist = list(map(int,input().split()))\n",
    "M = int(input())\n",
    "boxlist = list(map(int,input().split()))\n"
   ]
  },
  {
   "cell_type": "code",
   "execution_count": 7,
   "id": "08f6ad7b",
   "metadata": {},
   "outputs": [
    {
     "name": "stdout",
     "output_type": "stream",
     "text": [
      "[6, 8, 9]\n",
      "[2, 5, 2, 4, 7]\n"
     ]
    }
   ],
   "source": [
    "print(cranelist)\n",
    "print(boxlist)"
   ]
  },
  {
   "cell_type": "code",
   "execution_count": 17,
   "id": "bc93a578",
   "metadata": {},
   "outputs": [
    {
     "name": "stdout",
     "output_type": "stream",
     "text": [
      "[2, 5]\n",
      "2\n",
      "6\n"
     ]
    }
   ],
   "source": [
    "checklist = boxlist[0:len(cranelist)-1]\n",
    "print(checklist)\n",
    "print(checklist[0])\n",
    "print(cranelist[0])"
   ]
  },
  {
   "cell_type": "code",
   "execution_count": 23,
   "id": "2e1b1d90",
   "metadata": {},
   "outputs": [
    {
     "ename": "KeyboardInterrupt",
     "evalue": "",
     "output_type": "error",
     "traceback": [
      "\u001b[0;31m---------------------------------------------------------------------------\u001b[0m",
      "\u001b[0;31mKeyboardInterrupt\u001b[0m                         Traceback (most recent call last)",
      "Cell \u001b[0;32mIn[23], line 1\u001b[0m\n\u001b[0;32m----> 1\u001b[0m \u001b[38;5;28;01mwhile\u001b[39;00m \u001b[38;5;28;01mTrue\u001b[39;00m:\n\u001b[1;32m      2\u001b[0m     \u001b[38;5;28;01mif\u001b[39;00m \u001b[38;5;28mlen\u001b[39m(boxlist)\u001b[38;5;241m==\u001b[39m\u001b[38;5;241m0\u001b[39m:\n\u001b[1;32m      3\u001b[0m         \u001b[38;5;28;01mbreak\u001b[39;00m \n",
      "\u001b[0;31mKeyboardInterrupt\u001b[0m: "
     ]
    }
   ],
   "source": [
    "while True:\n",
    "    if len(boxlist)==0:\n",
    "        break \n",
    "        \n",
    "        #리스트원소 추출\n",
    "        \n",
    "        checklist = boxlist[0:len(cranelist)-1]\n",
    "        \n",
    "        \n",
    "        #조건\n",
    "        for i in range(1,len(checklist)):\n",
    "            if checklist[i] <= cranelist[i] :\n",
    "                True \n",
    "            elif checklist[i] >= cranelist[i]:\n",
    "                False  \n",
    "        count+=1\n",
    "                #del해주기\n",
    "        del boxlist[0:len(cranelist)]\n",
    "        \n",
    "        \n",
    "        \n",
    "print(count)\n",
    "\n",
    "\n"
   ]
  },
  {
   "cell_type": "code",
   "execution_count": null,
   "id": "2d0f1f77",
   "metadata": {},
   "outputs": [],
   "source": []
  }
 ],
 "metadata": {
  "kernelspec": {
   "display_name": "Python 3 (ipykernel)",
   "language": "python",
   "name": "python3"
  },
  "language_info": {
   "codemirror_mode": {
    "name": "ipython",
    "version": 3
   },
   "file_extension": ".py",
   "mimetype": "text/x-python",
   "name": "python",
   "nbconvert_exporter": "python",
   "pygments_lexer": "ipython3",
   "version": "3.11.1"
  }
 },
 "nbformat": 4,
 "nbformat_minor": 5
}
