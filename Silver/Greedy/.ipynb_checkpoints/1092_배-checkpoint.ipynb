{
 "cells": [
  {
   "cell_type": "markdown",
   "id": "14a01595",
   "metadata": {},
   "source": [
    "## 해결방법\n",
    "1. 입력값 받아오기(해결)\n",
    "2. len(크레인리스트)만큼 box_list를 확인한다\n",
    "3. N>=box 이면 count+=1\n",
    "4. 1~3 반복\n",
    "\n"
   ]
  },
  {
   "cell_type": "code",
   "execution_count": 2,
   "id": "08218ce5",
   "metadata": {},
   "outputs": [
    {
     "name": "stdout",
     "output_type": "stream",
     "text": [
      "3\n",
      "6 8 9\n",
      "5\n",
      "2 5 2 4 7\n"
     ]
    }
   ],
   "source": [
    "########입력값 받아오기###########\n",
    "cranelist = []\n",
    "boxlist = []\n",
    "checklist=[]\n",
    "count=0\n",
    "\n",
    "N = int(input())\n",
    "cranelist = list(map(int,input().split()))\n",
    "cranelist.sort(reverse=True)\n",
    "\n",
    "M = int(input())\n",
    "boxlist = list(map(int,input().split()))\n",
    "boxlist.sort(reverse=True)\n"
   ]
  },
  {
   "cell_type": "code",
   "execution_count": 3,
   "id": "08f6ad7b",
   "metadata": {},
   "outputs": [
    {
     "name": "stdout",
     "output_type": "stream",
     "text": [
      "[9, 8, 6]\n",
      "[7, 5, 4, 2, 2]\n"
     ]
    }
   ],
   "source": [
    "print(cranelist)\n",
    "print(boxlist)"
   ]
  },
  {
   "cell_type": "code",
   "execution_count": 4,
   "id": "bc93a578",
   "metadata": {},
   "outputs": [
    {
     "name": "stdout",
     "output_type": "stream",
     "text": [
      "[7, 5]\n",
      "7\n",
      "9\n"
     ]
    }
   ],
   "source": [
    "checklist = boxlist[0:len(cranelist)-1]\n",
    "print(checklist)\n",
    "print(checklist[0])\n",
    "print(cranelist[0])"
   ]
  },
  {
   "cell_type": "code",
   "execution_count": 5,
   "id": "2e1b1d90",
   "metadata": {},
   "outputs": [
    {
     "name": "stdout",
     "output_type": "stream",
     "text": [
      "2\n"
     ]
    }
   ],
   "source": [
    "# import sys\n",
    "# input = sys.stdin.readline\n",
    "\n",
    "while len(boxlist)>0:\n",
    "        \n",
    "        #리스트원소 추출\n",
    "        \n",
    "        checklist = boxlist[0:len(cranelist)-1]\n",
    "        \n",
    "        \n",
    "        #조건\n",
    "        for i in range(1,len(checklist)):\n",
    "            if checklist[i] <= cranelist[i] :\n",
    "                True\n",
    "            elif checklist[i] >= cranelist[i]:\n",
    "                False  \n",
    "        count+=1\n",
    "                #del해주기\n",
    "        del boxlist[0:len(cranelist)]\n",
    "        \n",
    "        \n",
    "        \n",
    "print(count)\n",
    "\n",
    "\n"
   ]
  },
  {
   "cell_type": "code",
   "execution_count": null,
   "id": "80bcc015",
   "metadata": {},
   "outputs": [],
   "source": []
  }
 ],
 "metadata": {
  "kernelspec": {
   "display_name": "Python 3 (ipykernel)",
   "language": "python",
   "name": "python3"
  },
  "language_info": {
   "codemirror_mode": {
    "name": "ipython",
    "version": 3
   },
   "file_extension": ".py",
   "mimetype": "text/x-python",
   "name": "python",
   "nbconvert_exporter": "python",
   "pygments_lexer": "ipython3",
   "version": "3.11.1"
  }
 },
 "nbformat": 4,
 "nbformat_minor": 5
}
