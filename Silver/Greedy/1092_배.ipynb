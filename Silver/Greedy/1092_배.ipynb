{
 "cells": [
  {
   "cell_type": "markdown",
   "id": "14a01595",
   "metadata": {},
   "source": [
    "## 해결방법\n",
    "1. 입력값 받아오기(해결)\n",
    "2. len(크레인리스트)만큼 box_list를 확인한다\n",
    "3. N>=box 이면 count+=1\n",
    "4. 1~3 반복\n",
    "\n"
   ]
  },
  {
   "cell_type": "code",
   "execution_count": 25,
   "id": "08218ce5",
   "metadata": {},
   "outputs": [
    {
     "ename": "ValueError",
     "evalue": "invalid literal for int() with base 10: ''",
     "output_type": "error",
     "traceback": [
      "\u001b[0;31m---------------------------------------------------------------------------\u001b[0m",
      "\u001b[0;31mValueError\u001b[0m                                Traceback (most recent call last)",
      "Cell \u001b[0;32mIn[25], line 7\u001b[0m\n\u001b[1;32m      4\u001b[0m checklist\u001b[38;5;241m=\u001b[39m[]\n\u001b[1;32m      5\u001b[0m count\u001b[38;5;241m=\u001b[39m\u001b[38;5;241m0\u001b[39m\n\u001b[0;32m----> 7\u001b[0m N \u001b[38;5;241m=\u001b[39m \u001b[38;5;28;43mint\u001b[39;49m\u001b[43m(\u001b[49m\u001b[38;5;28;43minput\u001b[39;49m\u001b[43m(\u001b[49m\u001b[43m)\u001b[49m\u001b[43m)\u001b[49m\n\u001b[1;32m      8\u001b[0m cranelist \u001b[38;5;241m=\u001b[39m \u001b[38;5;28mlist\u001b[39m(\u001b[38;5;28mmap\u001b[39m(\u001b[38;5;28mint\u001b[39m,\u001b[38;5;28minput\u001b[39m()\u001b[38;5;241m.\u001b[39msplit()))\n\u001b[1;32m      9\u001b[0m cranelist\u001b[38;5;241m.\u001b[39msort(reverse\u001b[38;5;241m=\u001b[39m\u001b[38;5;28;01mTrue\u001b[39;00m)\n",
      "\u001b[0;31mValueError\u001b[0m: invalid literal for int() with base 10: ''"
     ]
    }
   ],
   "source": [
    "########입력값 받아오기###########\n",
    "cranelist = []\n",
    "boxlist = []\n",
    "checklist=[]\n",
    "count=0\n",
    "\n",
    "N = int(input())\n",
    "cranelist = list(map(int,input().split()))\n",
    "cranelist.sort(reverse=True)\n",
    "\n",
    "M = int(input())\n",
    "boxlist = list(map(int,input().split()))\n",
    "boxlist.sort(reverse=True)\n"
   ]
  },
  {
   "cell_type": "code",
   "execution_count": 21,
   "id": "08f6ad7b",
   "metadata": {},
   "outputs": [
    {
     "name": "stdout",
     "output_type": "stream",
     "text": [
      "[]\n",
      "[]\n"
     ]
    }
   ],
   "source": [
    "print(cranelist)\n",
    "print(boxlist)"
   ]
  },
  {
   "cell_type": "code",
   "execution_count": 22,
   "id": "bc93a578",
   "metadata": {},
   "outputs": [
    {
     "name": "stdout",
     "output_type": "stream",
     "text": [
      "[]\n"
     ]
    },
    {
     "ename": "IndexError",
     "evalue": "list index out of range",
     "output_type": "error",
     "traceback": [
      "\u001b[0;31m---------------------------------------------------------------------------\u001b[0m",
      "\u001b[0;31mIndexError\u001b[0m                                Traceback (most recent call last)",
      "Cell \u001b[0;32mIn[22], line 3\u001b[0m\n\u001b[1;32m      1\u001b[0m checklist \u001b[38;5;241m=\u001b[39m boxlist[\u001b[38;5;241m0\u001b[39m:\u001b[38;5;28mlen\u001b[39m(cranelist)\u001b[38;5;241m-\u001b[39m\u001b[38;5;241m1\u001b[39m]\n\u001b[1;32m      2\u001b[0m \u001b[38;5;28mprint\u001b[39m(checklist)\n\u001b[0;32m----> 3\u001b[0m \u001b[38;5;28mprint\u001b[39m(\u001b[43mchecklist\u001b[49m\u001b[43m[\u001b[49m\u001b[38;5;241;43m0\u001b[39;49m\u001b[43m]\u001b[49m)\n\u001b[1;32m      4\u001b[0m \u001b[38;5;28mprint\u001b[39m(cranelist[\u001b[38;5;241m0\u001b[39m])\n",
      "\u001b[0;31mIndexError\u001b[0m: list index out of range"
     ]
    }
   ],
   "source": [
    "checklist = boxlist[0:len(cranelist)-1]\n",
    "print(checklist)\n",
    "print(checklist[0])\n",
    "print(cranelist[0])"
   ]
  },
  {
   "cell_type": "code",
   "execution_count": 23,
   "id": "2e1b1d90",
   "metadata": {},
   "outputs": [
    {
     "name": "stdout",
     "output_type": "stream",
     "text": [
      "0\n"
     ]
    }
   ],
   "source": [
    "import sys\n",
    "input = sys.stdin.readline\n",
    "\n",
    "while len(boxlist)>0:\n",
    "        \n",
    "        #리스트원소 추출\n",
    "        \n",
    "        checklist = boxlist[0:len(cranelist)-1]\n",
    "        \n",
    "        \n",
    "        #조건\n",
    "        for i in range(1,len(checklist)):\n",
    "            if checklist[i] <= cranelist[i] :\n",
    "                True\n",
    "            elif checklist[i] >= cranelist[i]:\n",
    "                False  \n",
    "        count+=1\n",
    "                #del해주기\n",
    "        del boxlist[0:len(cranelist)]\n",
    "        \n",
    "        \n",
    "        \n",
    "print(count)\n",
    "\n",
    "\n"
   ]
  },
  {
   "cell_type": "code",
   "execution_count": null,
   "id": "80bcc015",
   "metadata": {},
   "outputs": [],
   "source": []
  }
 ],
 "metadata": {
  "kernelspec": {
   "display_name": "Python 3 (ipykernel)",
   "language": "python",
   "name": "python3"
  },
  "language_info": {
   "codemirror_mode": {
    "name": "ipython",
    "version": 3
   },
   "file_extension": ".py",
   "mimetype": "text/x-python",
   "name": "python",
   "nbconvert_exporter": "python",
   "pygments_lexer": "ipython3",
   "version": "3.11.1"
  }
 },
 "nbformat": 4,
 "nbformat_minor": 5
}
