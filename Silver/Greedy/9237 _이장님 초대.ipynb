{
 "cells": [
  {
   "cell_type": "code",
   "execution_count": 1,
   "id": "68e7401f",
   "metadata": {},
   "outputs": [
    {
     "name": "stdout",
     "output_type": "stream",
     "text": [
      "6\n",
      "39 38 9 35 39 20\n",
      "42\n"
     ]
    }
   ],
   "source": [
    "N = int(input())\n",
    "tree = list(map(int,input().split()))\n",
    "maxValue = max(tree)\n",
    "dday = maxValue + 3 #나무심는기간+이장님은다음날옴+시작은1일\n",
    "print(dday)"
   ]
  },
  {
   "cell_type": "code",
   "execution_count": null,
   "id": "4987c34b",
   "metadata": {},
   "outputs": [],
   "source": []
  }
 ],
 "metadata": {
  "kernelspec": {
   "display_name": "Python 3 (ipykernel)",
   "language": "python",
   "name": "python3"
  },
  "language_info": {
   "codemirror_mode": {
    "name": "ipython",
    "version": 3
   },
   "file_extension": ".py",
   "mimetype": "text/x-python",
   "name": "python",
   "nbconvert_exporter": "python",
   "pygments_lexer": "ipython3",
   "version": "3.11.1"
  }
 },
 "nbformat": 4,
 "nbformat_minor": 5
}
