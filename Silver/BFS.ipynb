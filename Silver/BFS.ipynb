{
 "cells": [
  {
   "cell_type": "code",
   "execution_count": null,
   "id": "a0dbd811",
   "metadata": {},
   "outputs": [],
   "source": [
    "N, M, V = map(int, input().split())"
   ]
  },
  {
   "cell_type": "code",
   "execution_count": null,
   "id": "0cbad424",
   "metadata": {},
   "outputs": [],
   "source": [
    "matrix = [[0]*(N+1) for i in range(N+1)]"
   ]
  },
  {
   "cell_type": "code",
   "execution_count": null,
   "id": "0782f45a",
   "metadata": {},
   "outputs": [],
   "source": [
    "visited = [0]*(N+1)"
   ]
  },
  {
   "cell_type": "code",
   "execution_count": null,
   "id": "0fdc2d66",
   "metadata": {},
   "outputs": [],
   "source": [
    "for i in range(M):\n",
    "    startnode, endnode = map(int, input().split())\n",
    "    matrix[startnode][endnode] = matrix[endnode][startnode] = 1"
   ]
  },
  {
   "cell_type": "code",
   "execution_count": null,
   "id": "3d0ed40d",
   "metadata": {},
   "outputs": [],
   "source": [
    "def bfs(V):\n",
    "    queue = [V]\n",
    "    visited[V] = 1\n",
    "    print(V,end=' ')\n",
    "    for i in range(1,N+1):\n",
    "        if(visited[i] == 0 and matrix[V][i] == 1)\n",
    "        queue.append(i)\n",
    "        visited[i] = 1\n",
    "        "
   ]
  },
  {
   "cell_type": "code",
   "execution_count": null,
   "id": "723e8680",
   "metadata": {},
   "outputs": [],
   "source": [
    "bfs(V)\n",
    "print()"
   ]
  },
  {
   "cell_type": "code",
   "execution_count": null,
   "id": "0e8d2f21",
   "metadata": {},
   "outputs": [],
   "source": []
  }
 ],
 "metadata": {
  "kernelspec": {
   "display_name": "Python 3 (ipykernel)",
   "language": "python",
   "name": "python3"
  },
  "language_info": {
   "codemirror_mode": {
    "name": "ipython",
    "version": 3
   },
   "file_extension": ".py",
   "mimetype": "text/x-python",
   "name": "python",
   "nbconvert_exporter": "python",
   "pygments_lexer": "ipython3",
   "version": "3.11.1"
  }
 },
 "nbformat": 4,
 "nbformat_minor": 5
}
